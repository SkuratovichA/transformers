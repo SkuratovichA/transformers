{
  "nbformat": 4,
  "nbformat_minor": 0,
  "metadata": {
    "accelerator": "GPU",
    "colab": {
      "name": "Copy of Fine-Tune XLS-R on Common Voice.ipynb",
      "provenance": [],
      "collapsed_sections": [],
      "toc_visible": true,
      "machine_shape": "hm"
    },
    "kernelspec": {
      "display_name": "Python 3",
      "name": "python3"
    },
    "widgets": {
      "application/vnd.jupyter.widget-state+json": {
        "a8929a80367a4f46939ecb3b35872799": {
          "model_module": "@jupyter-widgets/controls",
          "model_name": "VBoxModel",
          "model_module_version": "1.5.0",
          "state": {
            "_view_name": "VBoxView",
            "_dom_classes": [],
            "_model_name": "VBoxModel",
            "_view_module": "@jupyter-widgets/controls",
            "_model_module_version": "1.5.0",
            "_view_count": null,
            "_view_module_version": "1.5.0",
            "box_style": "",
            "layout": "IPY_MODEL_f2ba46ff216a485d877da54ce72b4019",
            "_model_module": "@jupyter-widgets/controls",
            "children": [
              "IPY_MODEL_6de16a97cbfe4a6b9dc323eaf3b1e0f5",
              "IPY_MODEL_a4fa79b401d54d119e2eaa81a7f046b0",
              "IPY_MODEL_103ef42ea9924d05a1d75403b49bf779"
            ]
          }
        },
        "f2ba46ff216a485d877da54ce72b4019": {
          "model_module": "@jupyter-widgets/base",
          "model_name": "LayoutModel",
          "model_module_version": "1.2.0",
          "state": {
            "_view_name": "LayoutView",
            "grid_template_rows": null,
            "right": null,
            "justify_content": null,
            "_view_module": "@jupyter-widgets/base",
            "overflow": null,
            "_model_module_version": "1.2.0",
            "_view_count": null,
            "flex_flow": "column",
            "width": "50%",
            "min_width": null,
            "border": null,
            "align_items": "center",
            "bottom": null,
            "_model_module": "@jupyter-widgets/base",
            "top": null,
            "grid_column": null,
            "overflow_y": null,
            "overflow_x": null,
            "grid_auto_flow": null,
            "grid_area": null,
            "grid_template_columns": null,
            "flex": null,
            "_model_name": "LayoutModel",
            "justify_items": null,
            "grid_row": null,
            "max_height": null,
            "align_content": null,
            "visibility": null,
            "align_self": null,
            "height": null,
            "min_height": null,
            "padding": null,
            "grid_auto_rows": null,
            "grid_gap": null,
            "max_width": null,
            "order": null,
            "_view_module_version": "1.2.0",
            "grid_template_areas": null,
            "object_position": null,
            "object_fit": null,
            "grid_auto_columns": null,
            "margin": null,
            "display": "flex",
            "left": null
          }
        },
        "6de16a97cbfe4a6b9dc323eaf3b1e0f5": {
          "model_module": "@jupyter-widgets/controls",
          "model_name": "HTMLModel",
          "model_module_version": "1.5.0",
          "state": {
            "_view_name": "HTMLView",
            "style": "IPY_MODEL_0c30b39d941847e298b3c8e439038ac8",
            "_dom_classes": [],
            "description": "",
            "_model_name": "HTMLModel",
            "placeholder": "​",
            "_view_module": "@jupyter-widgets/controls",
            "_model_module_version": "1.5.0",
            "value": "<center>\n<img src=https://huggingface.co/front/assets/huggingface_logo-noborder.svg alt='Hugging Face'>\n<br>\n<b>The AI community building the future</b>\n<br>\nImmediately click login after typing your password or it might be stored in plain text in this notebook file.\n</center>",
            "_view_count": null,
            "_view_module_version": "1.5.0",
            "description_tooltip": null,
            "_model_module": "@jupyter-widgets/controls",
            "layout": "IPY_MODEL_faf1370cb2d94f5289de305e9867c2bc"
          }
        },
        "a4fa79b401d54d119e2eaa81a7f046b0": {
          "model_module": "@jupyter-widgets/controls",
          "model_name": "HBoxModel",
          "model_module_version": "1.5.0",
          "state": {
            "_view_name": "HBoxView",
            "_dom_classes": [],
            "_model_name": "HBoxModel",
            "_view_module": "@jupyter-widgets/controls",
            "_model_module_version": "1.5.0",
            "_view_count": null,
            "_view_module_version": "1.5.0",
            "box_style": "",
            "layout": "IPY_MODEL_4112f2f6e8d64d1995462d02330535a8",
            "_model_module": "@jupyter-widgets/controls",
            "children": [
              "IPY_MODEL_dffda7d1c72b49b2b1f0d432c03f7cf0",
              "IPY_MODEL_dee53a58f45b4545bb92f0f0f3185f49"
            ]
          }
        },
        "103ef42ea9924d05a1d75403b49bf779": {
          "model_module": "@jupyter-widgets/controls",
          "model_name": "ButtonModel",
          "model_module_version": "1.5.0",
          "state": {
            "_view_name": "ButtonView",
            "style": "IPY_MODEL_05ec205082e6469681ea83f38700a11d",
            "_dom_classes": [],
            "description": "Login",
            "_model_name": "ButtonModel",
            "button_style": "",
            "_view_module": "@jupyter-widgets/controls",
            "_model_module_version": "1.5.0",
            "tooltip": "",
            "_view_count": null,
            "disabled": false,
            "_view_module_version": "1.5.0",
            "layout": "IPY_MODEL_5be07d41e3e848cf82eef3320c09cf34",
            "_model_module": "@jupyter-widgets/controls",
            "icon": ""
          }
        },
        "0c30b39d941847e298b3c8e439038ac8": {
          "model_module": "@jupyter-widgets/controls",
          "model_name": "DescriptionStyleModel",
          "model_module_version": "1.5.0",
          "state": {
            "_view_name": "StyleView",
            "_model_name": "DescriptionStyleModel",
            "description_width": "",
            "_view_module": "@jupyter-widgets/base",
            "_model_module_version": "1.5.0",
            "_view_count": null,
            "_view_module_version": "1.2.0",
            "_model_module": "@jupyter-widgets/controls"
          }
        },
        "faf1370cb2d94f5289de305e9867c2bc": {
          "model_module": "@jupyter-widgets/base",
          "model_name": "LayoutModel",
          "model_module_version": "1.2.0",
          "state": {
            "_view_name": "LayoutView",
            "grid_template_rows": null,
            "right": null,
            "justify_content": null,
            "_view_module": "@jupyter-widgets/base",
            "overflow": null,
            "_model_module_version": "1.2.0",
            "_view_count": null,
            "flex_flow": null,
            "width": null,
            "min_width": null,
            "border": null,
            "align_items": null,
            "bottom": null,
            "_model_module": "@jupyter-widgets/base",
            "top": null,
            "grid_column": null,
            "overflow_y": null,
            "overflow_x": null,
            "grid_auto_flow": null,
            "grid_area": null,
            "grid_template_columns": null,
            "flex": null,
            "_model_name": "LayoutModel",
            "justify_items": null,
            "grid_row": null,
            "max_height": null,
            "align_content": null,
            "visibility": null,
            "align_self": null,
            "height": null,
            "min_height": null,
            "padding": null,
            "grid_auto_rows": null,
            "grid_gap": null,
            "max_width": null,
            "order": null,
            "_view_module_version": "1.2.0",
            "grid_template_areas": null,
            "object_position": null,
            "object_fit": null,
            "grid_auto_columns": null,
            "margin": null,
            "display": null,
            "left": null
          }
        },
        "4112f2f6e8d64d1995462d02330535a8": {
          "model_module": "@jupyter-widgets/base",
          "model_name": "LayoutModel",
          "model_module_version": "1.2.0",
          "state": {
            "_view_name": "LayoutView",
            "grid_template_rows": null,
            "right": null,
            "justify_content": null,
            "_view_module": "@jupyter-widgets/base",
            "overflow": null,
            "_model_module_version": "1.2.0",
            "_view_count": null,
            "flex_flow": null,
            "width": null,
            "min_width": null,
            "border": null,
            "align_items": null,
            "bottom": null,
            "_model_module": "@jupyter-widgets/base",
            "top": null,
            "grid_column": null,
            "overflow_y": null,
            "overflow_x": null,
            "grid_auto_flow": null,
            "grid_area": null,
            "grid_template_columns": null,
            "flex": null,
            "_model_name": "LayoutModel",
            "justify_items": null,
            "grid_row": null,
            "max_height": null,
            "align_content": null,
            "visibility": null,
            "align_self": null,
            "height": null,
            "min_height": null,
            "padding": null,
            "grid_auto_rows": null,
            "grid_gap": null,
            "max_width": null,
            "order": null,
            "_view_module_version": "1.2.0",
            "grid_template_areas": null,
            "object_position": null,
            "object_fit": null,
            "grid_auto_columns": null,
            "margin": null,
            "display": null,
            "left": null
          }
        },
        "dffda7d1c72b49b2b1f0d432c03f7cf0": {
          "model_module": "@jupyter-widgets/controls",
          "model_name": "TextModel",
          "model_module_version": "1.5.0",
          "state": {
            "_view_name": "TextView",
            "style": "IPY_MODEL_d03e7d0aa4074cff91a0e22ddff94dd6",
            "_dom_classes": [],
            "description": "Username:",
            "_model_name": "TextModel",
            "placeholder": "​",
            "_view_module": "@jupyter-widgets/controls",
            "_model_module_version": "1.5.0",
            "value": "skuratovich.aliaksandr@gmail.com",
            "_view_count": null,
            "disabled": false,
            "_view_module_version": "1.5.0",
            "continuous_update": true,
            "description_tooltip": null,
            "_model_module": "@jupyter-widgets/controls",
            "layout": "IPY_MODEL_608bee63039b46dcb81f49b30f215b9b"
          }
        },
        "dee53a58f45b4545bb92f0f0f3185f49": {
          "model_module": "@jupyter-widgets/controls",
          "model_name": "PasswordModel",
          "model_module_version": "1.5.0",
          "state": {
            "_view_name": "PasswordView",
            "style": "IPY_MODEL_3b7d88d137a949ab9d8d45047770f260",
            "_dom_classes": [],
            "description": "Password:",
            "_model_name": "PasswordModel",
            "placeholder": "​",
            "_view_module": "@jupyter-widgets/controls",
            "_model_module_version": "1.5.0",
            "value": "",
            "_view_count": null,
            "disabled": false,
            "_view_module_version": "1.5.0",
            "continuous_update": true,
            "description_tooltip": null,
            "_model_module": "@jupyter-widgets/controls",
            "layout": "IPY_MODEL_a23a8e5537f243a6853ec0b923916068"
          }
        },
        "05ec205082e6469681ea83f38700a11d": {
          "model_module": "@jupyter-widgets/controls",
          "model_name": "ButtonStyleModel",
          "model_module_version": "1.5.0",
          "state": {
            "_view_name": "StyleView",
            "_model_name": "ButtonStyleModel",
            "_view_module": "@jupyter-widgets/base",
            "_model_module_version": "1.5.0",
            "_view_count": null,
            "button_color": null,
            "font_weight": "",
            "_view_module_version": "1.2.0",
            "_model_module": "@jupyter-widgets/controls"
          }
        },
        "5be07d41e3e848cf82eef3320c09cf34": {
          "model_module": "@jupyter-widgets/base",
          "model_name": "LayoutModel",
          "model_module_version": "1.2.0",
          "state": {
            "_view_name": "LayoutView",
            "grid_template_rows": null,
            "right": null,
            "justify_content": null,
            "_view_module": "@jupyter-widgets/base",
            "overflow": null,
            "_model_module_version": "1.2.0",
            "_view_count": null,
            "flex_flow": null,
            "width": null,
            "min_width": null,
            "border": null,
            "align_items": null,
            "bottom": null,
            "_model_module": "@jupyter-widgets/base",
            "top": null,
            "grid_column": null,
            "overflow_y": null,
            "overflow_x": null,
            "grid_auto_flow": null,
            "grid_area": null,
            "grid_template_columns": null,
            "flex": null,
            "_model_name": "LayoutModel",
            "justify_items": null,
            "grid_row": null,
            "max_height": null,
            "align_content": null,
            "visibility": null,
            "align_self": null,
            "height": null,
            "min_height": null,
            "padding": null,
            "grid_auto_rows": null,
            "grid_gap": null,
            "max_width": null,
            "order": null,
            "_view_module_version": "1.2.0",
            "grid_template_areas": null,
            "object_position": null,
            "object_fit": null,
            "grid_auto_columns": null,
            "margin": null,
            "display": null,
            "left": null
          }
        },
        "d03e7d0aa4074cff91a0e22ddff94dd6": {
          "model_module": "@jupyter-widgets/controls",
          "model_name": "DescriptionStyleModel",
          "model_module_version": "1.5.0",
          "state": {
            "_view_name": "StyleView",
            "_model_name": "DescriptionStyleModel",
            "description_width": "",
            "_view_module": "@jupyter-widgets/base",
            "_model_module_version": "1.5.0",
            "_view_count": null,
            "_view_module_version": "1.2.0",
            "_model_module": "@jupyter-widgets/controls"
          }
        },
        "608bee63039b46dcb81f49b30f215b9b": {
          "model_module": "@jupyter-widgets/base",
          "model_name": "LayoutModel",
          "model_module_version": "1.2.0",
          "state": {
            "_view_name": "LayoutView",
            "grid_template_rows": null,
            "right": null,
            "justify_content": null,
            "_view_module": "@jupyter-widgets/base",
            "overflow": null,
            "_model_module_version": "1.2.0",
            "_view_count": null,
            "flex_flow": null,
            "width": null,
            "min_width": null,
            "border": null,
            "align_items": null,
            "bottom": null,
            "_model_module": "@jupyter-widgets/base",
            "top": null,
            "grid_column": null,
            "overflow_y": null,
            "overflow_x": null,
            "grid_auto_flow": null,
            "grid_area": null,
            "grid_template_columns": null,
            "flex": null,
            "_model_name": "LayoutModel",
            "justify_items": null,
            "grid_row": null,
            "max_height": null,
            "align_content": null,
            "visibility": null,
            "align_self": null,
            "height": null,
            "min_height": null,
            "padding": null,
            "grid_auto_rows": null,
            "grid_gap": null,
            "max_width": null,
            "order": null,
            "_view_module_version": "1.2.0",
            "grid_template_areas": null,
            "object_position": null,
            "object_fit": null,
            "grid_auto_columns": null,
            "margin": null,
            "display": null,
            "left": null
          }
        },
        "3b7d88d137a949ab9d8d45047770f260": {
          "model_module": "@jupyter-widgets/controls",
          "model_name": "DescriptionStyleModel",
          "model_module_version": "1.5.0",
          "state": {
            "_view_name": "StyleView",
            "_model_name": "DescriptionStyleModel",
            "description_width": "",
            "_view_module": "@jupyter-widgets/base",
            "_model_module_version": "1.5.0",
            "_view_count": null,
            "_view_module_version": "1.2.0",
            "_model_module": "@jupyter-widgets/controls"
          }
        },
        "a23a8e5537f243a6853ec0b923916068": {
          "model_module": "@jupyter-widgets/base",
          "model_name": "LayoutModel",
          "model_module_version": "1.2.0",
          "state": {
            "_view_name": "LayoutView",
            "grid_template_rows": null,
            "right": null,
            "justify_content": null,
            "_view_module": "@jupyter-widgets/base",
            "overflow": null,
            "_model_module_version": "1.2.0",
            "_view_count": null,
            "flex_flow": null,
            "width": null,
            "min_width": null,
            "border": null,
            "align_items": null,
            "bottom": null,
            "_model_module": "@jupyter-widgets/base",
            "top": null,
            "grid_column": null,
            "overflow_y": null,
            "overflow_x": null,
            "grid_auto_flow": null,
            "grid_area": null,
            "grid_template_columns": null,
            "flex": null,
            "_model_name": "LayoutModel",
            "justify_items": null,
            "grid_row": null,
            "max_height": null,
            "align_content": null,
            "visibility": null,
            "align_self": null,
            "height": null,
            "min_height": null,
            "padding": null,
            "grid_auto_rows": null,
            "grid_gap": null,
            "max_width": null,
            "order": null,
            "_view_module_version": "1.2.0",
            "grid_template_areas": null,
            "object_position": null,
            "object_fit": null,
            "grid_auto_columns": null,
            "margin": null,
            "display": null,
            "left": null
          }
        },
        "3bab337e1da74941ae28b99e28c26d1c": {
          "model_module": "@jupyter-widgets/controls",
          "model_name": "HBoxModel",
          "model_module_version": "1.5.0",
          "state": {
            "_view_name": "HBoxView",
            "_dom_classes": [],
            "_model_name": "HBoxModel",
            "_view_module": "@jupyter-widgets/controls",
            "_model_module_version": "1.5.0",
            "_view_count": null,
            "_view_module_version": "1.5.0",
            "box_style": "",
            "layout": "IPY_MODEL_eae6168ff09b40d1b40a63f61aa6e4dd",
            "_model_module": "@jupyter-widgets/controls",
            "children": [
              "IPY_MODEL_a974356dbbe246329afd645fa06e560e",
              "IPY_MODEL_0b741612442a4d57950d788e9731424f",
              "IPY_MODEL_2cca485ea2624d678093d738ee01b4d7"
            ]
          }
        },
        "eae6168ff09b40d1b40a63f61aa6e4dd": {
          "model_module": "@jupyter-widgets/base",
          "model_name": "LayoutModel",
          "model_module_version": "1.2.0",
          "state": {
            "_view_name": "LayoutView",
            "grid_template_rows": null,
            "right": null,
            "justify_content": null,
            "_view_module": "@jupyter-widgets/base",
            "overflow": null,
            "_model_module_version": "1.2.0",
            "_view_count": null,
            "flex_flow": null,
            "width": null,
            "min_width": null,
            "border": null,
            "align_items": null,
            "bottom": null,
            "_model_module": "@jupyter-widgets/base",
            "top": null,
            "grid_column": null,
            "overflow_y": null,
            "overflow_x": null,
            "grid_auto_flow": null,
            "grid_area": null,
            "grid_template_columns": null,
            "flex": null,
            "_model_name": "LayoutModel",
            "justify_items": null,
            "grid_row": null,
            "max_height": null,
            "align_content": null,
            "visibility": null,
            "align_self": null,
            "height": null,
            "min_height": null,
            "padding": null,
            "grid_auto_rows": null,
            "grid_gap": null,
            "max_width": null,
            "order": null,
            "_view_module_version": "1.2.0",
            "grid_template_areas": null,
            "object_position": null,
            "object_fit": null,
            "grid_auto_columns": null,
            "margin": null,
            "display": null,
            "left": null
          }
        },
        "a974356dbbe246329afd645fa06e560e": {
          "model_module": "@jupyter-widgets/controls",
          "model_name": "HTMLModel",
          "model_module_version": "1.5.0",
          "state": {
            "_view_name": "HTMLView",
            "style": "IPY_MODEL_707bd8fdfe574889ba9f613eeca2d91c",
            "_dom_classes": [],
            "description": "",
            "_model_name": "HTMLModel",
            "placeholder": "​",
            "_view_module": "@jupyter-widgets/controls",
            "_model_module_version": "1.5.0",
            "value": "",
            "_view_count": null,
            "_view_module_version": "1.5.0",
            "description_tooltip": null,
            "_model_module": "@jupyter-widgets/controls",
            "layout": "IPY_MODEL_70eab126eb864a078fad54ff175e9e5c"
          }
        },
        "0b741612442a4d57950d788e9731424f": {
          "model_module": "@jupyter-widgets/controls",
          "model_name": "FloatProgressModel",
          "model_module_version": "1.5.0",
          "state": {
            "_view_name": "ProgressView",
            "style": "IPY_MODEL_5a566843598b4d6aa99dee50656f1075",
            "_dom_classes": [],
            "description": "",
            "_model_name": "FloatProgressModel",
            "bar_style": "success",
            "max": 1,
            "_view_module": "@jupyter-widgets/controls",
            "_model_module_version": "1.5.0",
            "value": 1,
            "_view_count": null,
            "_view_module_version": "1.5.0",
            "orientation": "horizontal",
            "min": 0,
            "description_tooltip": null,
            "_model_module": "@jupyter-widgets/controls",
            "layout": "IPY_MODEL_3e8b347ec7804d3681188a59fdf2bd6a"
          }
        },
        "2cca485ea2624d678093d738ee01b4d7": {
          "model_module": "@jupyter-widgets/controls",
          "model_name": "HTMLModel",
          "model_module_version": "1.5.0",
          "state": {
            "_view_name": "HTMLView",
            "style": "IPY_MODEL_a45a77feff974529b81342e4008b23dd",
            "_dom_classes": [],
            "description": "",
            "_model_name": "HTMLModel",
            "placeholder": "​",
            "_view_module": "@jupyter-widgets/controls",
            "_model_module_version": "1.5.0",
            "value": " 9773/? [00:03&lt;00:00, 2706.82ex/s]",
            "_view_count": null,
            "_view_module_version": "1.5.0",
            "description_tooltip": null,
            "_model_module": "@jupyter-widgets/controls",
            "layout": "IPY_MODEL_49c105bbd5e24ec28c2ee644222fc97b"
          }
        },
        "707bd8fdfe574889ba9f613eeca2d91c": {
          "model_module": "@jupyter-widgets/controls",
          "model_name": "DescriptionStyleModel",
          "model_module_version": "1.5.0",
          "state": {
            "_view_name": "StyleView",
            "_model_name": "DescriptionStyleModel",
            "description_width": "",
            "_view_module": "@jupyter-widgets/base",
            "_model_module_version": "1.5.0",
            "_view_count": null,
            "_view_module_version": "1.2.0",
            "_model_module": "@jupyter-widgets/controls"
          }
        },
        "70eab126eb864a078fad54ff175e9e5c": {
          "model_module": "@jupyter-widgets/base",
          "model_name": "LayoutModel",
          "model_module_version": "1.2.0",
          "state": {
            "_view_name": "LayoutView",
            "grid_template_rows": null,
            "right": null,
            "justify_content": null,
            "_view_module": "@jupyter-widgets/base",
            "overflow": null,
            "_model_module_version": "1.2.0",
            "_view_count": null,
            "flex_flow": null,
            "width": null,
            "min_width": null,
            "border": null,
            "align_items": null,
            "bottom": null,
            "_model_module": "@jupyter-widgets/base",
            "top": null,
            "grid_column": null,
            "overflow_y": null,
            "overflow_x": null,
            "grid_auto_flow": null,
            "grid_area": null,
            "grid_template_columns": null,
            "flex": null,
            "_model_name": "LayoutModel",
            "justify_items": null,
            "grid_row": null,
            "max_height": null,
            "align_content": null,
            "visibility": null,
            "align_self": null,
            "height": null,
            "min_height": null,
            "padding": null,
            "grid_auto_rows": null,
            "grid_gap": null,
            "max_width": null,
            "order": null,
            "_view_module_version": "1.2.0",
            "grid_template_areas": null,
            "object_position": null,
            "object_fit": null,
            "grid_auto_columns": null,
            "margin": null,
            "display": null,
            "left": null
          }
        },
        "5a566843598b4d6aa99dee50656f1075": {
          "model_module": "@jupyter-widgets/controls",
          "model_name": "ProgressStyleModel",
          "model_module_version": "1.5.0",
          "state": {
            "_view_name": "StyleView",
            "_model_name": "ProgressStyleModel",
            "description_width": "",
            "_view_module": "@jupyter-widgets/base",
            "_model_module_version": "1.5.0",
            "_view_count": null,
            "_view_module_version": "1.2.0",
            "bar_color": null,
            "_model_module": "@jupyter-widgets/controls"
          }
        },
        "3e8b347ec7804d3681188a59fdf2bd6a": {
          "model_module": "@jupyter-widgets/base",
          "model_name": "LayoutModel",
          "model_module_version": "1.2.0",
          "state": {
            "_view_name": "LayoutView",
            "grid_template_rows": null,
            "right": null,
            "justify_content": null,
            "_view_module": "@jupyter-widgets/base",
            "overflow": null,
            "_model_module_version": "1.2.0",
            "_view_count": null,
            "flex_flow": null,
            "width": "20px",
            "min_width": null,
            "border": null,
            "align_items": null,
            "bottom": null,
            "_model_module": "@jupyter-widgets/base",
            "top": null,
            "grid_column": null,
            "overflow_y": null,
            "overflow_x": null,
            "grid_auto_flow": null,
            "grid_area": null,
            "grid_template_columns": null,
            "flex": null,
            "_model_name": "LayoutModel",
            "justify_items": null,
            "grid_row": null,
            "max_height": null,
            "align_content": null,
            "visibility": null,
            "align_self": null,
            "height": null,
            "min_height": null,
            "padding": null,
            "grid_auto_rows": null,
            "grid_gap": null,
            "max_width": null,
            "order": null,
            "_view_module_version": "1.2.0",
            "grid_template_areas": null,
            "object_position": null,
            "object_fit": null,
            "grid_auto_columns": null,
            "margin": null,
            "display": null,
            "left": null
          }
        },
        "a45a77feff974529b81342e4008b23dd": {
          "model_module": "@jupyter-widgets/controls",
          "model_name": "DescriptionStyleModel",
          "model_module_version": "1.5.0",
          "state": {
            "_view_name": "StyleView",
            "_model_name": "DescriptionStyleModel",
            "description_width": "",
            "_view_module": "@jupyter-widgets/base",
            "_model_module_version": "1.5.0",
            "_view_count": null,
            "_view_module_version": "1.2.0",
            "_model_module": "@jupyter-widgets/controls"
          }
        },
        "49c105bbd5e24ec28c2ee644222fc97b": {
          "model_module": "@jupyter-widgets/base",
          "model_name": "LayoutModel",
          "model_module_version": "1.2.0",
          "state": {
            "_view_name": "LayoutView",
            "grid_template_rows": null,
            "right": null,
            "justify_content": null,
            "_view_module": "@jupyter-widgets/base",
            "overflow": null,
            "_model_module_version": "1.2.0",
            "_view_count": null,
            "flex_flow": null,
            "width": null,
            "min_width": null,
            "border": null,
            "align_items": null,
            "bottom": null,
            "_model_module": "@jupyter-widgets/base",
            "top": null,
            "grid_column": null,
            "overflow_y": null,
            "overflow_x": null,
            "grid_auto_flow": null,
            "grid_area": null,
            "grid_template_columns": null,
            "flex": null,
            "_model_name": "LayoutModel",
            "justify_items": null,
            "grid_row": null,
            "max_height": null,
            "align_content": null,
            "visibility": null,
            "align_self": null,
            "height": null,
            "min_height": null,
            "padding": null,
            "grid_auto_rows": null,
            "grid_gap": null,
            "max_width": null,
            "order": null,
            "_view_module_version": "1.2.0",
            "grid_template_areas": null,
            "object_position": null,
            "object_fit": null,
            "grid_auto_columns": null,
            "margin": null,
            "display": null,
            "left": null
          }
        },
        "6392bd0eb0014e13a48872bc600349a2": {
          "model_module": "@jupyter-widgets/controls",
          "model_name": "HBoxModel",
          "model_module_version": "1.5.0",
          "state": {
            "_view_name": "HBoxView",
            "_dom_classes": [],
            "_model_name": "HBoxModel",
            "_view_module": "@jupyter-widgets/controls",
            "_model_module_version": "1.5.0",
            "_view_count": null,
            "_view_module_version": "1.5.0",
            "box_style": "",
            "layout": "IPY_MODEL_4747848ecfe948e3a91413b8848b098f",
            "_model_module": "@jupyter-widgets/controls",
            "children": [
              "IPY_MODEL_1caf784379ce4676baf90ed8ef475079",
              "IPY_MODEL_15b0737c539b4243b824ddbe8e0d0f66",
              "IPY_MODEL_d7b1cbce56d449108e0ed53b073faf05"
            ]
          }
        },
        "4747848ecfe948e3a91413b8848b098f": {
          "model_module": "@jupyter-widgets/base",
          "model_name": "LayoutModel",
          "model_module_version": "1.2.0",
          "state": {
            "_view_name": "LayoutView",
            "grid_template_rows": null,
            "right": null,
            "justify_content": null,
            "_view_module": "@jupyter-widgets/base",
            "overflow": null,
            "_model_module_version": "1.2.0",
            "_view_count": null,
            "flex_flow": null,
            "width": null,
            "min_width": null,
            "border": null,
            "align_items": null,
            "bottom": null,
            "_model_module": "@jupyter-widgets/base",
            "top": null,
            "grid_column": null,
            "overflow_y": null,
            "overflow_x": null,
            "grid_auto_flow": null,
            "grid_area": null,
            "grid_template_columns": null,
            "flex": null,
            "_model_name": "LayoutModel",
            "justify_items": null,
            "grid_row": null,
            "max_height": null,
            "align_content": null,
            "visibility": null,
            "align_self": null,
            "height": null,
            "min_height": null,
            "padding": null,
            "grid_auto_rows": null,
            "grid_gap": null,
            "max_width": null,
            "order": null,
            "_view_module_version": "1.2.0",
            "grid_template_areas": null,
            "object_position": null,
            "object_fit": null,
            "grid_auto_columns": null,
            "margin": null,
            "display": null,
            "left": null
          }
        },
        "1caf784379ce4676baf90ed8ef475079": {
          "model_module": "@jupyter-widgets/controls",
          "model_name": "HTMLModel",
          "model_module_version": "1.5.0",
          "state": {
            "_view_name": "HTMLView",
            "style": "IPY_MODEL_ff9286cfff0642fdbbab7a4c97143f2b",
            "_dom_classes": [],
            "description": "",
            "_model_name": "HTMLModel",
            "placeholder": "​",
            "_view_module": "@jupyter-widgets/controls",
            "_model_module_version": "1.5.0",
            "value": "",
            "_view_count": null,
            "_view_module_version": "1.5.0",
            "description_tooltip": null,
            "_model_module": "@jupyter-widgets/controls",
            "layout": "IPY_MODEL_084aa4593728403fa2e7ee8ac97ce701"
          }
        },
        "15b0737c539b4243b824ddbe8e0d0f66": {
          "model_module": "@jupyter-widgets/controls",
          "model_name": "FloatProgressModel",
          "model_module_version": "1.5.0",
          "state": {
            "_view_name": "ProgressView",
            "style": "IPY_MODEL_e511ecfa38b745cda7d254d095bc8a57",
            "_dom_classes": [],
            "description": "",
            "_model_name": "FloatProgressModel",
            "bar_style": "success",
            "max": 1,
            "_view_module": "@jupyter-widgets/controls",
            "_model_module_version": "1.5.0",
            "value": 1,
            "_view_count": null,
            "_view_module_version": "1.5.0",
            "orientation": "horizontal",
            "min": 0,
            "description_tooltip": null,
            "_model_module": "@jupyter-widgets/controls",
            "layout": "IPY_MODEL_74891edc46c54c8f846071fbde02f546"
          }
        },
        "d7b1cbce56d449108e0ed53b073faf05": {
          "model_module": "@jupyter-widgets/controls",
          "model_name": "HTMLModel",
          "model_module_version": "1.5.0",
          "state": {
            "_view_name": "HTMLView",
            "style": "IPY_MODEL_2785986579f4466c91cb76fde5f1effa",
            "_dom_classes": [],
            "description": "",
            "_model_name": "HTMLModel",
            "placeholder": "​",
            "_view_module": "@jupyter-widgets/controls",
            "_model_module_version": "1.5.0",
            "value": " 4144/? [00:01&lt;00:00, 3862.93ex/s]",
            "_view_count": null,
            "_view_module_version": "1.5.0",
            "description_tooltip": null,
            "_model_module": "@jupyter-widgets/controls",
            "layout": "IPY_MODEL_8bf9a10efcea4ad28cd383d000f18056"
          }
        },
        "ff9286cfff0642fdbbab7a4c97143f2b": {
          "model_module": "@jupyter-widgets/controls",
          "model_name": "DescriptionStyleModel",
          "model_module_version": "1.5.0",
          "state": {
            "_view_name": "StyleView",
            "_model_name": "DescriptionStyleModel",
            "description_width": "",
            "_view_module": "@jupyter-widgets/base",
            "_model_module_version": "1.5.0",
            "_view_count": null,
            "_view_module_version": "1.2.0",
            "_model_module": "@jupyter-widgets/controls"
          }
        },
        "084aa4593728403fa2e7ee8ac97ce701": {
          "model_module": "@jupyter-widgets/base",
          "model_name": "LayoutModel",
          "model_module_version": "1.2.0",
          "state": {
            "_view_name": "LayoutView",
            "grid_template_rows": null,
            "right": null,
            "justify_content": null,
            "_view_module": "@jupyter-widgets/base",
            "overflow": null,
            "_model_module_version": "1.2.0",
            "_view_count": null,
            "flex_flow": null,
            "width": null,
            "min_width": null,
            "border": null,
            "align_items": null,
            "bottom": null,
            "_model_module": "@jupyter-widgets/base",
            "top": null,
            "grid_column": null,
            "overflow_y": null,
            "overflow_x": null,
            "grid_auto_flow": null,
            "grid_area": null,
            "grid_template_columns": null,
            "flex": null,
            "_model_name": "LayoutModel",
            "justify_items": null,
            "grid_row": null,
            "max_height": null,
            "align_content": null,
            "visibility": null,
            "align_self": null,
            "height": null,
            "min_height": null,
            "padding": null,
            "grid_auto_rows": null,
            "grid_gap": null,
            "max_width": null,
            "order": null,
            "_view_module_version": "1.2.0",
            "grid_template_areas": null,
            "object_position": null,
            "object_fit": null,
            "grid_auto_columns": null,
            "margin": null,
            "display": null,
            "left": null
          }
        },
        "e511ecfa38b745cda7d254d095bc8a57": {
          "model_module": "@jupyter-widgets/controls",
          "model_name": "ProgressStyleModel",
          "model_module_version": "1.5.0",
          "state": {
            "_view_name": "StyleView",
            "_model_name": "ProgressStyleModel",
            "description_width": "",
            "_view_module": "@jupyter-widgets/base",
            "_model_module_version": "1.5.0",
            "_view_count": null,
            "_view_module_version": "1.2.0",
            "bar_color": null,
            "_model_module": "@jupyter-widgets/controls"
          }
        },
        "74891edc46c54c8f846071fbde02f546": {
          "model_module": "@jupyter-widgets/base",
          "model_name": "LayoutModel",
          "model_module_version": "1.2.0",
          "state": {
            "_view_name": "LayoutView",
            "grid_template_rows": null,
            "right": null,
            "justify_content": null,
            "_view_module": "@jupyter-widgets/base",
            "overflow": null,
            "_model_module_version": "1.2.0",
            "_view_count": null,
            "flex_flow": null,
            "width": "20px",
            "min_width": null,
            "border": null,
            "align_items": null,
            "bottom": null,
            "_model_module": "@jupyter-widgets/base",
            "top": null,
            "grid_column": null,
            "overflow_y": null,
            "overflow_x": null,
            "grid_auto_flow": null,
            "grid_area": null,
            "grid_template_columns": null,
            "flex": null,
            "_model_name": "LayoutModel",
            "justify_items": null,
            "grid_row": null,
            "max_height": null,
            "align_content": null,
            "visibility": null,
            "align_self": null,
            "height": null,
            "min_height": null,
            "padding": null,
            "grid_auto_rows": null,
            "grid_gap": null,
            "max_width": null,
            "order": null,
            "_view_module_version": "1.2.0",
            "grid_template_areas": null,
            "object_position": null,
            "object_fit": null,
            "grid_auto_columns": null,
            "margin": null,
            "display": null,
            "left": null
          }
        },
        "2785986579f4466c91cb76fde5f1effa": {
          "model_module": "@jupyter-widgets/controls",
          "model_name": "DescriptionStyleModel",
          "model_module_version": "1.5.0",
          "state": {
            "_view_name": "StyleView",
            "_model_name": "DescriptionStyleModel",
            "description_width": "",
            "_view_module": "@jupyter-widgets/base",
            "_model_module_version": "1.5.0",
            "_view_count": null,
            "_view_module_version": "1.2.0",
            "_model_module": "@jupyter-widgets/controls"
          }
        },
        "8bf9a10efcea4ad28cd383d000f18056": {
          "model_module": "@jupyter-widgets/base",
          "model_name": "LayoutModel",
          "model_module_version": "1.2.0",
          "state": {
            "_view_name": "LayoutView",
            "grid_template_rows": null,
            "right": null,
            "justify_content": null,
            "_view_module": "@jupyter-widgets/base",
            "overflow": null,
            "_model_module_version": "1.2.0",
            "_view_count": null,
            "flex_flow": null,
            "width": null,
            "min_width": null,
            "border": null,
            "align_items": null,
            "bottom": null,
            "_model_module": "@jupyter-widgets/base",
            "top": null,
            "grid_column": null,
            "overflow_y": null,
            "overflow_x": null,
            "grid_auto_flow": null,
            "grid_area": null,
            "grid_template_columns": null,
            "flex": null,
            "_model_name": "LayoutModel",
            "justify_items": null,
            "grid_row": null,
            "max_height": null,
            "align_content": null,
            "visibility": null,
            "align_self": null,
            "height": null,
            "min_height": null,
            "padding": null,
            "grid_auto_rows": null,
            "grid_gap": null,
            "max_width": null,
            "order": null,
            "_view_module_version": "1.2.0",
            "grid_template_areas": null,
            "object_position": null,
            "object_fit": null,
            "grid_auto_columns": null,
            "margin": null,
            "display": null,
            "left": null
          }
        },
        "82b3815b95be44e8b98e4a499fc7c49b": {
          "model_module": "@jupyter-widgets/controls",
          "model_name": "HBoxModel",
          "model_module_version": "1.5.0",
          "state": {
            "_view_name": "HBoxView",
            "_dom_classes": [],
            "_model_name": "HBoxModel",
            "_view_module": "@jupyter-widgets/controls",
            "_model_module_version": "1.5.0",
            "_view_count": null,
            "_view_module_version": "1.5.0",
            "box_style": "",
            "layout": "IPY_MODEL_3857967a85e946c6a8b37dda3d4a043b",
            "_model_module": "@jupyter-widgets/controls",
            "children": [
              "IPY_MODEL_e1a8094a1aa643e9b8aea2e889901cbd",
              "IPY_MODEL_e64a135917064990821eaae97ea70f97",
              "IPY_MODEL_7a9e8bac9adc40aa88d9e0d15b78ef97"
            ]
          }
        },
        "3857967a85e946c6a8b37dda3d4a043b": {
          "model_module": "@jupyter-widgets/base",
          "model_name": "LayoutModel",
          "model_module_version": "1.2.0",
          "state": {
            "_view_name": "LayoutView",
            "grid_template_rows": null,
            "right": null,
            "justify_content": null,
            "_view_module": "@jupyter-widgets/base",
            "overflow": null,
            "_model_module_version": "1.2.0",
            "_view_count": null,
            "flex_flow": null,
            "width": null,
            "min_width": null,
            "border": null,
            "align_items": null,
            "bottom": null,
            "_model_module": "@jupyter-widgets/base",
            "top": null,
            "grid_column": null,
            "overflow_y": null,
            "overflow_x": null,
            "grid_auto_flow": null,
            "grid_area": null,
            "grid_template_columns": null,
            "flex": null,
            "_model_name": "LayoutModel",
            "justify_items": null,
            "grid_row": null,
            "max_height": null,
            "align_content": null,
            "visibility": null,
            "align_self": null,
            "height": null,
            "min_height": null,
            "padding": null,
            "grid_auto_rows": null,
            "grid_gap": null,
            "max_width": null,
            "order": null,
            "_view_module_version": "1.2.0",
            "grid_template_areas": null,
            "object_position": null,
            "object_fit": null,
            "grid_auto_columns": null,
            "margin": null,
            "display": null,
            "left": null
          }
        },
        "e1a8094a1aa643e9b8aea2e889901cbd": {
          "model_module": "@jupyter-widgets/controls",
          "model_name": "HTMLModel",
          "model_module_version": "1.5.0",
          "state": {
            "_view_name": "HTMLView",
            "style": "IPY_MODEL_a57c0d77b1dd42baa7905609dd97dffa",
            "_dom_classes": [],
            "description": "",
            "_model_name": "HTMLModel",
            "placeholder": "​",
            "_view_module": "@jupyter-widgets/controls",
            "_model_module_version": "1.5.0",
            "value": "",
            "_view_count": null,
            "_view_module_version": "1.5.0",
            "description_tooltip": null,
            "_model_module": "@jupyter-widgets/controls",
            "layout": "IPY_MODEL_0b49911768c04c9ca09bb80920b46b97"
          }
        },
        "e64a135917064990821eaae97ea70f97": {
          "model_module": "@jupyter-widgets/controls",
          "model_name": "FloatProgressModel",
          "model_module_version": "1.5.0",
          "state": {
            "_view_name": "ProgressView",
            "style": "IPY_MODEL_039f217d047043a3a057a77cee51ed11",
            "_dom_classes": [],
            "description": "",
            "_model_name": "FloatProgressModel",
            "bar_style": "success",
            "max": 1,
            "_view_module": "@jupyter-widgets/controls",
            "_model_module_version": "1.5.0",
            "value": 1,
            "_view_count": null,
            "_view_module_version": "1.5.0",
            "orientation": "horizontal",
            "min": 0,
            "description_tooltip": null,
            "_model_module": "@jupyter-widgets/controls",
            "layout": "IPY_MODEL_020ada565bd84126a515f9fa0779adb2"
          }
        },
        "7a9e8bac9adc40aa88d9e0d15b78ef97": {
          "model_module": "@jupyter-widgets/controls",
          "model_name": "HTMLModel",
          "model_module_version": "1.5.0",
          "state": {
            "_view_name": "HTMLView",
            "style": "IPY_MODEL_d15bb83d185e48159d7624294a9fba2f",
            "_dom_classes": [],
            "description": "",
            "_model_name": "HTMLModel",
            "placeholder": "​",
            "_view_module": "@jupyter-widgets/controls",
            "_model_module_version": "1.5.0",
            "value": " 9773/? [00:03&lt;00:00, 3134.06ex/s]",
            "_view_count": null,
            "_view_module_version": "1.5.0",
            "description_tooltip": null,
            "_model_module": "@jupyter-widgets/controls",
            "layout": "IPY_MODEL_48895592165d4930b3947005a3e1c3e1"
          }
        },
        "a57c0d77b1dd42baa7905609dd97dffa": {
          "model_module": "@jupyter-widgets/controls",
          "model_name": "DescriptionStyleModel",
          "model_module_version": "1.5.0",
          "state": {
            "_view_name": "StyleView",
            "_model_name": "DescriptionStyleModel",
            "description_width": "",
            "_view_module": "@jupyter-widgets/base",
            "_model_module_version": "1.5.0",
            "_view_count": null,
            "_view_module_version": "1.2.0",
            "_model_module": "@jupyter-widgets/controls"
          }
        },
        "0b49911768c04c9ca09bb80920b46b97": {
          "model_module": "@jupyter-widgets/base",
          "model_name": "LayoutModel",
          "model_module_version": "1.2.0",
          "state": {
            "_view_name": "LayoutView",
            "grid_template_rows": null,
            "right": null,
            "justify_content": null,
            "_view_module": "@jupyter-widgets/base",
            "overflow": null,
            "_model_module_version": "1.2.0",
            "_view_count": null,
            "flex_flow": null,
            "width": null,
            "min_width": null,
            "border": null,
            "align_items": null,
            "bottom": null,
            "_model_module": "@jupyter-widgets/base",
            "top": null,
            "grid_column": null,
            "overflow_y": null,
            "overflow_x": null,
            "grid_auto_flow": null,
            "grid_area": null,
            "grid_template_columns": null,
            "flex": null,
            "_model_name": "LayoutModel",
            "justify_items": null,
            "grid_row": null,
            "max_height": null,
            "align_content": null,
            "visibility": null,
            "align_self": null,
            "height": null,
            "min_height": null,
            "padding": null,
            "grid_auto_rows": null,
            "grid_gap": null,
            "max_width": null,
            "order": null,
            "_view_module_version": "1.2.0",
            "grid_template_areas": null,
            "object_position": null,
            "object_fit": null,
            "grid_auto_columns": null,
            "margin": null,
            "display": null,
            "left": null
          }
        },
        "039f217d047043a3a057a77cee51ed11": {
          "model_module": "@jupyter-widgets/controls",
          "model_name": "ProgressStyleModel",
          "model_module_version": "1.5.0",
          "state": {
            "_view_name": "StyleView",
            "_model_name": "ProgressStyleModel",
            "description_width": "",
            "_view_module": "@jupyter-widgets/base",
            "_model_module_version": "1.5.0",
            "_view_count": null,
            "_view_module_version": "1.2.0",
            "bar_color": null,
            "_model_module": "@jupyter-widgets/controls"
          }
        },
        "020ada565bd84126a515f9fa0779adb2": {
          "model_module": "@jupyter-widgets/base",
          "model_name": "LayoutModel",
          "model_module_version": "1.2.0",
          "state": {
            "_view_name": "LayoutView",
            "grid_template_rows": null,
            "right": null,
            "justify_content": null,
            "_view_module": "@jupyter-widgets/base",
            "overflow": null,
            "_model_module_version": "1.2.0",
            "_view_count": null,
            "flex_flow": null,
            "width": "20px",
            "min_width": null,
            "border": null,
            "align_items": null,
            "bottom": null,
            "_model_module": "@jupyter-widgets/base",
            "top": null,
            "grid_column": null,
            "overflow_y": null,
            "overflow_x": null,
            "grid_auto_flow": null,
            "grid_area": null,
            "grid_template_columns": null,
            "flex": null,
            "_model_name": "LayoutModel",
            "justify_items": null,
            "grid_row": null,
            "max_height": null,
            "align_content": null,
            "visibility": null,
            "align_self": null,
            "height": null,
            "min_height": null,
            "padding": null,
            "grid_auto_rows": null,
            "grid_gap": null,
            "max_width": null,
            "order": null,
            "_view_module_version": "1.2.0",
            "grid_template_areas": null,
            "object_position": null,
            "object_fit": null,
            "grid_auto_columns": null,
            "margin": null,
            "display": null,
            "left": null
          }
        },
        "d15bb83d185e48159d7624294a9fba2f": {
          "model_module": "@jupyter-widgets/controls",
          "model_name": "DescriptionStyleModel",
          "model_module_version": "1.5.0",
          "state": {
            "_view_name": "StyleView",
            "_model_name": "DescriptionStyleModel",
            "description_width": "",
            "_view_module": "@jupyter-widgets/base",
            "_model_module_version": "1.5.0",
            "_view_count": null,
            "_view_module_version": "1.2.0",
            "_model_module": "@jupyter-widgets/controls"
          }
        },
        "48895592165d4930b3947005a3e1c3e1": {
          "model_module": "@jupyter-widgets/base",
          "model_name": "LayoutModel",
          "model_module_version": "1.2.0",
          "state": {
            "_view_name": "LayoutView",
            "grid_template_rows": null,
            "right": null,
            "justify_content": null,
            "_view_module": "@jupyter-widgets/base",
            "overflow": null,
            "_model_module_version": "1.2.0",
            "_view_count": null,
            "flex_flow": null,
            "width": null,
            "min_width": null,
            "border": null,
            "align_items": null,
            "bottom": null,
            "_model_module": "@jupyter-widgets/base",
            "top": null,
            "grid_column": null,
            "overflow_y": null,
            "overflow_x": null,
            "grid_auto_flow": null,
            "grid_area": null,
            "grid_template_columns": null,
            "flex": null,
            "_model_name": "LayoutModel",
            "justify_items": null,
            "grid_row": null,
            "max_height": null,
            "align_content": null,
            "visibility": null,
            "align_self": null,
            "height": null,
            "min_height": null,
            "padding": null,
            "grid_auto_rows": null,
            "grid_gap": null,
            "max_width": null,
            "order": null,
            "_view_module_version": "1.2.0",
            "grid_template_areas": null,
            "object_position": null,
            "object_fit": null,
            "grid_auto_columns": null,
            "margin": null,
            "display": null,
            "left": null
          }
        },
        "330cc3fa750c4f7eb735e7db026829e9": {
          "model_module": "@jupyter-widgets/controls",
          "model_name": "HBoxModel",
          "model_module_version": "1.5.0",
          "state": {
            "_view_name": "HBoxView",
            "_dom_classes": [],
            "_model_name": "HBoxModel",
            "_view_module": "@jupyter-widgets/controls",
            "_model_module_version": "1.5.0",
            "_view_count": null,
            "_view_module_version": "1.5.0",
            "box_style": "",
            "layout": "IPY_MODEL_4ddf97b50b5a4e7ba069edd3c1fa41da",
            "_model_module": "@jupyter-widgets/controls",
            "children": [
              "IPY_MODEL_a09331c53a844befbf09c9ccf5369a24",
              "IPY_MODEL_3b361d0bddb04a7e9afccf44cb20a722",
              "IPY_MODEL_754f646450994e63b9cf385c9eb8e87e"
            ]
          }
        },
        "4ddf97b50b5a4e7ba069edd3c1fa41da": {
          "model_module": "@jupyter-widgets/base",
          "model_name": "LayoutModel",
          "model_module_version": "1.2.0",
          "state": {
            "_view_name": "LayoutView",
            "grid_template_rows": null,
            "right": null,
            "justify_content": null,
            "_view_module": "@jupyter-widgets/base",
            "overflow": null,
            "_model_module_version": "1.2.0",
            "_view_count": null,
            "flex_flow": null,
            "width": null,
            "min_width": null,
            "border": null,
            "align_items": null,
            "bottom": null,
            "_model_module": "@jupyter-widgets/base",
            "top": null,
            "grid_column": null,
            "overflow_y": null,
            "overflow_x": null,
            "grid_auto_flow": null,
            "grid_area": null,
            "grid_template_columns": null,
            "flex": null,
            "_model_name": "LayoutModel",
            "justify_items": null,
            "grid_row": null,
            "max_height": null,
            "align_content": null,
            "visibility": null,
            "align_self": null,
            "height": null,
            "min_height": null,
            "padding": null,
            "grid_auto_rows": null,
            "grid_gap": null,
            "max_width": null,
            "order": null,
            "_view_module_version": "1.2.0",
            "grid_template_areas": null,
            "object_position": null,
            "object_fit": null,
            "grid_auto_columns": null,
            "margin": null,
            "display": null,
            "left": null
          }
        },
        "a09331c53a844befbf09c9ccf5369a24": {
          "model_module": "@jupyter-widgets/controls",
          "model_name": "HTMLModel",
          "model_module_version": "1.5.0",
          "state": {
            "_view_name": "HTMLView",
            "style": "IPY_MODEL_de25b8bcc06c45138e110d524035055d",
            "_dom_classes": [],
            "description": "",
            "_model_name": "HTMLModel",
            "placeholder": "​",
            "_view_module": "@jupyter-widgets/controls",
            "_model_module_version": "1.5.0",
            "value": "",
            "_view_count": null,
            "_view_module_version": "1.5.0",
            "description_tooltip": null,
            "_model_module": "@jupyter-widgets/controls",
            "layout": "IPY_MODEL_b193937dd0a048979e1d94f129c8f5ca"
          }
        },
        "3b361d0bddb04a7e9afccf44cb20a722": {
          "model_module": "@jupyter-widgets/controls",
          "model_name": "FloatProgressModel",
          "model_module_version": "1.5.0",
          "state": {
            "_view_name": "ProgressView",
            "style": "IPY_MODEL_bcc6c6e2381e45ee88e423cb752ffca1",
            "_dom_classes": [],
            "description": "",
            "_model_name": "FloatProgressModel",
            "bar_style": "success",
            "max": 1,
            "_view_module": "@jupyter-widgets/controls",
            "_model_module_version": "1.5.0",
            "value": 1,
            "_view_count": null,
            "_view_module_version": "1.5.0",
            "orientation": "horizontal",
            "min": 0,
            "description_tooltip": null,
            "_model_module": "@jupyter-widgets/controls",
            "layout": "IPY_MODEL_217653e248654187a63d1af492bef6ee"
          }
        },
        "754f646450994e63b9cf385c9eb8e87e": {
          "model_module": "@jupyter-widgets/controls",
          "model_name": "HTMLModel",
          "model_module_version": "1.5.0",
          "state": {
            "_view_name": "HTMLView",
            "style": "IPY_MODEL_4f1786b995be4271a8e09ba660c6844b",
            "_dom_classes": [],
            "description": "",
            "_model_name": "HTMLModel",
            "placeholder": "​",
            "_view_module": "@jupyter-widgets/controls",
            "_model_module_version": "1.5.0",
            "value": " 4144/? [00:01&lt;00:00, 3434.42ex/s]",
            "_view_count": null,
            "_view_module_version": "1.5.0",
            "description_tooltip": null,
            "_model_module": "@jupyter-widgets/controls",
            "layout": "IPY_MODEL_943f2434338645cd87219bebf74c5184"
          }
        },
        "de25b8bcc06c45138e110d524035055d": {
          "model_module": "@jupyter-widgets/controls",
          "model_name": "DescriptionStyleModel",
          "model_module_version": "1.5.0",
          "state": {
            "_view_name": "StyleView",
            "_model_name": "DescriptionStyleModel",
            "description_width": "",
            "_view_module": "@jupyter-widgets/base",
            "_model_module_version": "1.5.0",
            "_view_count": null,
            "_view_module_version": "1.2.0",
            "_model_module": "@jupyter-widgets/controls"
          }
        },
        "b193937dd0a048979e1d94f129c8f5ca": {
          "model_module": "@jupyter-widgets/base",
          "model_name": "LayoutModel",
          "model_module_version": "1.2.0",
          "state": {
            "_view_name": "LayoutView",
            "grid_template_rows": null,
            "right": null,
            "justify_content": null,
            "_view_module": "@jupyter-widgets/base",
            "overflow": null,
            "_model_module_version": "1.2.0",
            "_view_count": null,
            "flex_flow": null,
            "width": null,
            "min_width": null,
            "border": null,
            "align_items": null,
            "bottom": null,
            "_model_module": "@jupyter-widgets/base",
            "top": null,
            "grid_column": null,
            "overflow_y": null,
            "overflow_x": null,
            "grid_auto_flow": null,
            "grid_area": null,
            "grid_template_columns": null,
            "flex": null,
            "_model_name": "LayoutModel",
            "justify_items": null,
            "grid_row": null,
            "max_height": null,
            "align_content": null,
            "visibility": null,
            "align_self": null,
            "height": null,
            "min_height": null,
            "padding": null,
            "grid_auto_rows": null,
            "grid_gap": null,
            "max_width": null,
            "order": null,
            "_view_module_version": "1.2.0",
            "grid_template_areas": null,
            "object_position": null,
            "object_fit": null,
            "grid_auto_columns": null,
            "margin": null,
            "display": null,
            "left": null
          }
        },
        "bcc6c6e2381e45ee88e423cb752ffca1": {
          "model_module": "@jupyter-widgets/controls",
          "model_name": "ProgressStyleModel",
          "model_module_version": "1.5.0",
          "state": {
            "_view_name": "StyleView",
            "_model_name": "ProgressStyleModel",
            "description_width": "",
            "_view_module": "@jupyter-widgets/base",
            "_model_module_version": "1.5.0",
            "_view_count": null,
            "_view_module_version": "1.2.0",
            "bar_color": null,
            "_model_module": "@jupyter-widgets/controls"
          }
        },
        "217653e248654187a63d1af492bef6ee": {
          "model_module": "@jupyter-widgets/base",
          "model_name": "LayoutModel",
          "model_module_version": "1.2.0",
          "state": {
            "_view_name": "LayoutView",
            "grid_template_rows": null,
            "right": null,
            "justify_content": null,
            "_view_module": "@jupyter-widgets/base",
            "overflow": null,
            "_model_module_version": "1.2.0",
            "_view_count": null,
            "flex_flow": null,
            "width": "20px",
            "min_width": null,
            "border": null,
            "align_items": null,
            "bottom": null,
            "_model_module": "@jupyter-widgets/base",
            "top": null,
            "grid_column": null,
            "overflow_y": null,
            "overflow_x": null,
            "grid_auto_flow": null,
            "grid_area": null,
            "grid_template_columns": null,
            "flex": null,
            "_model_name": "LayoutModel",
            "justify_items": null,
            "grid_row": null,
            "max_height": null,
            "align_content": null,
            "visibility": null,
            "align_self": null,
            "height": null,
            "min_height": null,
            "padding": null,
            "grid_auto_rows": null,
            "grid_gap": null,
            "max_width": null,
            "order": null,
            "_view_module_version": "1.2.0",
            "grid_template_areas": null,
            "object_position": null,
            "object_fit": null,
            "grid_auto_columns": null,
            "margin": null,
            "display": null,
            "left": null
          }
        },
        "4f1786b995be4271a8e09ba660c6844b": {
          "model_module": "@jupyter-widgets/controls",
          "model_name": "DescriptionStyleModel",
          "model_module_version": "1.5.0",
          "state": {
            "_view_name": "StyleView",
            "_model_name": "DescriptionStyleModel",
            "description_width": "",
            "_view_module": "@jupyter-widgets/base",
            "_model_module_version": "1.5.0",
            "_view_count": null,
            "_view_module_version": "1.2.0",
            "_model_module": "@jupyter-widgets/controls"
          }
        },
        "943f2434338645cd87219bebf74c5184": {
          "model_module": "@jupyter-widgets/base",
          "model_name": "LayoutModel",
          "model_module_version": "1.2.0",
          "state": {
            "_view_name": "LayoutView",
            "grid_template_rows": null,
            "right": null,
            "justify_content": null,
            "_view_module": "@jupyter-widgets/base",
            "overflow": null,
            "_model_module_version": "1.2.0",
            "_view_count": null,
            "flex_flow": null,
            "width": null,
            "min_width": null,
            "border": null,
            "align_items": null,
            "bottom": null,
            "_model_module": "@jupyter-widgets/base",
            "top": null,
            "grid_column": null,
            "overflow_y": null,
            "overflow_x": null,
            "grid_auto_flow": null,
            "grid_area": null,
            "grid_template_columns": null,
            "flex": null,
            "_model_name": "LayoutModel",
            "justify_items": null,
            "grid_row": null,
            "max_height": null,
            "align_content": null,
            "visibility": null,
            "align_self": null,
            "height": null,
            "min_height": null,
            "padding": null,
            "grid_auto_rows": null,
            "grid_gap": null,
            "max_width": null,
            "order": null,
            "_view_module_version": "1.2.0",
            "grid_template_areas": null,
            "object_position": null,
            "object_fit": null,
            "grid_auto_columns": null,
            "margin": null,
            "display": null,
            "left": null
          }
        },
        "ccd9a818d0c04641aad06651f8c98f8c": {
          "model_module": "@jupyter-widgets/controls",
          "model_name": "HBoxModel",
          "model_module_version": "1.5.0",
          "state": {
            "_view_name": "HBoxView",
            "_dom_classes": [],
            "_model_name": "HBoxModel",
            "_view_module": "@jupyter-widgets/controls",
            "_model_module_version": "1.5.0",
            "_view_count": null,
            "_view_module_version": "1.5.0",
            "box_style": "",
            "layout": "IPY_MODEL_44167e4c565c4baa91839fb5f513733d",
            "_model_module": "@jupyter-widgets/controls",
            "children": [
              "IPY_MODEL_2d5d89e6439d48479cd431789443d443",
              "IPY_MODEL_01c1010a1f124c52ba949c84c4f8c2a5",
              "IPY_MODEL_86f7b805dcf64ae9abe4c89b29b63c5c"
            ]
          }
        },
        "44167e4c565c4baa91839fb5f513733d": {
          "model_module": "@jupyter-widgets/base",
          "model_name": "LayoutModel",
          "model_module_version": "1.2.0",
          "state": {
            "_view_name": "LayoutView",
            "grid_template_rows": null,
            "right": null,
            "justify_content": null,
            "_view_module": "@jupyter-widgets/base",
            "overflow": null,
            "_model_module_version": "1.2.0",
            "_view_count": null,
            "flex_flow": null,
            "width": null,
            "min_width": null,
            "border": null,
            "align_items": null,
            "bottom": null,
            "_model_module": "@jupyter-widgets/base",
            "top": null,
            "grid_column": null,
            "overflow_y": null,
            "overflow_x": null,
            "grid_auto_flow": null,
            "grid_area": null,
            "grid_template_columns": null,
            "flex": null,
            "_model_name": "LayoutModel",
            "justify_items": null,
            "grid_row": null,
            "max_height": null,
            "align_content": null,
            "visibility": null,
            "align_self": null,
            "height": null,
            "min_height": null,
            "padding": null,
            "grid_auto_rows": null,
            "grid_gap": null,
            "max_width": null,
            "order": null,
            "_view_module_version": "1.2.0",
            "grid_template_areas": null,
            "object_position": null,
            "object_fit": null,
            "grid_auto_columns": null,
            "margin": null,
            "display": null,
            "left": null
          }
        },
        "2d5d89e6439d48479cd431789443d443": {
          "model_module": "@jupyter-widgets/controls",
          "model_name": "HTMLModel",
          "model_module_version": "1.5.0",
          "state": {
            "_view_name": "HTMLView",
            "style": "IPY_MODEL_3ccb42e53b65431d9fc93dfe37655425",
            "_dom_classes": [],
            "description": "",
            "_model_name": "HTMLModel",
            "placeholder": "​",
            "_view_module": "@jupyter-widgets/controls",
            "_model_module_version": "1.5.0",
            "value": "100%",
            "_view_count": null,
            "_view_module_version": "1.5.0",
            "description_tooltip": null,
            "_model_module": "@jupyter-widgets/controls",
            "layout": "IPY_MODEL_d0e7dcc8d01a4d61a628f0625e568b37"
          }
        },
        "01c1010a1f124c52ba949c84c4f8c2a5": {
          "model_module": "@jupyter-widgets/controls",
          "model_name": "FloatProgressModel",
          "model_module_version": "1.5.0",
          "state": {
            "_view_name": "ProgressView",
            "style": "IPY_MODEL_0e28c380a74c4587a7e7f4c499b63c11",
            "_dom_classes": [],
            "description": "",
            "_model_name": "FloatProgressModel",
            "bar_style": "success",
            "max": 1,
            "_view_module": "@jupyter-widgets/controls",
            "_model_module_version": "1.5.0",
            "value": 1,
            "_view_count": null,
            "_view_module_version": "1.5.0",
            "orientation": "horizontal",
            "min": 0,
            "description_tooltip": null,
            "_model_module": "@jupyter-widgets/controls",
            "layout": "IPY_MODEL_2334c0f4ea11494380237c1ef38adb25"
          }
        },
        "86f7b805dcf64ae9abe4c89b29b63c5c": {
          "model_module": "@jupyter-widgets/controls",
          "model_name": "HTMLModel",
          "model_module_version": "1.5.0",
          "state": {
            "_view_name": "HTMLView",
            "style": "IPY_MODEL_59269cbe28da4f5d9f3a4bfaec78847b",
            "_dom_classes": [],
            "description": "",
            "_model_name": "HTMLModel",
            "placeholder": "​",
            "_view_module": "@jupyter-widgets/controls",
            "_model_module_version": "1.5.0",
            "value": " 1/1 [00:00&lt;00:00,  2.41ba/s]",
            "_view_count": null,
            "_view_module_version": "1.5.0",
            "description_tooltip": null,
            "_model_module": "@jupyter-widgets/controls",
            "layout": "IPY_MODEL_033ecb7637484db084143d65a87fb0d9"
          }
        },
        "3ccb42e53b65431d9fc93dfe37655425": {
          "model_module": "@jupyter-widgets/controls",
          "model_name": "DescriptionStyleModel",
          "model_module_version": "1.5.0",
          "state": {
            "_view_name": "StyleView",
            "_model_name": "DescriptionStyleModel",
            "description_width": "",
            "_view_module": "@jupyter-widgets/base",
            "_model_module_version": "1.5.0",
            "_view_count": null,
            "_view_module_version": "1.2.0",
            "_model_module": "@jupyter-widgets/controls"
          }
        },
        "d0e7dcc8d01a4d61a628f0625e568b37": {
          "model_module": "@jupyter-widgets/base",
          "model_name": "LayoutModel",
          "model_module_version": "1.2.0",
          "state": {
            "_view_name": "LayoutView",
            "grid_template_rows": null,
            "right": null,
            "justify_content": null,
            "_view_module": "@jupyter-widgets/base",
            "overflow": null,
            "_model_module_version": "1.2.0",
            "_view_count": null,
            "flex_flow": null,
            "width": null,
            "min_width": null,
            "border": null,
            "align_items": null,
            "bottom": null,
            "_model_module": "@jupyter-widgets/base",
            "top": null,
            "grid_column": null,
            "overflow_y": null,
            "overflow_x": null,
            "grid_auto_flow": null,
            "grid_area": null,
            "grid_template_columns": null,
            "flex": null,
            "_model_name": "LayoutModel",
            "justify_items": null,
            "grid_row": null,
            "max_height": null,
            "align_content": null,
            "visibility": null,
            "align_self": null,
            "height": null,
            "min_height": null,
            "padding": null,
            "grid_auto_rows": null,
            "grid_gap": null,
            "max_width": null,
            "order": null,
            "_view_module_version": "1.2.0",
            "grid_template_areas": null,
            "object_position": null,
            "object_fit": null,
            "grid_auto_columns": null,
            "margin": null,
            "display": null,
            "left": null
          }
        },
        "0e28c380a74c4587a7e7f4c499b63c11": {
          "model_module": "@jupyter-widgets/controls",
          "model_name": "ProgressStyleModel",
          "model_module_version": "1.5.0",
          "state": {
            "_view_name": "StyleView",
            "_model_name": "ProgressStyleModel",
            "description_width": "",
            "_view_module": "@jupyter-widgets/base",
            "_model_module_version": "1.5.0",
            "_view_count": null,
            "_view_module_version": "1.2.0",
            "bar_color": null,
            "_model_module": "@jupyter-widgets/controls"
          }
        },
        "2334c0f4ea11494380237c1ef38adb25": {
          "model_module": "@jupyter-widgets/base",
          "model_name": "LayoutModel",
          "model_module_version": "1.2.0",
          "state": {
            "_view_name": "LayoutView",
            "grid_template_rows": null,
            "right": null,
            "justify_content": null,
            "_view_module": "@jupyter-widgets/base",
            "overflow": null,
            "_model_module_version": "1.2.0",
            "_view_count": null,
            "flex_flow": null,
            "width": null,
            "min_width": null,
            "border": null,
            "align_items": null,
            "bottom": null,
            "_model_module": "@jupyter-widgets/base",
            "top": null,
            "grid_column": null,
            "overflow_y": null,
            "overflow_x": null,
            "grid_auto_flow": null,
            "grid_area": null,
            "grid_template_columns": null,
            "flex": null,
            "_model_name": "LayoutModel",
            "justify_items": null,
            "grid_row": null,
            "max_height": null,
            "align_content": null,
            "visibility": null,
            "align_self": null,
            "height": null,
            "min_height": null,
            "padding": null,
            "grid_auto_rows": null,
            "grid_gap": null,
            "max_width": null,
            "order": null,
            "_view_module_version": "1.2.0",
            "grid_template_areas": null,
            "object_position": null,
            "object_fit": null,
            "grid_auto_columns": null,
            "margin": null,
            "display": null,
            "left": null
          }
        },
        "59269cbe28da4f5d9f3a4bfaec78847b": {
          "model_module": "@jupyter-widgets/controls",
          "model_name": "DescriptionStyleModel",
          "model_module_version": "1.5.0",
          "state": {
            "_view_name": "StyleView",
            "_model_name": "DescriptionStyleModel",
            "description_width": "",
            "_view_module": "@jupyter-widgets/base",
            "_model_module_version": "1.5.0",
            "_view_count": null,
            "_view_module_version": "1.2.0",
            "_model_module": "@jupyter-widgets/controls"
          }
        },
        "033ecb7637484db084143d65a87fb0d9": {
          "model_module": "@jupyter-widgets/base",
          "model_name": "LayoutModel",
          "model_module_version": "1.2.0",
          "state": {
            "_view_name": "LayoutView",
            "grid_template_rows": null,
            "right": null,
            "justify_content": null,
            "_view_module": "@jupyter-widgets/base",
            "overflow": null,
            "_model_module_version": "1.2.0",
            "_view_count": null,
            "flex_flow": null,
            "width": null,
            "min_width": null,
            "border": null,
            "align_items": null,
            "bottom": null,
            "_model_module": "@jupyter-widgets/base",
            "top": null,
            "grid_column": null,
            "overflow_y": null,
            "overflow_x": null,
            "grid_auto_flow": null,
            "grid_area": null,
            "grid_template_columns": null,
            "flex": null,
            "_model_name": "LayoutModel",
            "justify_items": null,
            "grid_row": null,
            "max_height": null,
            "align_content": null,
            "visibility": null,
            "align_self": null,
            "height": null,
            "min_height": null,
            "padding": null,
            "grid_auto_rows": null,
            "grid_gap": null,
            "max_width": null,
            "order": null,
            "_view_module_version": "1.2.0",
            "grid_template_areas": null,
            "object_position": null,
            "object_fit": null,
            "grid_auto_columns": null,
            "margin": null,
            "display": null,
            "left": null
          }
        },
        "c42272eb89c5462fb4cfc5affa8b0700": {
          "model_module": "@jupyter-widgets/controls",
          "model_name": "HBoxModel",
          "model_module_version": "1.5.0",
          "state": {
            "_view_name": "HBoxView",
            "_dom_classes": [],
            "_model_name": "HBoxModel",
            "_view_module": "@jupyter-widgets/controls",
            "_model_module_version": "1.5.0",
            "_view_count": null,
            "_view_module_version": "1.5.0",
            "box_style": "",
            "layout": "IPY_MODEL_61f364de393a4126adb3d4990f68f3c5",
            "_model_module": "@jupyter-widgets/controls",
            "children": [
              "IPY_MODEL_b7ffca3640f341f68fff0db58bdf25d3",
              "IPY_MODEL_b4c18201b8254e768cc4fcf9bcdcf31c",
              "IPY_MODEL_bc02b679e3ff430caaccc7ba91f4eca3"
            ]
          }
        },
        "61f364de393a4126adb3d4990f68f3c5": {
          "model_module": "@jupyter-widgets/base",
          "model_name": "LayoutModel",
          "model_module_version": "1.2.0",
          "state": {
            "_view_name": "LayoutView",
            "grid_template_rows": null,
            "right": null,
            "justify_content": null,
            "_view_module": "@jupyter-widgets/base",
            "overflow": null,
            "_model_module_version": "1.2.0",
            "_view_count": null,
            "flex_flow": null,
            "width": null,
            "min_width": null,
            "border": null,
            "align_items": null,
            "bottom": null,
            "_model_module": "@jupyter-widgets/base",
            "top": null,
            "grid_column": null,
            "overflow_y": null,
            "overflow_x": null,
            "grid_auto_flow": null,
            "grid_area": null,
            "grid_template_columns": null,
            "flex": null,
            "_model_name": "LayoutModel",
            "justify_items": null,
            "grid_row": null,
            "max_height": null,
            "align_content": null,
            "visibility": null,
            "align_self": null,
            "height": null,
            "min_height": null,
            "padding": null,
            "grid_auto_rows": null,
            "grid_gap": null,
            "max_width": null,
            "order": null,
            "_view_module_version": "1.2.0",
            "grid_template_areas": null,
            "object_position": null,
            "object_fit": null,
            "grid_auto_columns": null,
            "margin": null,
            "display": null,
            "left": null
          }
        },
        "b7ffca3640f341f68fff0db58bdf25d3": {
          "model_module": "@jupyter-widgets/controls",
          "model_name": "HTMLModel",
          "model_module_version": "1.5.0",
          "state": {
            "_view_name": "HTMLView",
            "style": "IPY_MODEL_70726b487b574194a05caf30e58ba126",
            "_dom_classes": [],
            "description": "",
            "_model_name": "HTMLModel",
            "placeholder": "​",
            "_view_module": "@jupyter-widgets/controls",
            "_model_module_version": "1.5.0",
            "value": "100%",
            "_view_count": null,
            "_view_module_version": "1.5.0",
            "description_tooltip": null,
            "_model_module": "@jupyter-widgets/controls",
            "layout": "IPY_MODEL_5c03c6bbb7464159bddb6186b4213b7e"
          }
        },
        "b4c18201b8254e768cc4fcf9bcdcf31c": {
          "model_module": "@jupyter-widgets/controls",
          "model_name": "FloatProgressModel",
          "model_module_version": "1.5.0",
          "state": {
            "_view_name": "ProgressView",
            "style": "IPY_MODEL_a6a40959d7fa4f07bcae1b276722a124",
            "_dom_classes": [],
            "description": "",
            "_model_name": "FloatProgressModel",
            "bar_style": "success",
            "max": 1,
            "_view_module": "@jupyter-widgets/controls",
            "_model_module_version": "1.5.0",
            "value": 1,
            "_view_count": null,
            "_view_module_version": "1.5.0",
            "orientation": "horizontal",
            "min": 0,
            "description_tooltip": null,
            "_model_module": "@jupyter-widgets/controls",
            "layout": "IPY_MODEL_8d747a62a12142c4a3a7368aabf894c3"
          }
        },
        "bc02b679e3ff430caaccc7ba91f4eca3": {
          "model_module": "@jupyter-widgets/controls",
          "model_name": "HTMLModel",
          "model_module_version": "1.5.0",
          "state": {
            "_view_name": "HTMLView",
            "style": "IPY_MODEL_21fd4dfe16fd4e2dafe652c124bc897e",
            "_dom_classes": [],
            "description": "",
            "_model_name": "HTMLModel",
            "placeholder": "​",
            "_view_module": "@jupyter-widgets/controls",
            "_model_module_version": "1.5.0",
            "value": " 1/1 [00:00&lt;00:00,  4.62ba/s]",
            "_view_count": null,
            "_view_module_version": "1.5.0",
            "description_tooltip": null,
            "_model_module": "@jupyter-widgets/controls",
            "layout": "IPY_MODEL_a0d012137c9745e885f66061fef12830"
          }
        },
        "70726b487b574194a05caf30e58ba126": {
          "model_module": "@jupyter-widgets/controls",
          "model_name": "DescriptionStyleModel",
          "model_module_version": "1.5.0",
          "state": {
            "_view_name": "StyleView",
            "_model_name": "DescriptionStyleModel",
            "description_width": "",
            "_view_module": "@jupyter-widgets/base",
            "_model_module_version": "1.5.0",
            "_view_count": null,
            "_view_module_version": "1.2.0",
            "_model_module": "@jupyter-widgets/controls"
          }
        },
        "5c03c6bbb7464159bddb6186b4213b7e": {
          "model_module": "@jupyter-widgets/base",
          "model_name": "LayoutModel",
          "model_module_version": "1.2.0",
          "state": {
            "_view_name": "LayoutView",
            "grid_template_rows": null,
            "right": null,
            "justify_content": null,
            "_view_module": "@jupyter-widgets/base",
            "overflow": null,
            "_model_module_version": "1.2.0",
            "_view_count": null,
            "flex_flow": null,
            "width": null,
            "min_width": null,
            "border": null,
            "align_items": null,
            "bottom": null,
            "_model_module": "@jupyter-widgets/base",
            "top": null,
            "grid_column": null,
            "overflow_y": null,
            "overflow_x": null,
            "grid_auto_flow": null,
            "grid_area": null,
            "grid_template_columns": null,
            "flex": null,
            "_model_name": "LayoutModel",
            "justify_items": null,
            "grid_row": null,
            "max_height": null,
            "align_content": null,
            "visibility": null,
            "align_self": null,
            "height": null,
            "min_height": null,
            "padding": null,
            "grid_auto_rows": null,
            "grid_gap": null,
            "max_width": null,
            "order": null,
            "_view_module_version": "1.2.0",
            "grid_template_areas": null,
            "object_position": null,
            "object_fit": null,
            "grid_auto_columns": null,
            "margin": null,
            "display": null,
            "left": null
          }
        },
        "a6a40959d7fa4f07bcae1b276722a124": {
          "model_module": "@jupyter-widgets/controls",
          "model_name": "ProgressStyleModel",
          "model_module_version": "1.5.0",
          "state": {
            "_view_name": "StyleView",
            "_model_name": "ProgressStyleModel",
            "description_width": "",
            "_view_module": "@jupyter-widgets/base",
            "_model_module_version": "1.5.0",
            "_view_count": null,
            "_view_module_version": "1.2.0",
            "bar_color": null,
            "_model_module": "@jupyter-widgets/controls"
          }
        },
        "8d747a62a12142c4a3a7368aabf894c3": {
          "model_module": "@jupyter-widgets/base",
          "model_name": "LayoutModel",
          "model_module_version": "1.2.0",
          "state": {
            "_view_name": "LayoutView",
            "grid_template_rows": null,
            "right": null,
            "justify_content": null,
            "_view_module": "@jupyter-widgets/base",
            "overflow": null,
            "_model_module_version": "1.2.0",
            "_view_count": null,
            "flex_flow": null,
            "width": null,
            "min_width": null,
            "border": null,
            "align_items": null,
            "bottom": null,
            "_model_module": "@jupyter-widgets/base",
            "top": null,
            "grid_column": null,
            "overflow_y": null,
            "overflow_x": null,
            "grid_auto_flow": null,
            "grid_area": null,
            "grid_template_columns": null,
            "flex": null,
            "_model_name": "LayoutModel",
            "justify_items": null,
            "grid_row": null,
            "max_height": null,
            "align_content": null,
            "visibility": null,
            "align_self": null,
            "height": null,
            "min_height": null,
            "padding": null,
            "grid_auto_rows": null,
            "grid_gap": null,
            "max_width": null,
            "order": null,
            "_view_module_version": "1.2.0",
            "grid_template_areas": null,
            "object_position": null,
            "object_fit": null,
            "grid_auto_columns": null,
            "margin": null,
            "display": null,
            "left": null
          }
        },
        "21fd4dfe16fd4e2dafe652c124bc897e": {
          "model_module": "@jupyter-widgets/controls",
          "model_name": "DescriptionStyleModel",
          "model_module_version": "1.5.0",
          "state": {
            "_view_name": "StyleView",
            "_model_name": "DescriptionStyleModel",
            "description_width": "",
            "_view_module": "@jupyter-widgets/base",
            "_model_module_version": "1.5.0",
            "_view_count": null,
            "_view_module_version": "1.2.0",
            "_model_module": "@jupyter-widgets/controls"
          }
        },
        "a0d012137c9745e885f66061fef12830": {
          "model_module": "@jupyter-widgets/base",
          "model_name": "LayoutModel",
          "model_module_version": "1.2.0",
          "state": {
            "_view_name": "LayoutView",
            "grid_template_rows": null,
            "right": null,
            "justify_content": null,
            "_view_module": "@jupyter-widgets/base",
            "overflow": null,
            "_model_module_version": "1.2.0",
            "_view_count": null,
            "flex_flow": null,
            "width": null,
            "min_width": null,
            "border": null,
            "align_items": null,
            "bottom": null,
            "_model_module": "@jupyter-widgets/base",
            "top": null,
            "grid_column": null,
            "overflow_y": null,
            "overflow_x": null,
            "grid_auto_flow": null,
            "grid_area": null,
            "grid_template_columns": null,
            "flex": null,
            "_model_name": "LayoutModel",
            "justify_items": null,
            "grid_row": null,
            "max_height": null,
            "align_content": null,
            "visibility": null,
            "align_self": null,
            "height": null,
            "min_height": null,
            "padding": null,
            "grid_auto_rows": null,
            "grid_gap": null,
            "max_width": null,
            "order": null,
            "_view_module_version": "1.2.0",
            "grid_template_areas": null,
            "object_position": null,
            "object_fit": null,
            "grid_auto_columns": null,
            "margin": null,
            "display": null,
            "left": null
          }
        },
        "26815566e78a433796c283fe56dae7f2": {
          "model_module": "@jupyter-widgets/controls",
          "model_name": "HBoxModel",
          "model_module_version": "1.5.0",
          "state": {
            "_view_name": "HBoxView",
            "_dom_classes": [],
            "_model_name": "HBoxModel",
            "_view_module": "@jupyter-widgets/controls",
            "_model_module_version": "1.5.0",
            "_view_count": null,
            "_view_module_version": "1.5.0",
            "box_style": "",
            "layout": "IPY_MODEL_f7ba273066104fcdb832a80edc1711b0",
            "_model_module": "@jupyter-widgets/controls",
            "children": [
              "IPY_MODEL_ef9cb920858846c99d88af9706e8ee73",
              "IPY_MODEL_6e535a63066a433bbf2830ed45d95d92",
              "IPY_MODEL_7b3312a6f6814b27811f538d554594fb"
            ]
          }
        },
        "f7ba273066104fcdb832a80edc1711b0": {
          "model_module": "@jupyter-widgets/base",
          "model_name": "LayoutModel",
          "model_module_version": "1.2.0",
          "state": {
            "_view_name": "LayoutView",
            "grid_template_rows": null,
            "right": null,
            "justify_content": null,
            "_view_module": "@jupyter-widgets/base",
            "overflow": null,
            "_model_module_version": "1.2.0",
            "_view_count": null,
            "flex_flow": null,
            "width": null,
            "min_width": null,
            "border": null,
            "align_items": null,
            "bottom": null,
            "_model_module": "@jupyter-widgets/base",
            "top": null,
            "grid_column": null,
            "overflow_y": null,
            "overflow_x": null,
            "grid_auto_flow": null,
            "grid_area": null,
            "grid_template_columns": null,
            "flex": null,
            "_model_name": "LayoutModel",
            "justify_items": null,
            "grid_row": null,
            "max_height": null,
            "align_content": null,
            "visibility": null,
            "align_self": null,
            "height": null,
            "min_height": null,
            "padding": null,
            "grid_auto_rows": null,
            "grid_gap": null,
            "max_width": null,
            "order": null,
            "_view_module_version": "1.2.0",
            "grid_template_areas": null,
            "object_position": null,
            "object_fit": null,
            "grid_auto_columns": null,
            "margin": null,
            "display": null,
            "left": null
          }
        },
        "ef9cb920858846c99d88af9706e8ee73": {
          "model_module": "@jupyter-widgets/controls",
          "model_name": "HTMLModel",
          "model_module_version": "1.5.0",
          "state": {
            "_view_name": "HTMLView",
            "style": "IPY_MODEL_e253bc0fcdb54f408bbfeccd99e0d041",
            "_dom_classes": [],
            "description": "",
            "_model_name": "HTMLModel",
            "placeholder": "​",
            "_view_module": "@jupyter-widgets/controls",
            "_model_module_version": "1.5.0",
            "value": "",
            "_view_count": null,
            "_view_module_version": "1.5.0",
            "description_tooltip": null,
            "_model_module": "@jupyter-widgets/controls",
            "layout": "IPY_MODEL_fd3b40133c2c44dc91fbdc4f867d8989"
          }
        },
        "6e535a63066a433bbf2830ed45d95d92": {
          "model_module": "@jupyter-widgets/controls",
          "model_name": "FloatProgressModel",
          "model_module_version": "1.5.0",
          "state": {
            "_view_name": "ProgressView",
            "style": "IPY_MODEL_ce4b583161354d72b2b825b523a8bf5e",
            "_dom_classes": [],
            "description": "",
            "_model_name": "FloatProgressModel",
            "bar_style": "success",
            "max": 1,
            "_view_module": "@jupyter-widgets/controls",
            "_model_module_version": "1.5.0",
            "value": 1,
            "_view_count": null,
            "_view_module_version": "1.5.0",
            "orientation": "horizontal",
            "min": 0,
            "description_tooltip": null,
            "_model_module": "@jupyter-widgets/controls",
            "layout": "IPY_MODEL_4eeba3124e074d099300d18932776d83"
          }
        },
        "7b3312a6f6814b27811f538d554594fb": {
          "model_module": "@jupyter-widgets/controls",
          "model_name": "HTMLModel",
          "model_module_version": "1.5.0",
          "state": {
            "_view_name": "HTMLView",
            "style": "IPY_MODEL_ebb03d53b9984e30b9e6aec3130998ea",
            "_dom_classes": [],
            "description": "",
            "_model_name": "HTMLModel",
            "placeholder": "​",
            "_view_module": "@jupyter-widgets/controls",
            "_model_module_version": "1.5.0",
            "value": " 9773/? [02:09&lt;00:00, 81.19ex/s]",
            "_view_count": null,
            "_view_module_version": "1.5.0",
            "description_tooltip": null,
            "_model_module": "@jupyter-widgets/controls",
            "layout": "IPY_MODEL_42d98657a1f5494e82b33fdb498d54d7"
          }
        },
        "e253bc0fcdb54f408bbfeccd99e0d041": {
          "model_module": "@jupyter-widgets/controls",
          "model_name": "DescriptionStyleModel",
          "model_module_version": "1.5.0",
          "state": {
            "_view_name": "StyleView",
            "_model_name": "DescriptionStyleModel",
            "description_width": "",
            "_view_module": "@jupyter-widgets/base",
            "_model_module_version": "1.5.0",
            "_view_count": null,
            "_view_module_version": "1.2.0",
            "_model_module": "@jupyter-widgets/controls"
          }
        },
        "fd3b40133c2c44dc91fbdc4f867d8989": {
          "model_module": "@jupyter-widgets/base",
          "model_name": "LayoutModel",
          "model_module_version": "1.2.0",
          "state": {
            "_view_name": "LayoutView",
            "grid_template_rows": null,
            "right": null,
            "justify_content": null,
            "_view_module": "@jupyter-widgets/base",
            "overflow": null,
            "_model_module_version": "1.2.0",
            "_view_count": null,
            "flex_flow": null,
            "width": null,
            "min_width": null,
            "border": null,
            "align_items": null,
            "bottom": null,
            "_model_module": "@jupyter-widgets/base",
            "top": null,
            "grid_column": null,
            "overflow_y": null,
            "overflow_x": null,
            "grid_auto_flow": null,
            "grid_area": null,
            "grid_template_columns": null,
            "flex": null,
            "_model_name": "LayoutModel",
            "justify_items": null,
            "grid_row": null,
            "max_height": null,
            "align_content": null,
            "visibility": null,
            "align_self": null,
            "height": null,
            "min_height": null,
            "padding": null,
            "grid_auto_rows": null,
            "grid_gap": null,
            "max_width": null,
            "order": null,
            "_view_module_version": "1.2.0",
            "grid_template_areas": null,
            "object_position": null,
            "object_fit": null,
            "grid_auto_columns": null,
            "margin": null,
            "display": null,
            "left": null
          }
        },
        "ce4b583161354d72b2b825b523a8bf5e": {
          "model_module": "@jupyter-widgets/controls",
          "model_name": "ProgressStyleModel",
          "model_module_version": "1.5.0",
          "state": {
            "_view_name": "StyleView",
            "_model_name": "ProgressStyleModel",
            "description_width": "",
            "_view_module": "@jupyter-widgets/base",
            "_model_module_version": "1.5.0",
            "_view_count": null,
            "_view_module_version": "1.2.0",
            "bar_color": null,
            "_model_module": "@jupyter-widgets/controls"
          }
        },
        "4eeba3124e074d099300d18932776d83": {
          "model_module": "@jupyter-widgets/base",
          "model_name": "LayoutModel",
          "model_module_version": "1.2.0",
          "state": {
            "_view_name": "LayoutView",
            "grid_template_rows": null,
            "right": null,
            "justify_content": null,
            "_view_module": "@jupyter-widgets/base",
            "overflow": null,
            "_model_module_version": "1.2.0",
            "_view_count": null,
            "flex_flow": null,
            "width": "20px",
            "min_width": null,
            "border": null,
            "align_items": null,
            "bottom": null,
            "_model_module": "@jupyter-widgets/base",
            "top": null,
            "grid_column": null,
            "overflow_y": null,
            "overflow_x": null,
            "grid_auto_flow": null,
            "grid_area": null,
            "grid_template_columns": null,
            "flex": null,
            "_model_name": "LayoutModel",
            "justify_items": null,
            "grid_row": null,
            "max_height": null,
            "align_content": null,
            "visibility": null,
            "align_self": null,
            "height": null,
            "min_height": null,
            "padding": null,
            "grid_auto_rows": null,
            "grid_gap": null,
            "max_width": null,
            "order": null,
            "_view_module_version": "1.2.0",
            "grid_template_areas": null,
            "object_position": null,
            "object_fit": null,
            "grid_auto_columns": null,
            "margin": null,
            "display": null,
            "left": null
          }
        },
        "ebb03d53b9984e30b9e6aec3130998ea": {
          "model_module": "@jupyter-widgets/controls",
          "model_name": "DescriptionStyleModel",
          "model_module_version": "1.5.0",
          "state": {
            "_view_name": "StyleView",
            "_model_name": "DescriptionStyleModel",
            "description_width": "",
            "_view_module": "@jupyter-widgets/base",
            "_model_module_version": "1.5.0",
            "_view_count": null,
            "_view_module_version": "1.2.0",
            "_model_module": "@jupyter-widgets/controls"
          }
        },
        "42d98657a1f5494e82b33fdb498d54d7": {
          "model_module": "@jupyter-widgets/base",
          "model_name": "LayoutModel",
          "model_module_version": "1.2.0",
          "state": {
            "_view_name": "LayoutView",
            "grid_template_rows": null,
            "right": null,
            "justify_content": null,
            "_view_module": "@jupyter-widgets/base",
            "overflow": null,
            "_model_module_version": "1.2.0",
            "_view_count": null,
            "flex_flow": null,
            "width": null,
            "min_width": null,
            "border": null,
            "align_items": null,
            "bottom": null,
            "_model_module": "@jupyter-widgets/base",
            "top": null,
            "grid_column": null,
            "overflow_y": null,
            "overflow_x": null,
            "grid_auto_flow": null,
            "grid_area": null,
            "grid_template_columns": null,
            "flex": null,
            "_model_name": "LayoutModel",
            "justify_items": null,
            "grid_row": null,
            "max_height": null,
            "align_content": null,
            "visibility": null,
            "align_self": null,
            "height": null,
            "min_height": null,
            "padding": null,
            "grid_auto_rows": null,
            "grid_gap": null,
            "max_width": null,
            "order": null,
            "_view_module_version": "1.2.0",
            "grid_template_areas": null,
            "object_position": null,
            "object_fit": null,
            "grid_auto_columns": null,
            "margin": null,
            "display": null,
            "left": null
          }
        },
        "9434fa09778143608bfc6e751c135a70": {
          "model_module": "@jupyter-widgets/controls",
          "model_name": "HBoxModel",
          "model_module_version": "1.5.0",
          "state": {
            "_view_name": "HBoxView",
            "_dom_classes": [],
            "_model_name": "HBoxModel",
            "_view_module": "@jupyter-widgets/controls",
            "_model_module_version": "1.5.0",
            "_view_count": null,
            "_view_module_version": "1.5.0",
            "box_style": "",
            "layout": "IPY_MODEL_bd620f370f294724b4fd352ea1b84e55",
            "_model_module": "@jupyter-widgets/controls",
            "children": [
              "IPY_MODEL_d3749c29aa2543a7b1b06d9e8598a675",
              "IPY_MODEL_fb991ac447ce4ba09bd6f0eff1bb3ace",
              "IPY_MODEL_298e552862a144da84ea438aa7716fb2"
            ]
          }
        },
        "bd620f370f294724b4fd352ea1b84e55": {
          "model_module": "@jupyter-widgets/base",
          "model_name": "LayoutModel",
          "model_module_version": "1.2.0",
          "state": {
            "_view_name": "LayoutView",
            "grid_template_rows": null,
            "right": null,
            "justify_content": null,
            "_view_module": "@jupyter-widgets/base",
            "overflow": null,
            "_model_module_version": "1.2.0",
            "_view_count": null,
            "flex_flow": null,
            "width": null,
            "min_width": null,
            "border": null,
            "align_items": null,
            "bottom": null,
            "_model_module": "@jupyter-widgets/base",
            "top": null,
            "grid_column": null,
            "overflow_y": null,
            "overflow_x": null,
            "grid_auto_flow": null,
            "grid_area": null,
            "grid_template_columns": null,
            "flex": null,
            "_model_name": "LayoutModel",
            "justify_items": null,
            "grid_row": null,
            "max_height": null,
            "align_content": null,
            "visibility": null,
            "align_self": null,
            "height": null,
            "min_height": null,
            "padding": null,
            "grid_auto_rows": null,
            "grid_gap": null,
            "max_width": null,
            "order": null,
            "_view_module_version": "1.2.0",
            "grid_template_areas": null,
            "object_position": null,
            "object_fit": null,
            "grid_auto_columns": null,
            "margin": null,
            "display": null,
            "left": null
          }
        },
        "d3749c29aa2543a7b1b06d9e8598a675": {
          "model_module": "@jupyter-widgets/controls",
          "model_name": "HTMLModel",
          "model_module_version": "1.5.0",
          "state": {
            "_view_name": "HTMLView",
            "style": "IPY_MODEL_6a6796da9c4e4e298f7b5542c57843bc",
            "_dom_classes": [],
            "description": "",
            "_model_name": "HTMLModel",
            "placeholder": "​",
            "_view_module": "@jupyter-widgets/controls",
            "_model_module_version": "1.5.0",
            "value": "",
            "_view_count": null,
            "_view_module_version": "1.5.0",
            "description_tooltip": null,
            "_model_module": "@jupyter-widgets/controls",
            "layout": "IPY_MODEL_9ea6b2e7bfcd4bed85bf76c07edf7fbe"
          }
        },
        "fb991ac447ce4ba09bd6f0eff1bb3ace": {
          "model_module": "@jupyter-widgets/controls",
          "model_name": "FloatProgressModel",
          "model_module_version": "1.5.0",
          "state": {
            "_view_name": "ProgressView",
            "style": "IPY_MODEL_299fc917263942218761eb2a933967c7",
            "_dom_classes": [],
            "description": "",
            "_model_name": "FloatProgressModel",
            "bar_style": "success",
            "max": 1,
            "_view_module": "@jupyter-widgets/controls",
            "_model_module_version": "1.5.0",
            "value": 1,
            "_view_count": null,
            "_view_module_version": "1.5.0",
            "orientation": "horizontal",
            "min": 0,
            "description_tooltip": null,
            "_model_module": "@jupyter-widgets/controls",
            "layout": "IPY_MODEL_717986d9a1f14f0e8d0185ab5f05557b"
          }
        },
        "298e552862a144da84ea438aa7716fb2": {
          "model_module": "@jupyter-widgets/controls",
          "model_name": "HTMLModel",
          "model_module_version": "1.5.0",
          "state": {
            "_view_name": "HTMLView",
            "style": "IPY_MODEL_59f092ecb31c4556aaee5f81e4656c0f",
            "_dom_classes": [],
            "description": "",
            "_model_name": "HTMLModel",
            "placeholder": "​",
            "_view_module": "@jupyter-widgets/controls",
            "_model_module_version": "1.5.0",
            "value": " 4144/? [00:53&lt;00:00, 90.98ex/s]",
            "_view_count": null,
            "_view_module_version": "1.5.0",
            "description_tooltip": null,
            "_model_module": "@jupyter-widgets/controls",
            "layout": "IPY_MODEL_337f708126eb4fc0bfad66277b213073"
          }
        },
        "6a6796da9c4e4e298f7b5542c57843bc": {
          "model_module": "@jupyter-widgets/controls",
          "model_name": "DescriptionStyleModel",
          "model_module_version": "1.5.0",
          "state": {
            "_view_name": "StyleView",
            "_model_name": "DescriptionStyleModel",
            "description_width": "",
            "_view_module": "@jupyter-widgets/base",
            "_model_module_version": "1.5.0",
            "_view_count": null,
            "_view_module_version": "1.2.0",
            "_model_module": "@jupyter-widgets/controls"
          }
        },
        "9ea6b2e7bfcd4bed85bf76c07edf7fbe": {
          "model_module": "@jupyter-widgets/base",
          "model_name": "LayoutModel",
          "model_module_version": "1.2.0",
          "state": {
            "_view_name": "LayoutView",
            "grid_template_rows": null,
            "right": null,
            "justify_content": null,
            "_view_module": "@jupyter-widgets/base",
            "overflow": null,
            "_model_module_version": "1.2.0",
            "_view_count": null,
            "flex_flow": null,
            "width": null,
            "min_width": null,
            "border": null,
            "align_items": null,
            "bottom": null,
            "_model_module": "@jupyter-widgets/base",
            "top": null,
            "grid_column": null,
            "overflow_y": null,
            "overflow_x": null,
            "grid_auto_flow": null,
            "grid_area": null,
            "grid_template_columns": null,
            "flex": null,
            "_model_name": "LayoutModel",
            "justify_items": null,
            "grid_row": null,
            "max_height": null,
            "align_content": null,
            "visibility": null,
            "align_self": null,
            "height": null,
            "min_height": null,
            "padding": null,
            "grid_auto_rows": null,
            "grid_gap": null,
            "max_width": null,
            "order": null,
            "_view_module_version": "1.2.0",
            "grid_template_areas": null,
            "object_position": null,
            "object_fit": null,
            "grid_auto_columns": null,
            "margin": null,
            "display": null,
            "left": null
          }
        },
        "299fc917263942218761eb2a933967c7": {
          "model_module": "@jupyter-widgets/controls",
          "model_name": "ProgressStyleModel",
          "model_module_version": "1.5.0",
          "state": {
            "_view_name": "StyleView",
            "_model_name": "ProgressStyleModel",
            "description_width": "",
            "_view_module": "@jupyter-widgets/base",
            "_model_module_version": "1.5.0",
            "_view_count": null,
            "_view_module_version": "1.2.0",
            "bar_color": null,
            "_model_module": "@jupyter-widgets/controls"
          }
        },
        "717986d9a1f14f0e8d0185ab5f05557b": {
          "model_module": "@jupyter-widgets/base",
          "model_name": "LayoutModel",
          "model_module_version": "1.2.0",
          "state": {
            "_view_name": "LayoutView",
            "grid_template_rows": null,
            "right": null,
            "justify_content": null,
            "_view_module": "@jupyter-widgets/base",
            "overflow": null,
            "_model_module_version": "1.2.0",
            "_view_count": null,
            "flex_flow": null,
            "width": "20px",
            "min_width": null,
            "border": null,
            "align_items": null,
            "bottom": null,
            "_model_module": "@jupyter-widgets/base",
            "top": null,
            "grid_column": null,
            "overflow_y": null,
            "overflow_x": null,
            "grid_auto_flow": null,
            "grid_area": null,
            "grid_template_columns": null,
            "flex": null,
            "_model_name": "LayoutModel",
            "justify_items": null,
            "grid_row": null,
            "max_height": null,
            "align_content": null,
            "visibility": null,
            "align_self": null,
            "height": null,
            "min_height": null,
            "padding": null,
            "grid_auto_rows": null,
            "grid_gap": null,
            "max_width": null,
            "order": null,
            "_view_module_version": "1.2.0",
            "grid_template_areas": null,
            "object_position": null,
            "object_fit": null,
            "grid_auto_columns": null,
            "margin": null,
            "display": null,
            "left": null
          }
        },
        "59f092ecb31c4556aaee5f81e4656c0f": {
          "model_module": "@jupyter-widgets/controls",
          "model_name": "DescriptionStyleModel",
          "model_module_version": "1.5.0",
          "state": {
            "_view_name": "StyleView",
            "_model_name": "DescriptionStyleModel",
            "description_width": "",
            "_view_module": "@jupyter-widgets/base",
            "_model_module_version": "1.5.0",
            "_view_count": null,
            "_view_module_version": "1.2.0",
            "_model_module": "@jupyter-widgets/controls"
          }
        },
        "337f708126eb4fc0bfad66277b213073": {
          "model_module": "@jupyter-widgets/base",
          "model_name": "LayoutModel",
          "model_module_version": "1.2.0",
          "state": {
            "_view_name": "LayoutView",
            "grid_template_rows": null,
            "right": null,
            "justify_content": null,
            "_view_module": "@jupyter-widgets/base",
            "overflow": null,
            "_model_module_version": "1.2.0",
            "_view_count": null,
            "flex_flow": null,
            "width": null,
            "min_width": null,
            "border": null,
            "align_items": null,
            "bottom": null,
            "_model_module": "@jupyter-widgets/base",
            "top": null,
            "grid_column": null,
            "overflow_y": null,
            "overflow_x": null,
            "grid_auto_flow": null,
            "grid_area": null,
            "grid_template_columns": null,
            "flex": null,
            "_model_name": "LayoutModel",
            "justify_items": null,
            "grid_row": null,
            "max_height": null,
            "align_content": null,
            "visibility": null,
            "align_self": null,
            "height": null,
            "min_height": null,
            "padding": null,
            "grid_auto_rows": null,
            "grid_gap": null,
            "max_width": null,
            "order": null,
            "_view_module_version": "1.2.0",
            "grid_template_areas": null,
            "object_position": null,
            "object_fit": null,
            "grid_auto_columns": null,
            "margin": null,
            "display": null,
            "left": null
          }
        },
        "43c7b6e4ba864a1099f2de828a1f2554": {
          "model_module": "@jupyter-widgets/controls",
          "model_name": "HBoxModel",
          "model_module_version": "1.5.0",
          "state": {
            "_view_name": "HBoxView",
            "_dom_classes": [],
            "_model_name": "HBoxModel",
            "_view_module": "@jupyter-widgets/controls",
            "_model_module_version": "1.5.0",
            "_view_count": null,
            "_view_module_version": "1.5.0",
            "box_style": "",
            "layout": "IPY_MODEL_f361b6ccd6834cac9fa73da7240714d8",
            "_model_module": "@jupyter-widgets/controls",
            "children": [
              "IPY_MODEL_410004d5303c47f8884711af59a821a5",
              "IPY_MODEL_9811a903bd154efba0637cd8b6d01926",
              "IPY_MODEL_daf64d90e84744c5aaaf2c2470fd3fdc"
            ]
          }
        },
        "f361b6ccd6834cac9fa73da7240714d8": {
          "model_module": "@jupyter-widgets/base",
          "model_name": "LayoutModel",
          "model_module_version": "1.2.0",
          "state": {
            "_view_name": "LayoutView",
            "grid_template_rows": null,
            "right": null,
            "justify_content": null,
            "_view_module": "@jupyter-widgets/base",
            "overflow": null,
            "_model_module_version": "1.2.0",
            "_view_count": null,
            "flex_flow": null,
            "width": null,
            "min_width": null,
            "border": null,
            "align_items": null,
            "bottom": null,
            "_model_module": "@jupyter-widgets/base",
            "top": null,
            "grid_column": null,
            "overflow_y": null,
            "overflow_x": null,
            "grid_auto_flow": null,
            "grid_area": null,
            "grid_template_columns": null,
            "flex": null,
            "_model_name": "LayoutModel",
            "justify_items": null,
            "grid_row": null,
            "max_height": null,
            "align_content": null,
            "visibility": null,
            "align_self": null,
            "height": null,
            "min_height": null,
            "padding": null,
            "grid_auto_rows": null,
            "grid_gap": null,
            "max_width": null,
            "order": null,
            "_view_module_version": "1.2.0",
            "grid_template_areas": null,
            "object_position": null,
            "object_fit": null,
            "grid_auto_columns": null,
            "margin": null,
            "display": null,
            "left": null
          }
        },
        "410004d5303c47f8884711af59a821a5": {
          "model_module": "@jupyter-widgets/controls",
          "model_name": "HTMLModel",
          "model_module_version": "1.5.0",
          "state": {
            "_view_name": "HTMLView",
            "style": "IPY_MODEL_4b2876cbdb5e4fa18624dd873fc420a4",
            "_dom_classes": [],
            "description": "",
            "_model_name": "HTMLModel",
            "placeholder": "​",
            "_view_module": "@jupyter-widgets/controls",
            "_model_module_version": "1.5.0",
            "value": "Downloading: ",
            "_view_count": null,
            "_view_module_version": "1.5.0",
            "description_tooltip": null,
            "_model_module": "@jupyter-widgets/controls",
            "layout": "IPY_MODEL_33276632740b442997796dca732241a7"
          }
        },
        "9811a903bd154efba0637cd8b6d01926": {
          "model_module": "@jupyter-widgets/controls",
          "model_name": "FloatProgressModel",
          "model_module_version": "1.5.0",
          "state": {
            "_view_name": "ProgressView",
            "style": "IPY_MODEL_c67af97847d64c81ab862379fc94b31c",
            "_dom_classes": [],
            "description": "",
            "_model_name": "FloatProgressModel",
            "bar_style": "success",
            "max": 1901,
            "_view_module": "@jupyter-widgets/controls",
            "_model_module_version": "1.5.0",
            "value": 1901,
            "_view_count": null,
            "_view_module_version": "1.5.0",
            "orientation": "horizontal",
            "min": 0,
            "description_tooltip": null,
            "_model_module": "@jupyter-widgets/controls",
            "layout": "IPY_MODEL_5b16d22cd03944e3b7bb442ccf7bfab2"
          }
        },
        "daf64d90e84744c5aaaf2c2470fd3fdc": {
          "model_module": "@jupyter-widgets/controls",
          "model_name": "HTMLModel",
          "model_module_version": "1.5.0",
          "state": {
            "_view_name": "HTMLView",
            "style": "IPY_MODEL_176f539dc79a4763a45d9a31d805a24b",
            "_dom_classes": [],
            "description": "",
            "_model_name": "HTMLModel",
            "placeholder": "​",
            "_view_module": "@jupyter-widgets/controls",
            "_model_module_version": "1.5.0",
            "value": " 4.48k/? [00:00&lt;00:00, 116kB/s]",
            "_view_count": null,
            "_view_module_version": "1.5.0",
            "description_tooltip": null,
            "_model_module": "@jupyter-widgets/controls",
            "layout": "IPY_MODEL_55dc2040f2854768bec30ce06503d875"
          }
        },
        "4b2876cbdb5e4fa18624dd873fc420a4": {
          "model_module": "@jupyter-widgets/controls",
          "model_name": "DescriptionStyleModel",
          "model_module_version": "1.5.0",
          "state": {
            "_view_name": "StyleView",
            "_model_name": "DescriptionStyleModel",
            "description_width": "",
            "_view_module": "@jupyter-widgets/base",
            "_model_module_version": "1.5.0",
            "_view_count": null,
            "_view_module_version": "1.2.0",
            "_model_module": "@jupyter-widgets/controls"
          }
        },
        "33276632740b442997796dca732241a7": {
          "model_module": "@jupyter-widgets/base",
          "model_name": "LayoutModel",
          "model_module_version": "1.2.0",
          "state": {
            "_view_name": "LayoutView",
            "grid_template_rows": null,
            "right": null,
            "justify_content": null,
            "_view_module": "@jupyter-widgets/base",
            "overflow": null,
            "_model_module_version": "1.2.0",
            "_view_count": null,
            "flex_flow": null,
            "width": null,
            "min_width": null,
            "border": null,
            "align_items": null,
            "bottom": null,
            "_model_module": "@jupyter-widgets/base",
            "top": null,
            "grid_column": null,
            "overflow_y": null,
            "overflow_x": null,
            "grid_auto_flow": null,
            "grid_area": null,
            "grid_template_columns": null,
            "flex": null,
            "_model_name": "LayoutModel",
            "justify_items": null,
            "grid_row": null,
            "max_height": null,
            "align_content": null,
            "visibility": null,
            "align_self": null,
            "height": null,
            "min_height": null,
            "padding": null,
            "grid_auto_rows": null,
            "grid_gap": null,
            "max_width": null,
            "order": null,
            "_view_module_version": "1.2.0",
            "grid_template_areas": null,
            "object_position": null,
            "object_fit": null,
            "grid_auto_columns": null,
            "margin": null,
            "display": null,
            "left": null
          }
        },
        "c67af97847d64c81ab862379fc94b31c": {
          "model_module": "@jupyter-widgets/controls",
          "model_name": "ProgressStyleModel",
          "model_module_version": "1.5.0",
          "state": {
            "_view_name": "StyleView",
            "_model_name": "ProgressStyleModel",
            "description_width": "",
            "_view_module": "@jupyter-widgets/base",
            "_model_module_version": "1.5.0",
            "_view_count": null,
            "_view_module_version": "1.2.0",
            "bar_color": null,
            "_model_module": "@jupyter-widgets/controls"
          }
        },
        "5b16d22cd03944e3b7bb442ccf7bfab2": {
          "model_module": "@jupyter-widgets/base",
          "model_name": "LayoutModel",
          "model_module_version": "1.2.0",
          "state": {
            "_view_name": "LayoutView",
            "grid_template_rows": null,
            "right": null,
            "justify_content": null,
            "_view_module": "@jupyter-widgets/base",
            "overflow": null,
            "_model_module_version": "1.2.0",
            "_view_count": null,
            "flex_flow": null,
            "width": null,
            "min_width": null,
            "border": null,
            "align_items": null,
            "bottom": null,
            "_model_module": "@jupyter-widgets/base",
            "top": null,
            "grid_column": null,
            "overflow_y": null,
            "overflow_x": null,
            "grid_auto_flow": null,
            "grid_area": null,
            "grid_template_columns": null,
            "flex": null,
            "_model_name": "LayoutModel",
            "justify_items": null,
            "grid_row": null,
            "max_height": null,
            "align_content": null,
            "visibility": null,
            "align_self": null,
            "height": null,
            "min_height": null,
            "padding": null,
            "grid_auto_rows": null,
            "grid_gap": null,
            "max_width": null,
            "order": null,
            "_view_module_version": "1.2.0",
            "grid_template_areas": null,
            "object_position": null,
            "object_fit": null,
            "grid_auto_columns": null,
            "margin": null,
            "display": null,
            "left": null
          }
        },
        "176f539dc79a4763a45d9a31d805a24b": {
          "model_module": "@jupyter-widgets/controls",
          "model_name": "DescriptionStyleModel",
          "model_module_version": "1.5.0",
          "state": {
            "_view_name": "StyleView",
            "_model_name": "DescriptionStyleModel",
            "description_width": "",
            "_view_module": "@jupyter-widgets/base",
            "_model_module_version": "1.5.0",
            "_view_count": null,
            "_view_module_version": "1.2.0",
            "_model_module": "@jupyter-widgets/controls"
          }
        },
        "55dc2040f2854768bec30ce06503d875": {
          "model_module": "@jupyter-widgets/base",
          "model_name": "LayoutModel",
          "model_module_version": "1.2.0",
          "state": {
            "_view_name": "LayoutView",
            "grid_template_rows": null,
            "right": null,
            "justify_content": null,
            "_view_module": "@jupyter-widgets/base",
            "overflow": null,
            "_model_module_version": "1.2.0",
            "_view_count": null,
            "flex_flow": null,
            "width": null,
            "min_width": null,
            "border": null,
            "align_items": null,
            "bottom": null,
            "_model_module": "@jupyter-widgets/base",
            "top": null,
            "grid_column": null,
            "overflow_y": null,
            "overflow_x": null,
            "grid_auto_flow": null,
            "grid_area": null,
            "grid_template_columns": null,
            "flex": null,
            "_model_name": "LayoutModel",
            "justify_items": null,
            "grid_row": null,
            "max_height": null,
            "align_content": null,
            "visibility": null,
            "align_self": null,
            "height": null,
            "min_height": null,
            "padding": null,
            "grid_auto_rows": null,
            "grid_gap": null,
            "max_width": null,
            "order": null,
            "_view_module_version": "1.2.0",
            "grid_template_areas": null,
            "object_position": null,
            "object_fit": null,
            "grid_auto_columns": null,
            "margin": null,
            "display": null,
            "left": null
          }
        },
        "205d691639e24aaf935114baa24a7a0d": {
          "model_module": "@jupyter-widgets/controls",
          "model_name": "HBoxModel",
          "model_module_version": "1.5.0",
          "state": {
            "_view_name": "HBoxView",
            "_dom_classes": [],
            "_model_name": "HBoxModel",
            "_view_module": "@jupyter-widgets/controls",
            "_model_module_version": "1.5.0",
            "_view_count": null,
            "_view_module_version": "1.5.0",
            "box_style": "",
            "layout": "IPY_MODEL_e07706879a88468a8612c7f2c0d8eb7e",
            "_model_module": "@jupyter-widgets/controls",
            "children": [
              "IPY_MODEL_760b1c9012f64414b600cf0c1478b57c",
              "IPY_MODEL_5e4244375cd94e70bdf5a02e8864aed5",
              "IPY_MODEL_257c1e3bd72449c4bf7998511cfea539"
            ]
          }
        },
        "e07706879a88468a8612c7f2c0d8eb7e": {
          "model_module": "@jupyter-widgets/base",
          "model_name": "LayoutModel",
          "model_module_version": "1.2.0",
          "state": {
            "_view_name": "LayoutView",
            "grid_template_rows": null,
            "right": null,
            "justify_content": null,
            "_view_module": "@jupyter-widgets/base",
            "overflow": null,
            "_model_module_version": "1.2.0",
            "_view_count": null,
            "flex_flow": null,
            "width": null,
            "min_width": null,
            "border": null,
            "align_items": null,
            "bottom": null,
            "_model_module": "@jupyter-widgets/base",
            "top": null,
            "grid_column": null,
            "overflow_y": null,
            "overflow_x": null,
            "grid_auto_flow": null,
            "grid_area": null,
            "grid_template_columns": null,
            "flex": null,
            "_model_name": "LayoutModel",
            "justify_items": null,
            "grid_row": null,
            "max_height": null,
            "align_content": null,
            "visibility": null,
            "align_self": null,
            "height": null,
            "min_height": null,
            "padding": null,
            "grid_auto_rows": null,
            "grid_gap": null,
            "max_width": null,
            "order": null,
            "_view_module_version": "1.2.0",
            "grid_template_areas": null,
            "object_position": null,
            "object_fit": null,
            "grid_auto_columns": null,
            "margin": null,
            "display": null,
            "left": null
          }
        },
        "760b1c9012f64414b600cf0c1478b57c": {
          "model_module": "@jupyter-widgets/controls",
          "model_name": "HTMLModel",
          "model_module_version": "1.5.0",
          "state": {
            "_view_name": "HTMLView",
            "style": "IPY_MODEL_aa7f95131f5c4ee0b39f13f27910c1ff",
            "_dom_classes": [],
            "description": "",
            "_model_name": "HTMLModel",
            "placeholder": "​",
            "_view_module": "@jupyter-widgets/controls",
            "_model_module_version": "1.5.0",
            "value": "Downloading: 100%",
            "_view_count": null,
            "_view_module_version": "1.5.0",
            "description_tooltip": null,
            "_model_module": "@jupyter-widgets/controls",
            "layout": "IPY_MODEL_6add158c13ee47949ec8111189e6e1f1"
          }
        },
        "5e4244375cd94e70bdf5a02e8864aed5": {
          "model_module": "@jupyter-widgets/controls",
          "model_name": "FloatProgressModel",
          "model_module_version": "1.5.0",
          "state": {
            "_view_name": "ProgressView",
            "style": "IPY_MODEL_ad43db9319294534950fe63925c0d007",
            "_dom_classes": [],
            "description": "",
            "_model_name": "FloatProgressModel",
            "bar_style": "success",
            "max": 1568,
            "_view_module": "@jupyter-widgets/controls",
            "_model_module_version": "1.5.0",
            "value": 1568,
            "_view_count": null,
            "_view_module_version": "1.5.0",
            "orientation": "horizontal",
            "min": 0,
            "description_tooltip": null,
            "_model_module": "@jupyter-widgets/controls",
            "layout": "IPY_MODEL_2324a438a1c2447d9b3ab9b06102bead"
          }
        },
        "257c1e3bd72449c4bf7998511cfea539": {
          "model_module": "@jupyter-widgets/controls",
          "model_name": "HTMLModel",
          "model_module_version": "1.5.0",
          "state": {
            "_view_name": "HTMLView",
            "style": "IPY_MODEL_4678ef25287041faa2bda9889fc54285",
            "_dom_classes": [],
            "description": "",
            "_model_name": "HTMLModel",
            "placeholder": "​",
            "_view_module": "@jupyter-widgets/controls",
            "_model_module_version": "1.5.0",
            "value": " 1.53k/1.53k [00:00&lt;00:00, 40.6kB/s]",
            "_view_count": null,
            "_view_module_version": "1.5.0",
            "description_tooltip": null,
            "_model_module": "@jupyter-widgets/controls",
            "layout": "IPY_MODEL_74a0a02d291743bb91ad45b26739f096"
          }
        },
        "aa7f95131f5c4ee0b39f13f27910c1ff": {
          "model_module": "@jupyter-widgets/controls",
          "model_name": "DescriptionStyleModel",
          "model_module_version": "1.5.0",
          "state": {
            "_view_name": "StyleView",
            "_model_name": "DescriptionStyleModel",
            "description_width": "",
            "_view_module": "@jupyter-widgets/base",
            "_model_module_version": "1.5.0",
            "_view_count": null,
            "_view_module_version": "1.2.0",
            "_model_module": "@jupyter-widgets/controls"
          }
        },
        "6add158c13ee47949ec8111189e6e1f1": {
          "model_module": "@jupyter-widgets/base",
          "model_name": "LayoutModel",
          "model_module_version": "1.2.0",
          "state": {
            "_view_name": "LayoutView",
            "grid_template_rows": null,
            "right": null,
            "justify_content": null,
            "_view_module": "@jupyter-widgets/base",
            "overflow": null,
            "_model_module_version": "1.2.0",
            "_view_count": null,
            "flex_flow": null,
            "width": null,
            "min_width": null,
            "border": null,
            "align_items": null,
            "bottom": null,
            "_model_module": "@jupyter-widgets/base",
            "top": null,
            "grid_column": null,
            "overflow_y": null,
            "overflow_x": null,
            "grid_auto_flow": null,
            "grid_area": null,
            "grid_template_columns": null,
            "flex": null,
            "_model_name": "LayoutModel",
            "justify_items": null,
            "grid_row": null,
            "max_height": null,
            "align_content": null,
            "visibility": null,
            "align_self": null,
            "height": null,
            "min_height": null,
            "padding": null,
            "grid_auto_rows": null,
            "grid_gap": null,
            "max_width": null,
            "order": null,
            "_view_module_version": "1.2.0",
            "grid_template_areas": null,
            "object_position": null,
            "object_fit": null,
            "grid_auto_columns": null,
            "margin": null,
            "display": null,
            "left": null
          }
        },
        "ad43db9319294534950fe63925c0d007": {
          "model_module": "@jupyter-widgets/controls",
          "model_name": "ProgressStyleModel",
          "model_module_version": "1.5.0",
          "state": {
            "_view_name": "StyleView",
            "_model_name": "ProgressStyleModel",
            "description_width": "",
            "_view_module": "@jupyter-widgets/base",
            "_model_module_version": "1.5.0",
            "_view_count": null,
            "_view_module_version": "1.2.0",
            "bar_color": null,
            "_model_module": "@jupyter-widgets/controls"
          }
        },
        "2324a438a1c2447d9b3ab9b06102bead": {
          "model_module": "@jupyter-widgets/base",
          "model_name": "LayoutModel",
          "model_module_version": "1.2.0",
          "state": {
            "_view_name": "LayoutView",
            "grid_template_rows": null,
            "right": null,
            "justify_content": null,
            "_view_module": "@jupyter-widgets/base",
            "overflow": null,
            "_model_module_version": "1.2.0",
            "_view_count": null,
            "flex_flow": null,
            "width": null,
            "min_width": null,
            "border": null,
            "align_items": null,
            "bottom": null,
            "_model_module": "@jupyter-widgets/base",
            "top": null,
            "grid_column": null,
            "overflow_y": null,
            "overflow_x": null,
            "grid_auto_flow": null,
            "grid_area": null,
            "grid_template_columns": null,
            "flex": null,
            "_model_name": "LayoutModel",
            "justify_items": null,
            "grid_row": null,
            "max_height": null,
            "align_content": null,
            "visibility": null,
            "align_self": null,
            "height": null,
            "min_height": null,
            "padding": null,
            "grid_auto_rows": null,
            "grid_gap": null,
            "max_width": null,
            "order": null,
            "_view_module_version": "1.2.0",
            "grid_template_areas": null,
            "object_position": null,
            "object_fit": null,
            "grid_auto_columns": null,
            "margin": null,
            "display": null,
            "left": null
          }
        },
        "4678ef25287041faa2bda9889fc54285": {
          "model_module": "@jupyter-widgets/controls",
          "model_name": "DescriptionStyleModel",
          "model_module_version": "1.5.0",
          "state": {
            "_view_name": "StyleView",
            "_model_name": "DescriptionStyleModel",
            "description_width": "",
            "_view_module": "@jupyter-widgets/base",
            "_model_module_version": "1.5.0",
            "_view_count": null,
            "_view_module_version": "1.2.0",
            "_model_module": "@jupyter-widgets/controls"
          }
        },
        "74a0a02d291743bb91ad45b26739f096": {
          "model_module": "@jupyter-widgets/base",
          "model_name": "LayoutModel",
          "model_module_version": "1.2.0",
          "state": {
            "_view_name": "LayoutView",
            "grid_template_rows": null,
            "right": null,
            "justify_content": null,
            "_view_module": "@jupyter-widgets/base",
            "overflow": null,
            "_model_module_version": "1.2.0",
            "_view_count": null,
            "flex_flow": null,
            "width": null,
            "min_width": null,
            "border": null,
            "align_items": null,
            "bottom": null,
            "_model_module": "@jupyter-widgets/base",
            "top": null,
            "grid_column": null,
            "overflow_y": null,
            "overflow_x": null,
            "grid_auto_flow": null,
            "grid_area": null,
            "grid_template_columns": null,
            "flex": null,
            "_model_name": "LayoutModel",
            "justify_items": null,
            "grid_row": null,
            "max_height": null,
            "align_content": null,
            "visibility": null,
            "align_self": null,
            "height": null,
            "min_height": null,
            "padding": null,
            "grid_auto_rows": null,
            "grid_gap": null,
            "max_width": null,
            "order": null,
            "_view_module_version": "1.2.0",
            "grid_template_areas": null,
            "object_position": null,
            "object_fit": null,
            "grid_auto_columns": null,
            "margin": null,
            "display": null,
            "left": null
          }
        },
        "679cea3fdcbd450cb55d832e01b29e38": {
          "model_module": "@jupyter-widgets/controls",
          "model_name": "HBoxModel",
          "model_module_version": "1.5.0",
          "state": {
            "_view_name": "HBoxView",
            "_dom_classes": [],
            "_model_name": "HBoxModel",
            "_view_module": "@jupyter-widgets/controls",
            "_model_module_version": "1.5.0",
            "_view_count": null,
            "_view_module_version": "1.5.0",
            "box_style": "",
            "layout": "IPY_MODEL_dc304d7192a04a41a0235530e10fbfa6",
            "_model_module": "@jupyter-widgets/controls",
            "children": [
              "IPY_MODEL_614e0aacfbe4477fb6ec35682decf9da",
              "IPY_MODEL_7ff0b2843aa74d6285f4274c3d5234af",
              "IPY_MODEL_2760cc2583794b77a954897bf3bc1b76"
            ]
          }
        },
        "dc304d7192a04a41a0235530e10fbfa6": {
          "model_module": "@jupyter-widgets/base",
          "model_name": "LayoutModel",
          "model_module_version": "1.2.0",
          "state": {
            "_view_name": "LayoutView",
            "grid_template_rows": null,
            "right": null,
            "justify_content": null,
            "_view_module": "@jupyter-widgets/base",
            "overflow": null,
            "_model_module_version": "1.2.0",
            "_view_count": null,
            "flex_flow": null,
            "width": null,
            "min_width": null,
            "border": null,
            "align_items": null,
            "bottom": null,
            "_model_module": "@jupyter-widgets/base",
            "top": null,
            "grid_column": null,
            "overflow_y": null,
            "overflow_x": null,
            "grid_auto_flow": null,
            "grid_area": null,
            "grid_template_columns": null,
            "flex": null,
            "_model_name": "LayoutModel",
            "justify_items": null,
            "grid_row": null,
            "max_height": null,
            "align_content": null,
            "visibility": null,
            "align_self": null,
            "height": null,
            "min_height": null,
            "padding": null,
            "grid_auto_rows": null,
            "grid_gap": null,
            "max_width": null,
            "order": null,
            "_view_module_version": "1.2.0",
            "grid_template_areas": null,
            "object_position": null,
            "object_fit": null,
            "grid_auto_columns": null,
            "margin": null,
            "display": null,
            "left": null
          }
        },
        "614e0aacfbe4477fb6ec35682decf9da": {
          "model_module": "@jupyter-widgets/controls",
          "model_name": "HTMLModel",
          "model_module_version": "1.5.0",
          "state": {
            "_view_name": "HTMLView",
            "style": "IPY_MODEL_f191f276461d4cbb912580c5c81666e8",
            "_dom_classes": [],
            "description": "",
            "_model_name": "HTMLModel",
            "placeholder": "​",
            "_view_module": "@jupyter-widgets/controls",
            "_model_module_version": "1.5.0",
            "value": "Downloading: 100%",
            "_view_count": null,
            "_view_module_version": "1.5.0",
            "description_tooltip": null,
            "_model_module": "@jupyter-widgets/controls",
            "layout": "IPY_MODEL_3e2e9b44e0314a2fa45f993a24cb65e5"
          }
        },
        "7ff0b2843aa74d6285f4274c3d5234af": {
          "model_module": "@jupyter-widgets/controls",
          "model_name": "FloatProgressModel",
          "model_module_version": "1.5.0",
          "state": {
            "_view_name": "ProgressView",
            "style": "IPY_MODEL_e5b7ae5fe1af48e6934a06c2ad04dd8a",
            "_dom_classes": [],
            "description": "",
            "_model_name": "FloatProgressModel",
            "bar_style": "success",
            "max": 1269737156,
            "_view_module": "@jupyter-widgets/controls",
            "_model_module_version": "1.5.0",
            "value": 1269737156,
            "_view_count": null,
            "_view_module_version": "1.5.0",
            "orientation": "horizontal",
            "min": 0,
            "description_tooltip": null,
            "_model_module": "@jupyter-widgets/controls",
            "layout": "IPY_MODEL_7a1da3349a7b44918ffc512a66206c65"
          }
        },
        "2760cc2583794b77a954897bf3bc1b76": {
          "model_module": "@jupyter-widgets/controls",
          "model_name": "HTMLModel",
          "model_module_version": "1.5.0",
          "state": {
            "_view_name": "HTMLView",
            "style": "IPY_MODEL_f689c72829ed44c6ae98627e854244fa",
            "_dom_classes": [],
            "description": "",
            "_model_name": "HTMLModel",
            "placeholder": "​",
            "_view_module": "@jupyter-widgets/controls",
            "_model_module_version": "1.5.0",
            "value": " 1.18G/1.18G [00:39&lt;00:00, 31.2MB/s]",
            "_view_count": null,
            "_view_module_version": "1.5.0",
            "description_tooltip": null,
            "_model_module": "@jupyter-widgets/controls",
            "layout": "IPY_MODEL_77ad3adaf25f41f292f2a26da873866e"
          }
        },
        "f191f276461d4cbb912580c5c81666e8": {
          "model_module": "@jupyter-widgets/controls",
          "model_name": "DescriptionStyleModel",
          "model_module_version": "1.5.0",
          "state": {
            "_view_name": "StyleView",
            "_model_name": "DescriptionStyleModel",
            "description_width": "",
            "_view_module": "@jupyter-widgets/base",
            "_model_module_version": "1.5.0",
            "_view_count": null,
            "_view_module_version": "1.2.0",
            "_model_module": "@jupyter-widgets/controls"
          }
        },
        "3e2e9b44e0314a2fa45f993a24cb65e5": {
          "model_module": "@jupyter-widgets/base",
          "model_name": "LayoutModel",
          "model_module_version": "1.2.0",
          "state": {
            "_view_name": "LayoutView",
            "grid_template_rows": null,
            "right": null,
            "justify_content": null,
            "_view_module": "@jupyter-widgets/base",
            "overflow": null,
            "_model_module_version": "1.2.0",
            "_view_count": null,
            "flex_flow": null,
            "width": null,
            "min_width": null,
            "border": null,
            "align_items": null,
            "bottom": null,
            "_model_module": "@jupyter-widgets/base",
            "top": null,
            "grid_column": null,
            "overflow_y": null,
            "overflow_x": null,
            "grid_auto_flow": null,
            "grid_area": null,
            "grid_template_columns": null,
            "flex": null,
            "_model_name": "LayoutModel",
            "justify_items": null,
            "grid_row": null,
            "max_height": null,
            "align_content": null,
            "visibility": null,
            "align_self": null,
            "height": null,
            "min_height": null,
            "padding": null,
            "grid_auto_rows": null,
            "grid_gap": null,
            "max_width": null,
            "order": null,
            "_view_module_version": "1.2.0",
            "grid_template_areas": null,
            "object_position": null,
            "object_fit": null,
            "grid_auto_columns": null,
            "margin": null,
            "display": null,
            "left": null
          }
        },
        "e5b7ae5fe1af48e6934a06c2ad04dd8a": {
          "model_module": "@jupyter-widgets/controls",
          "model_name": "ProgressStyleModel",
          "model_module_version": "1.5.0",
          "state": {
            "_view_name": "StyleView",
            "_model_name": "ProgressStyleModel",
            "description_width": "",
            "_view_module": "@jupyter-widgets/base",
            "_model_module_version": "1.5.0",
            "_view_count": null,
            "_view_module_version": "1.2.0",
            "bar_color": null,
            "_model_module": "@jupyter-widgets/controls"
          }
        },
        "7a1da3349a7b44918ffc512a66206c65": {
          "model_module": "@jupyter-widgets/base",
          "model_name": "LayoutModel",
          "model_module_version": "1.2.0",
          "state": {
            "_view_name": "LayoutView",
            "grid_template_rows": null,
            "right": null,
            "justify_content": null,
            "_view_module": "@jupyter-widgets/base",
            "overflow": null,
            "_model_module_version": "1.2.0",
            "_view_count": null,
            "flex_flow": null,
            "width": null,
            "min_width": null,
            "border": null,
            "align_items": null,
            "bottom": null,
            "_model_module": "@jupyter-widgets/base",
            "top": null,
            "grid_column": null,
            "overflow_y": null,
            "overflow_x": null,
            "grid_auto_flow": null,
            "grid_area": null,
            "grid_template_columns": null,
            "flex": null,
            "_model_name": "LayoutModel",
            "justify_items": null,
            "grid_row": null,
            "max_height": null,
            "align_content": null,
            "visibility": null,
            "align_self": null,
            "height": null,
            "min_height": null,
            "padding": null,
            "grid_auto_rows": null,
            "grid_gap": null,
            "max_width": null,
            "order": null,
            "_view_module_version": "1.2.0",
            "grid_template_areas": null,
            "object_position": null,
            "object_fit": null,
            "grid_auto_columns": null,
            "margin": null,
            "display": null,
            "left": null
          }
        },
        "f689c72829ed44c6ae98627e854244fa": {
          "model_module": "@jupyter-widgets/controls",
          "model_name": "DescriptionStyleModel",
          "model_module_version": "1.5.0",
          "state": {
            "_view_name": "StyleView",
            "_model_name": "DescriptionStyleModel",
            "description_width": "",
            "_view_module": "@jupyter-widgets/base",
            "_model_module_version": "1.5.0",
            "_view_count": null,
            "_view_module_version": "1.2.0",
            "_model_module": "@jupyter-widgets/controls"
          }
        },
        "77ad3adaf25f41f292f2a26da873866e": {
          "model_module": "@jupyter-widgets/base",
          "model_name": "LayoutModel",
          "model_module_version": "1.2.0",
          "state": {
            "_view_name": "LayoutView",
            "grid_template_rows": null,
            "right": null,
            "justify_content": null,
            "_view_module": "@jupyter-widgets/base",
            "overflow": null,
            "_model_module_version": "1.2.0",
            "_view_count": null,
            "flex_flow": null,
            "width": null,
            "min_width": null,
            "border": null,
            "align_items": null,
            "bottom": null,
            "_model_module": "@jupyter-widgets/base",
            "top": null,
            "grid_column": null,
            "overflow_y": null,
            "overflow_x": null,
            "grid_auto_flow": null,
            "grid_area": null,
            "grid_template_columns": null,
            "flex": null,
            "_model_name": "LayoutModel",
            "justify_items": null,
            "grid_row": null,
            "max_height": null,
            "align_content": null,
            "visibility": null,
            "align_self": null,
            "height": null,
            "min_height": null,
            "padding": null,
            "grid_auto_rows": null,
            "grid_gap": null,
            "max_width": null,
            "order": null,
            "_view_module_version": "1.2.0",
            "grid_template_areas": null,
            "object_position": null,
            "object_fit": null,
            "grid_auto_columns": null,
            "margin": null,
            "display": null,
            "left": null
          }
        }
      }
    }
  },
  "cells": [
    {
      "cell_type": "markdown",
      "metadata": {
        "id": "LBSYoWbi-45k"
      },
      "source": [
        "# Fine-tuning XLS-R on Chech CommonVoice 8.0\n",
        "\n",
        "***New (11/2021)***: *This blog post has been updated to feature XLSR's successor, called [XLS-R](https://huggingface.co/models?other=xls_r)*."
      ]
    },
    {
      "cell_type": "markdown",
      "metadata": {
        "id": "V7YOT2mnUiea"
      },
      "source": [
        "\n",
        "- [**Wav2Vec2-XLS-R-300M**](https://huggingface.co/facebook/wav2vec2-xls-r-300m)\n",
        "- [**Wav2Vec2-XLS-R-1B**](https://huggingface.co/facebook/wav2vec2-xls-r-1b)\n",
        "- [**Wav2Vec2-XLS-R-2B**](https://huggingface.co/facebook/wav2vec2-xls-r-2b)"
      ]
    },
    {
      "cell_type": "markdown",
      "metadata": {
        "id": "nT_QrfWtsxIz"
      },
      "source": [
        "## Notebook Setup"
      ]
    },
    {
      "cell_type": "markdown",
      "metadata": {
        "id": "kruqixOYHaIo"
      },
      "source": [
        "\n",
        "In this notebook, we will give an in-detail explanation of how XLS-R - more specifically the pre-trained checkpoint [**Wav2Vec2-XLS-R-300M**](https://huggingface.co/facebook/wav2vec2-xls-r-300m) - can be fine-tuned for ASR.  \n",
        "\n",
        "For demonstration purposes, we fine-tune the model on the low resource ASR dataset of [Common Voice](https://huggingface.co/datasets/common_voice) that contains only *ca.* 4h of validated training data."
      ]
    },
    {
      "cell_type": "markdown",
      "metadata": {
        "id": "Gx9OdDYrCtQ1"
      },
      "source": [
        "XLS-R is fine-tuned using Connectionist Temporal Classification (CTC), which is an algorithm that is used to train neural networks for sequence-to-sequence problems, such as ASR and handwriting recognition. \n",
        "\n",
        "I highly recommend reading the well-written blog post [*Sequence Modeling with CTC (2017)*](https://distill.pub/2017/ctc/) by Awni Hannun."
      ]
    },
    {
      "cell_type": "markdown",
      "metadata": {
        "id": "wcHuXIaWyHZU"
      },
      "source": [
        "First, let's try to get a good GPU in our colab! With Google Colab's free version it's sadly becoming much harder to get access to a good GPU. With Google Colab Pro, however, one should easily get either a V100 or P100 GPU."
      ]
    },
    {
      "cell_type": "code",
      "metadata": {
        "colab": {
          "base_uri": "https://localhost:8080/"
        },
        "id": "YELVqGxMxnbG",
        "outputId": "686c62e2-5bc4-4430-ed95-bb0929bf7637"
      },
      "source": [
        "gpu_info = !nvidia-smi\n",
        "gpu_info = '\\n'.join(gpu_info)\n",
        "if gpu_info.find('failed') >= 0:\n",
        "  print('Not connected to a GPU')\n",
        "else:\n",
        "  print(gpu_info)"
      ],
      "execution_count": null,
      "outputs": [
        {
          "output_type": "stream",
          "name": "stdout",
          "text": [
            "Fri Mar  4 21:55:57 2022       \n",
            "+-----------------------------------------------------------------------------+\n",
            "| NVIDIA-SMI 460.32.03    Driver Version: 460.32.03    CUDA Version: 11.2     |\n",
            "|-------------------------------+----------------------+----------------------+\n",
            "| GPU  Name        Persistence-M| Bus-Id        Disp.A | Volatile Uncorr. ECC |\n",
            "| Fan  Temp  Perf  Pwr:Usage/Cap|         Memory-Usage | GPU-Util  Compute M. |\n",
            "|                               |                      |               MIG M. |\n",
            "|===============================+======================+======================|\n",
            "|   0  Tesla K80           Off  | 00000000:00:04.0 Off |                    0 |\n",
            "| N/A   63C    P8    33W / 149W |      0MiB / 11441MiB |      0%      Default |\n",
            "|                               |                      |                  N/A |\n",
            "+-------------------------------+----------------------+----------------------+\n",
            "                                                                               \n",
            "+-----------------------------------------------------------------------------+\n",
            "| Processes:                                                                  |\n",
            "|  GPU   GI   CI        PID   Type   Process name                  GPU Memory |\n",
            "|        ID   ID                                                   Usage      |\n",
            "|=============================================================================|\n",
            "|  No running processes found                                                 |\n",
            "+-----------------------------------------------------------------------------+\n"
          ]
        }
      ]
    },
    {
      "cell_type": "markdown",
      "metadata": {
        "id": "e335hPmdtASZ"
      },
      "source": [
        "Before we start, let's install `datasets` and `transformers`. Also, we need the `torchaudio` to load audio files and `jiwer` to evaluate our fine-tuned model using the [word error rate (WER)](https://huggingface.co/metrics/wer) metric ${}^1$."
      ]
    },
    {
      "cell_type": "code",
      "metadata": {
        "id": "c8eh87Hoee5d"
      },
      "source": [
        "%%capture\n",
        "!pip install datasets==1.18.3\n",
        "!pip install transformers==4.11.3\n",
        "!pip install huggingface_hub==0.1\n",
        "!pip install torchaudio==0.10.0+cu113 -f https://download.pytorch.org/whl/cu113/torch_stable.html\n",
        "!pip install jiwer"
      ],
      "execution_count": null,
      "outputs": []
    },
    {
      "cell_type": "markdown",
      "metadata": {
        "id": "0xxt_LwxDQlO"
      },
      "source": [
        "We strongly suggest to upload your training checkpoints directly to the [🤗 Hub](https://huggingface.co/) while training. The [🤗 Hub](https://huggingface.co/) has integrated version control so you can be sure that no model checkpoint is getting lost during training. \n",
        "\n",
        "To do so you have to store your authentication token from the Hugging Face website (sign up [here](https://huggingface.co/join) if you haven't already!)"
      ]
    },
    {
      "cell_type": "code",
      "metadata": {
        "colab": {
          "base_uri": "https://localhost:8080/",
          "height": 267,
          "referenced_widgets": [
            "a8929a80367a4f46939ecb3b35872799",
            "f2ba46ff216a485d877da54ce72b4019",
            "6de16a97cbfe4a6b9dc323eaf3b1e0f5",
            "a4fa79b401d54d119e2eaa81a7f046b0",
            "103ef42ea9924d05a1d75403b49bf779",
            "0c30b39d941847e298b3c8e439038ac8",
            "faf1370cb2d94f5289de305e9867c2bc",
            "4112f2f6e8d64d1995462d02330535a8",
            "dffda7d1c72b49b2b1f0d432c03f7cf0",
            "dee53a58f45b4545bb92f0f0f3185f49",
            "05ec205082e6469681ea83f38700a11d",
            "5be07d41e3e848cf82eef3320c09cf34",
            "d03e7d0aa4074cff91a0e22ddff94dd6",
            "608bee63039b46dcb81f49b30f215b9b",
            "3b7d88d137a949ab9d8d45047770f260",
            "a23a8e5537f243a6853ec0b923916068"
          ]
        },
        "id": "mlMSH3T3EazV",
        "outputId": "413e468f-ed3e-4b34-b56d-2d6ac9e990f7"
      },
      "source": [
        "from huggingface_hub import notebook_login\n",
        "\n",
        "notebook_login()"
      ],
      "execution_count": null,
      "outputs": [
        {
          "output_type": "stream",
          "name": "stdout",
          "text": [
            "Login successful\n",
            "Your token has been saved to /root/.huggingface/token\n",
            "\u001b[1m\u001b[31mAuthenticated through git-crendential store but this isn't the helper defined on your machine.\n",
            "You will have to re-authenticate when pushing to the Hugging Face Hub. Run the following command in your terminal to set it as the default\n",
            "\n",
            "git config --global credential.helper store\u001b[0m\n"
          ]
        }
      ]
    },
    {
      "cell_type": "markdown",
      "metadata": {
        "id": "ujdZ2TxhElk6"
      },
      "source": [
        "\n",
        "Then you need to install Git-LFS to upload your model checkpoints:"
      ]
    },
    {
      "cell_type": "code",
      "metadata": {
        "id": "WcR-d83OEkqb"
      },
      "source": [
        "%%capture\n",
        "!apt install git-lfs"
      ],
      "execution_count": null,
      "outputs": []
    },
    {
      "cell_type": "markdown",
      "metadata": {
        "id": "Mn9swf6EQ9Vd"
      },
      "source": [
        ""
      ]
    },
    {
      "cell_type": "markdown",
      "metadata": {
        "id": "0mW-C1Nt-j7k"
      },
      "source": [
        "## Prepare Data, Tokenizer, Feature Extractor"
      ]
    },
    {
      "cell_type": "markdown",
      "metadata": {
        "id": "BeBosnY9BH3e"
      },
      "source": [
        ""
      ]
    },
    {
      "cell_type": "markdown",
      "metadata": {
        "id": "sEXEWEJGQPqD"
      },
      "source": [
        "### Create `Wav2Vec2CTCTokenizer`"
      ]
    },
    {
      "cell_type": "code",
      "metadata": {
        "id": "2MMXcWFFgCXU"
      },
      "source": [
        "%%capture\n",
        "from datasets import load_dataset, load_metric, Audio\n",
        "\n",
        "common_voice_train = load_dataset(\"common_voice\", \"cs\", split=\"train+validation\")\n",
        "common_voice_test = load_dataset(\"common_voice\", \"cs\", split=\"test\")"
      ],
      "execution_count": null,
      "outputs": []
    },
    {
      "cell_type": "markdown",
      "metadata": {
        "id": "ri5y5N_HMANq"
      },
      "source": [
        "Many ASR datasets only provide the target text, `'sentence'` for each audio array `'audio'` and file `'path'`. Common Voice actually provides much more information about each audio file, such as the `'accent'`, etc. Keeping the notebook as general as possible, we only consider the transcribed text for fine-tuning.\n",
        "\n"
      ]
    },
    {
      "cell_type": "code",
      "metadata": {
        "id": "kbyq6lDgQc2a"
      },
      "source": [
        "common_voice_train = common_voice_train.remove_columns([\"accent\", \"age\", \"client_id\", \"down_votes\", \"gender\", \"locale\", \"segment\", \"up_votes\"])\n",
        "common_voice_test = common_voice_test.remove_columns([\"accent\", \"age\", \"client_id\", \"down_votes\", \"gender\", \"locale\", \"segment\", \"up_votes\"])"
      ],
      "execution_count": null,
      "outputs": []
    },
    {
      "cell_type": "markdown",
      "metadata": {
        "id": "Go9Hq4e4NDT9"
      },
      "source": [
        "Let's write a short function to display some random samples of the dataset and run it a couple of times to get a feeling for the transcriptions."
      ]
    },
    {
      "cell_type": "code",
      "metadata": {
        "id": "72737oog2F6U"
      },
      "source": [
        "from datasets import ClassLabel\n",
        "import random\n",
        "import pandas as pd\n",
        "from IPython.display import display, HTML\n",
        "\n",
        "def show_random_elements(dataset, num_examples=10):\n",
        "    assert num_examples <= len(dataset), \"Can't pick more elements than there are in the dataset.\"\n",
        "    picks = []\n",
        "    for _ in range(num_examples):\n",
        "        pick = random.randint(0, len(dataset)-1)\n",
        "        while pick in picks:\n",
        "            pick = random.randint(0, len(dataset)-1)\n",
        "        picks.append(pick)\n",
        "    \n",
        "    df = pd.DataFrame(dataset[picks])\n",
        "    display(HTML(df.to_html()))"
      ],
      "execution_count": null,
      "outputs": []
    },
    {
      "cell_type": "code",
      "metadata": {
        "colab": {
          "base_uri": "https://localhost:8080/",
          "height": 363
        },
        "id": "K_JUmf3G3b9S",
        "outputId": "c8f50b5c-177d-4ea9-a8a0-ca0a2f39fa1a"
      },
      "source": [
        "show_random_elements(common_voice_train.remove_columns([\"path\", \"audio\"]), num_examples=10)"
      ],
      "execution_count": null,
      "outputs": [
        {
          "output_type": "display_data",
          "data": {
            "text/html": [
              "<table border=\"1\" class=\"dataframe\">\n",
              "  <thead>\n",
              "    <tr style=\"text-align: right;\">\n",
              "      <th></th>\n",
              "      <th>sentence</th>\n",
              "    </tr>\n",
              "  </thead>\n",
              "  <tbody>\n",
              "    <tr>\n",
              "      <th>0</th>\n",
              "      <td>V interiéru je zajímavá kaple s pozdně barokními freskami.</td>\n",
              "    </tr>\n",
              "    <tr>\n",
              "      <th>1</th>\n",
              "      <td>Je však třeba se poučit.</td>\n",
              "    </tr>\n",
              "    <tr>\n",
              "      <th>2</th>\n",
              "      <td>Strana hodlá bránit tradiční společenské hodnoty a dále právo na svobodný lov.</td>\n",
              "    </tr>\n",
              "    <tr>\n",
              "      <th>3</th>\n",
              "      <td>Toto seřazení musí být úplné.</td>\n",
              "    </tr>\n",
              "    <tr>\n",
              "      <th>4</th>\n",
              "      <td>Je těžké takový film natočit tak, aby fungoval.</td>\n",
              "    </tr>\n",
              "    <tr>\n",
              "      <th>5</th>\n",
              "      <td>Dnes jsem měl krásný den.</td>\n",
              "    </tr>\n",
              "    <tr>\n",
              "      <th>6</th>\n",
              "      <td>Trest smrti se nepřipouští.</td>\n",
              "    </tr>\n",
              "    <tr>\n",
              "      <th>7</th>\n",
              "      <td>Poté opět dva proti sobě a navíc jeden zprava.</td>\n",
              "    </tr>\n",
              "    <tr>\n",
              "      <th>8</th>\n",
              "      <td>Honorius realizoval vlastní vůli pouze v náboženských a církevních otázkách.</td>\n",
              "    </tr>\n",
              "    <tr>\n",
              "      <th>9</th>\n",
              "      <td>Potřebujeme radikálně nové paradigma.</td>\n",
              "    </tr>\n",
              "  </tbody>\n",
              "</table>"
            ],
            "text/plain": [
              "<IPython.core.display.HTML object>"
            ]
          },
          "metadata": {}
        }
      ]
    },
    {
      "cell_type": "markdown",
      "metadata": {
        "id": "vq7OR50LN49m"
      },
      "source": [
        "We can see that the transcriptions contain some special characters, such as `,.?!;:`. Without a language model, it is much harder to classify speech chunks to such special characters because they don't really correspond to a characteristic sound unit. *E.g.*, the letter `\"s\"` has a more or less clear sound, whereas the special character `\".\"` does not.\n",
        "Also in order to understand the meaning of a speech signal, it is usually not necessary to include special characters in the transcription.\n",
        "\n",
        "Let's simply remove all characters that don't contribute to the meaning of a word and cannot really be represented by an acoustic sound and normalize the text."
      ]
    },
    {
      "cell_type": "code",
      "metadata": {
        "id": "svKzVJ_hQGK6"
      },
      "source": [
        "import re\n",
        "chars_to_remove_regex = '[\\–\\—\\/\\„\\…\\,\\?\\.\\!\\-\\;\\:\\\"\\“\\%\\‘\\”\\�\\']'\n",
        "\n",
        "def remove_special_characters(batch):\n",
        "    batch[\"sentence\"] = re.sub(chars_to_remove_regex, '', batch[\"sentence\"]).lower()\n",
        "    return batch"
      ],
      "execution_count": null,
      "outputs": []
    },
    {
      "cell_type": "code",
      "metadata": {
        "colab": {
          "base_uri": "https://localhost:8080/",
          "height": 81,
          "referenced_widgets": [
            "3bab337e1da74941ae28b99e28c26d1c",
            "eae6168ff09b40d1b40a63f61aa6e4dd",
            "a974356dbbe246329afd645fa06e560e",
            "0b741612442a4d57950d788e9731424f",
            "2cca485ea2624d678093d738ee01b4d7",
            "707bd8fdfe574889ba9f613eeca2d91c",
            "70eab126eb864a078fad54ff175e9e5c",
            "5a566843598b4d6aa99dee50656f1075",
            "3e8b347ec7804d3681188a59fdf2bd6a",
            "a45a77feff974529b81342e4008b23dd",
            "49c105bbd5e24ec28c2ee644222fc97b",
            "6392bd0eb0014e13a48872bc600349a2",
            "4747848ecfe948e3a91413b8848b098f",
            "1caf784379ce4676baf90ed8ef475079",
            "15b0737c539b4243b824ddbe8e0d0f66",
            "d7b1cbce56d449108e0ed53b073faf05",
            "ff9286cfff0642fdbbab7a4c97143f2b",
            "084aa4593728403fa2e7ee8ac97ce701",
            "e511ecfa38b745cda7d254d095bc8a57",
            "74891edc46c54c8f846071fbde02f546",
            "2785986579f4466c91cb76fde5f1effa",
            "8bf9a10efcea4ad28cd383d000f18056"
          ]
        },
        "id": "XIHocAuTQbBR",
        "outputId": "cb3ad7b8-8df3-45b4-84a7-8798c104cbba"
      },
      "source": [
        "common_voice_train = common_voice_train.map(remove_special_characters)\n",
        "common_voice_test = common_voice_test.map(remove_special_characters)"
      ],
      "execution_count": null,
      "outputs": [
        {
          "output_type": "display_data",
          "data": {
            "application/vnd.jupyter.widget-view+json": {
              "model_id": "3bab337e1da74941ae28b99e28c26d1c",
              "version_minor": 0,
              "version_major": 2
            },
            "text/plain": [
              "0ex [00:00, ?ex/s]"
            ]
          },
          "metadata": {}
        },
        {
          "output_type": "display_data",
          "data": {
            "application/vnd.jupyter.widget-view+json": {
              "model_id": "6392bd0eb0014e13a48872bc600349a2",
              "version_minor": 0,
              "version_major": 2
            },
            "text/plain": [
              "0ex [00:00, ?ex/s]"
            ]
          },
          "metadata": {}
        }
      ]
    },
    {
      "cell_type": "markdown",
      "metadata": {
        "id": "TxnVS9gIhIma"
      },
      "source": [
        "Let's look at the processed text labels again."
      ]
    },
    {
      "cell_type": "code",
      "metadata": {
        "colab": {
          "base_uri": "https://localhost:8080/",
          "height": 363
        },
        "id": "RBDRAAYxRE6n",
        "outputId": "fa3e094a-be3f-438a-90da-5d72939f465e"
      },
      "source": [
        "show_random_elements(common_voice_train.remove_columns([\"path\",\"audio\"]))"
      ],
      "execution_count": null,
      "outputs": [
        {
          "output_type": "display_data",
          "data": {
            "text/html": [
              "<table border=\"1\" class=\"dataframe\">\n",
              "  <thead>\n",
              "    <tr style=\"text-align: right;\">\n",
              "      <th></th>\n",
              "      <th>sentence</th>\n",
              "    </tr>\n",
              "  </thead>\n",
              "  <tbody>\n",
              "    <tr>\n",
              "      <th>0</th>\n",
              "      <td>později přešel od power metalu k hard rocku</td>\n",
              "    </tr>\n",
              "    <tr>\n",
              "      <th>1</th>\n",
              "      <td>opatství samo je turistickou atrakcí pro svůj historický a umělecký význam</td>\n",
              "    </tr>\n",
              "    <tr>\n",
              "      <th>2</th>\n",
              "      <td>koná se u nás na oratoři</td>\n",
              "    </tr>\n",
              "    <tr>\n",
              "      <th>3</th>\n",
              "      <td>a načež celý zčernal krve rmutem</td>\n",
              "    </tr>\n",
              "    <tr>\n",
              "      <th>4</th>\n",
              "      <td>ti kteří přežili jejich odchod byli polomrtví hladem</td>\n",
              "    </tr>\n",
              "    <tr>\n",
              "      <th>5</th>\n",
              "      <td>dochází k hromadění tekutiny v plicích která brání dýchání</td>\n",
              "    </tr>\n",
              "    <tr>\n",
              "      <th>6</th>\n",
              "      <td>lucka přes všechna ta studia nemá na nic čas</td>\n",
              "    </tr>\n",
              "    <tr>\n",
              "      <th>7</th>\n",
              "      <td>ale to já netuším</td>\n",
              "    </tr>\n",
              "    <tr>\n",
              "      <th>8</th>\n",
              "      <td>jazykový pobyt v zahraničí je efektivní forma studia cizího jazyka v zemi jeho původu</td>\n",
              "    </tr>\n",
              "    <tr>\n",
              "      <th>9</th>\n",
              "      <td>sám zůstal radním města</td>\n",
              "    </tr>\n",
              "  </tbody>\n",
              "</table>"
            ],
            "text/plain": [
              "<IPython.core.display.HTML object>"
            ]
          },
          "metadata": {}
        }
      ]
    },
    {
      "cell_type": "markdown",
      "metadata": {
        "id": "jwfaptH5RJwA"
      },
      "source": [
        ""
      ]
    },
    {
      "cell_type": "code",
      "metadata": {
        "id": "aZcrz6z7lgGm"
      },
      "source": [
        "def replace_hatted_characters(batch):\n",
        "    batch[\"sentence\"] = re.sub('[â]', 'a', batch[\"sentence\"])\n",
        "    batch[\"sentence\"] = re.sub('[î]', 'i', batch[\"sentence\"])\n",
        "    batch[\"sentence\"] = re.sub('[ô]', 'o', batch[\"sentence\"])\n",
        "    batch[\"sentence\"] = re.sub('[û]', 'u', batch[\"sentence\"])\n",
        "    batch[\"sentence\"] = re.sub('[ä]', 'a', batch[\"sentence\"])\n",
        "    batch[\"sentence\"] = re.sub('[è]', 'e', batch[\"sentence\"])\n",
        "    batch[\"sentence\"] = re.sub('[ï]', 'i', batch[\"sentence\"])\n",
        "    batch[\"sentence\"] = re.sub('[ö]', 'o', batch[\"sentence\"])\n",
        "    return batch"
      ],
      "execution_count": null,
      "outputs": []
    },
    {
      "cell_type": "code",
      "metadata": {
        "colab": {
          "base_uri": "https://localhost:8080/",
          "height": 81,
          "referenced_widgets": [
            "82b3815b95be44e8b98e4a499fc7c49b",
            "3857967a85e946c6a8b37dda3d4a043b",
            "e1a8094a1aa643e9b8aea2e889901cbd",
            "e64a135917064990821eaae97ea70f97",
            "7a9e8bac9adc40aa88d9e0d15b78ef97",
            "a57c0d77b1dd42baa7905609dd97dffa",
            "0b49911768c04c9ca09bb80920b46b97",
            "039f217d047043a3a057a77cee51ed11",
            "020ada565bd84126a515f9fa0779adb2",
            "d15bb83d185e48159d7624294a9fba2f",
            "48895592165d4930b3947005a3e1c3e1",
            "330cc3fa750c4f7eb735e7db026829e9",
            "4ddf97b50b5a4e7ba069edd3c1fa41da",
            "a09331c53a844befbf09c9ccf5369a24",
            "3b361d0bddb04a7e9afccf44cb20a722",
            "754f646450994e63b9cf385c9eb8e87e",
            "de25b8bcc06c45138e110d524035055d",
            "b193937dd0a048979e1d94f129c8f5ca",
            "bcc6c6e2381e45ee88e423cb752ffca1",
            "217653e248654187a63d1af492bef6ee",
            "4f1786b995be4271a8e09ba660c6844b",
            "943f2434338645cd87219bebf74c5184"
          ]
        },
        "id": "ieGhhND5mSwI",
        "outputId": "21ef0414-5e04-49d8-fb28-4915647617a4"
      },
      "source": [
        "common_voice_train = common_voice_train.map(replace_hatted_characters)\n",
        "common_voice_test = common_voice_test.map(replace_hatted_characters)"
      ],
      "execution_count": null,
      "outputs": [
        {
          "output_type": "display_data",
          "data": {
            "application/vnd.jupyter.widget-view+json": {
              "model_id": "82b3815b95be44e8b98e4a499fc7c49b",
              "version_minor": 0,
              "version_major": 2
            },
            "text/plain": [
              "0ex [00:00, ?ex/s]"
            ]
          },
          "metadata": {}
        },
        {
          "output_type": "display_data",
          "data": {
            "application/vnd.jupyter.widget-view+json": {
              "model_id": "330cc3fa750c4f7eb735e7db026829e9",
              "version_minor": 0,
              "version_major": 2
            },
            "text/plain": [
              "0ex [00:00, ?ex/s]"
            ]
          },
          "metadata": {}
        }
      ]
    },
    {
      "cell_type": "markdown",
      "metadata": {
        "id": "3ORHDb2Th2TW"
      },
      "source": [
        "In CTC, it is common to classify speech chunks into letters, so we will do the same here. \n",
        "Let's **extract all distinct letters of the training and test data** and build our vocabulary from this set of letters.\n",
        "\n",
        "We write a mapping function that concatenates all transcriptions into one long transcription and then transforms the string into a set of chars. \n",
        "It is important to pass the argument `batched=True` to the `map(...)` function so that the mapping function has access to all transcriptions at once."
      ]
    },
    {
      "cell_type": "code",
      "metadata": {
        "id": "LwCshNbbeRZR"
      },
      "source": [
        "def extract_all_chars(batch):\n",
        "  all_text = \" \".join(batch[\"sentence\"])\n",
        "  vocab = list(set(all_text))\n",
        "  return {\"vocab\": [vocab], \"all_text\": [all_text]}"
      ],
      "execution_count": null,
      "outputs": []
    },
    {
      "cell_type": "code",
      "metadata": {
        "colab": {
          "base_uri": "https://localhost:8080/",
          "height": 81,
          "referenced_widgets": [
            "ccd9a818d0c04641aad06651f8c98f8c",
            "44167e4c565c4baa91839fb5f513733d",
            "2d5d89e6439d48479cd431789443d443",
            "01c1010a1f124c52ba949c84c4f8c2a5",
            "86f7b805dcf64ae9abe4c89b29b63c5c",
            "3ccb42e53b65431d9fc93dfe37655425",
            "d0e7dcc8d01a4d61a628f0625e568b37",
            "0e28c380a74c4587a7e7f4c499b63c11",
            "2334c0f4ea11494380237c1ef38adb25",
            "59269cbe28da4f5d9f3a4bfaec78847b",
            "033ecb7637484db084143d65a87fb0d9",
            "c42272eb89c5462fb4cfc5affa8b0700",
            "61f364de393a4126adb3d4990f68f3c5",
            "b7ffca3640f341f68fff0db58bdf25d3",
            "b4c18201b8254e768cc4fcf9bcdcf31c",
            "bc02b679e3ff430caaccc7ba91f4eca3",
            "70726b487b574194a05caf30e58ba126",
            "5c03c6bbb7464159bddb6186b4213b7e",
            "a6a40959d7fa4f07bcae1b276722a124",
            "8d747a62a12142c4a3a7368aabf894c3",
            "21fd4dfe16fd4e2dafe652c124bc897e",
            "a0d012137c9745e885f66061fef12830"
          ]
        },
        "id": "_m6uUjjcfbjH",
        "outputId": "e4358ae2-b5da-46a8-a572-5dc829c58c0e"
      },
      "source": [
        "vocab_train = common_voice_train.map(extract_all_chars, batched=True, batch_size=-1, keep_in_memory=True, remove_columns=common_voice_train.column_names)\n",
        "vocab_test = common_voice_test.map(extract_all_chars, batched=True, batch_size=-1, keep_in_memory=True, remove_columns=common_voice_test.column_names)"
      ],
      "execution_count": null,
      "outputs": [
        {
          "output_type": "display_data",
          "data": {
            "application/vnd.jupyter.widget-view+json": {
              "model_id": "ccd9a818d0c04641aad06651f8c98f8c",
              "version_minor": 0,
              "version_major": 2
            },
            "text/plain": [
              "  0%|          | 0/1 [00:00<?, ?ba/s]"
            ]
          },
          "metadata": {}
        },
        {
          "output_type": "display_data",
          "data": {
            "application/vnd.jupyter.widget-view+json": {
              "model_id": "c42272eb89c5462fb4cfc5affa8b0700",
              "version_minor": 0,
              "version_major": 2
            },
            "text/plain": [
              "  0%|          | 0/1 [00:00<?, ?ba/s]"
            ]
          },
          "metadata": {}
        }
      ]
    },
    {
      "cell_type": "markdown",
      "metadata": {
        "id": "7oVgE8RZSJNP"
      },
      "source": [
        "Now, we create the union of all distinct letters in the training dataset and test dataset and convert the resulting list into an enumerated dictionary."
      ]
    },
    {
      "cell_type": "code",
      "metadata": {
        "id": "aQfneNsmlJI0"
      },
      "source": [
        "vocab_list = list(set(vocab_train[\"vocab\"][0]) | set(vocab_test[\"vocab\"][0]))"
      ],
      "execution_count": null,
      "outputs": []
    },
    {
      "cell_type": "code",
      "metadata": {
        "colab": {
          "base_uri": "https://localhost:8080/"
        },
        "id": "_0kRndSvqaKk",
        "outputId": "1665d340-8092-4c7d-d88d-82b31a96d90b"
      },
      "source": [
        "vocab_dict = {v: k for k, v in enumerate(sorted(vocab_list))}\n",
        "vocab_dict"
      ],
      "execution_count": null,
      "outputs": [
        {
          "output_type": "execute_result",
          "data": {
            "text/plain": [
              "{' ': 0,\n",
              " 'a': 1,\n",
              " 'b': 2,\n",
              " 'c': 3,\n",
              " 'd': 4,\n",
              " 'e': 5,\n",
              " 'f': 6,\n",
              " 'g': 7,\n",
              " 'h': 8,\n",
              " 'i': 9,\n",
              " 'j': 10,\n",
              " 'k': 11,\n",
              " 'l': 12,\n",
              " 'm': 13,\n",
              " 'n': 14,\n",
              " 'o': 15,\n",
              " 'p': 16,\n",
              " 'q': 17,\n",
              " 'r': 18,\n",
              " 's': 19,\n",
              " 't': 20,\n",
              " 'u': 21,\n",
              " 'v': 22,\n",
              " 'w': 23,\n",
              " 'x': 24,\n",
              " 'y': 25,\n",
              " 'z': 26,\n",
              " 'á': 27,\n",
              " 'é': 28,\n",
              " 'í': 29,\n",
              " 'ó': 30,\n",
              " 'ú': 31,\n",
              " 'ü': 32,\n",
              " 'ý': 33,\n",
              " 'č': 34,\n",
              " 'ď': 35,\n",
              " 'ě': 36,\n",
              " 'ň': 37,\n",
              " 'ř': 38,\n",
              " 'š': 39,\n",
              " 'ť': 40,\n",
              " 'ů': 41,\n",
              " 'ž': 42}"
            ]
          },
          "metadata": {},
          "execution_count": 36
        }
      ]
    },
    {
      "cell_type": "markdown",
      "metadata": {
        "id": "JOSzbvs9SXT1"
      },
      "source": [
        "Cool, we see that all letters of the alphabet occur in the dataset (which is not really surprising) and we also extracted the special characters `\"\"` and `'`. Note that we did not exclude those special characters because: \n",
        "\n",
        "The model has to learn to predict when a word is finished or else the model prediction would always be a sequence of chars which would make it impossible to separate words from each other.\n",
        "\n",
        "One should always keep in mind that pre-processing is a very important step before training your model. E.g., we don't want our model to differentiate between `a` and `A` just because we forgot to normalize the data. The difference between `a` and `A` does not depend on the \"sound\" of the letter at all, but more on grammatical rules - *e.g.* use a capitalized letter at the beginning of the sentence. So it is sensible to remove the difference between capitalized and non-capitalized letters so that the model has an easier time learning to transcribe speech. "
      ]
    },
    {
      "cell_type": "markdown",
      "metadata": {
        "id": "b1fBRCn-TRaO"
      },
      "source": [
        "To make it clearer that `\" \"` has its own token class, we give it a more visible character `|`. In addition, we also add an \"unknown\" token so that the model can later deal with characters not encountered in Common Voice's training set. "
      ]
    },
    {
      "cell_type": "code",
      "metadata": {
        "id": "npbIbBoLgaFX"
      },
      "source": [
        "vocab_dict[\"|\"] = vocab_dict[\" \"]\n",
        "del vocab_dict[\" \"]"
      ],
      "execution_count": null,
      "outputs": []
    },
    {
      "cell_type": "markdown",
      "metadata": {
        "id": "_9yCWg4Sd0cb"
      },
      "source": [
        "Finally, we also add a padding token that corresponds to CTC's \"*blank token*\". The \"blank token\" is a core component of the CTC algorithm. For more information, please take a look at the \"Alignment\" section [here](https://distill.pub/2017/ctc/)."
      ]
    },
    {
      "cell_type": "code",
      "metadata": {
        "colab": {
          "base_uri": "https://localhost:8080/"
        },
        "id": "znF0bNunsjbl",
        "outputId": "1df1411f-7137-42b3-df7e-4df100def163"
      },
      "source": [
        "vocab_dict[\"[UNK]\"] = len(vocab_dict)\n",
        "vocab_dict[\"[PAD]\"] = len(vocab_dict)\n",
        "len(vocab_dict)"
      ],
      "execution_count": null,
      "outputs": [
        {
          "output_type": "execute_result",
          "data": {
            "text/plain": [
              "45"
            ]
          },
          "metadata": {},
          "execution_count": 38
        }
      ]
    },
    {
      "cell_type": "markdown",
      "metadata": {
        "id": "SFPGfet8U5sL"
      },
      "source": [
        "Cool, now our vocabulary is complete and \n",
        "consists of 45 tokens, which means that \n",
        "the linear layer that we will add on top of the pretrained XLS-R checkpoint will have an output dimension of 45."
      ]
    },
    {
      "cell_type": "markdown",
      "metadata": {
        "id": "1CujRgBNVRaD"
      },
      "source": [
        "Let's now save the vocabulary as a json file."
      ]
    },
    {
      "cell_type": "code",
      "metadata": {
        "id": "ehyUoh9vk191"
      },
      "source": [
        "import json\n",
        "with open('vocab.json', 'w') as vocab_file:\n",
        "    json.dump(vocab_dict, vocab_file)"
      ],
      "execution_count": null,
      "outputs": []
    },
    {
      "cell_type": "markdown",
      "metadata": {
        "id": "SHJDaKlIVVim"
      },
      "source": [
        "In a final step, we use the json file to load the vocabulary into an instance of the `Wav2Vec2CTCTokenizer` class."
      ]
    },
    {
      "cell_type": "code",
      "metadata": {
        "colab": {
          "base_uri": "https://localhost:8080/"
        },
        "id": "xriFGEWQkO4M",
        "outputId": "bd1a6ed3-218b-4f3f-8fe5-d4cfffe90c37"
      },
      "source": [
        "from transformers import Wav2Vec2CTCTokenizer\n",
        "\n",
        "tokenizer = Wav2Vec2CTCTokenizer.from_pretrained(\"./\", unk_token=\"[UNK]\", pad_token=\"[PAD]\", word_delimiter_token=\"|\")"
      ],
      "execution_count": null,
      "outputs": [
        {
          "output_type": "stream",
          "name": "stderr",
          "text": [
            "file ./config.json not found\n",
            "Special tokens have been added in the vocabulary, make sure the associated word embeddings are fine-tuned or trained.\n"
          ]
        }
      ]
    },
    {
      "cell_type": "code",
      "metadata": {
        "id": "A1XApZBAF2zr"
      },
      "source": [
        "repo_name = \"wav2vec2-large-xls-r-300m-czech-colab\""
      ],
      "execution_count": null,
      "outputs": []
    },
    {
      "cell_type": "code",
      "metadata": {
        "colab": {
          "base_uri": "https://localhost:8080/",
          "height": 211
        },
        "id": "zytE1175GAKM",
        "outputId": "244b3ee9-8d61-4c43-c2f2-ed761c948ece"
      },
      "source": [
        "tokenizer.push_to_hub(repo_name)"
      ],
      "execution_count": null,
      "outputs": [
        {
          "output_type": "stream",
          "name": "stderr",
          "text": [
            "/usr/local/lib/python3.7/dist-packages/huggingface_hub/hf_api.py:718: FutureWarning: `create_repo` now takes `token` as an optional positional argument. Be sure to adapt your code!\n",
            "  FutureWarning,\n",
            "/usr/local/lib/python3.7/dist-packages/huggingface_hub/hf_api.py:718: FutureWarning: `create_repo` now takes `token` as an optional positional argument. Be sure to adapt your code!\n",
            "  FutureWarning,\n",
            "Cloning https://huggingface.co/human/wav2vec2-large-xls-r-300m-czech-colab into local empty directory.\n",
            "To https://huggingface.co/human/wav2vec2-large-xls-r-300m-czech-colab\n",
            "   855f7a9..68ba2fd  main -> main\n",
            "\n"
          ]
        },
        {
          "output_type": "execute_result",
          "data": {
            "application/vnd.google.colaboratory.intrinsic+json": {
              "type": "string"
            },
            "text/plain": [
              "'https://huggingface.co/human/wav2vec2-large-xls-r-300m-czech-colab/commit/68ba2fdb7f5910951edb7ac8d92d8da8d0c4b48b'"
            ]
          },
          "metadata": {},
          "execution_count": 42
        }
      ]
    },
    {
      "cell_type": "markdown",
      "metadata": {
        "id": "mYcIiR2FQ96i"
      },
      "source": [
        "### Create `Wav2Vec2FeatureExtractor`"
      ]
    },
    {
      "cell_type": "markdown",
      "metadata": {
        "id": "KuUbPW7oV-B5"
      },
      "source": [
        "A `Wav2Vec2FeatureExtractor` object requires the following parameters to be instantiated:\n",
        "\n",
        "- **feature_size**: Speech models take a sequence of feature vectors as an input. While the length of this sequence obviously varies, the feature size should not. In the case of Wav2Vec2, the feature size is 1 because the model was trained on the raw speech signal.\n",
        "- **sampling_rate**: The sampling rate at which the model is trained on.\n",
        "- **padding_value**: For batched inference, shorter inputs need to be padded with a specific value\n",
        "- **do_normalize**: Whether the input should be *zero-mean-unit-variance* normalized or not. Usually, speech models perform better when normalizing the input\n",
        "- **return_attention_mask**: Whether the model should make use of an **attention_mask** for batched inference. In general, XLS-R models checkpoints should **always** use the **attention_mask**."
      ]
    },
    {
      "cell_type": "code",
      "metadata": {
        "id": "kAR0-2KLkopp"
      },
      "source": [
        "from transformers import Wav2Vec2FeatureExtractor\n",
        "\n",
        "feature_extractor = Wav2Vec2FeatureExtractor(\n",
        "    feature_size=1, \n",
        "    sampling_rate=16000, \n",
        "    padding_value=0.0,\n",
        "    do_normalize=True,\n",
        "    return_attention_mask=True\n",
        ")\n",
        "\n",
        "from transformers import Wav2Vec2Processor\n",
        "# Great, XLS-R's feature extraction pipeline is thereby fully defined!\n",
        "# For improved user-friendliness, the feature extractor and tokenizer are *wrapped* into a single\n",
        "# `Wav2Vec2Processor` class so that one only needs a `model` and `processor` object.\n",
        "processor = Wav2Vec2Processor(\n",
        "    feature_extractor=feature_extractor,\n",
        "    tokenizer=tokenizer\n",
        ")"
      ],
      "execution_count": null,
      "outputs": []
    },
    {
      "cell_type": "markdown",
      "metadata": {
        "id": "DrKnYuvDIoOO"
      },
      "source": [
        "Next, we can prepare the dataset."
      ]
    },
    {
      "cell_type": "markdown",
      "metadata": {
        "id": "T6ndIjHGFp0W"
      },
      "source": [
        "XLS-R expects the input in the format of a 1-dimensional array of 16 kHz. This means that the audio file has to be loaded and resampled.\n",
        "\n",
        " Thankfully, `datasets` does this automatically by calling the other column `audio`. Let try it out. "
      ]
    },
    {
      "cell_type": "code",
      "metadata": {
        "colab": {
          "base_uri": "https://localhost:8080/"
        },
        "id": "qj_z5Zc3GAs9",
        "outputId": "7ced4fab-d061-4b2d-b5c8-744b73d3134b"
      },
      "source": [
        "common_voice_train[0][\"audio\"]"
      ],
      "execution_count": null,
      "outputs": [
        {
          "output_type": "execute_result",
          "data": {
            "text/plain": [
              "{'array': array([0.0000000e+00, 0.0000000e+00, 0.0000000e+00, ..., 8.2369064e-05,\n",
              "        8.6461485e-05, 4.8935774e-05], dtype=float32),\n",
              " 'path': 'cv-corpus-6.1-2020-12-11/cs/clips/common_voice_cs_20459410.mp3',\n",
              " 'sampling_rate': 16000}"
            ]
          },
          "metadata": {},
          "execution_count": 49
        }
      ]
    },
    {
      "cell_type": "markdown",
      "metadata": {
        "id": "WUUTgI1bGHW-"
      },
      "source": [
        "Great, we can see that the audio file has automatically been loaded. This is thanks to the new [`\"Audio\"` feature](https://huggingface.co/docs/datasets/package_reference/main_classes.html?highlight=audio#datasets.Audio) introduced in `datasets == 4.13.3`, which loads and resamples audio files on-the-fly upon calling.\n",
        "\n",
        "In the example above we can see that the audio data is loaded with a sampling rate of 48kHz whereas 16kHz are expected by the model. We can set the audio feature to the correct sampling rate by making use of [`cast_column`](https://huggingface.co/docs/datasets/package_reference/main_classes.html?highlight=cast_column#datasets.DatasetDict.cast_column):"
      ]
    },
    {
      "cell_type": "code",
      "metadata": {
        "id": "rrv65aj7G95i"
      },
      "source": [
        "common_voice_train = common_voice_train.cast_column(\"audio\", Audio(sampling_rate=16_000))\n",
        "common_voice_test = common_voice_test.cast_column(\"audio\", Audio(sampling_rate=16_000))"
      ],
      "execution_count": null,
      "outputs": []
    },
    {
      "cell_type": "code",
      "metadata": {
        "colab": {
          "base_uri": "https://localhost:8080/",
          "height": 93
        },
        "id": "dueM6U7Ev0OA",
        "outputId": "0088c493-3469-4c17-84f6-ae85e1b2c5a7"
      },
      "source": [
        "import IPython.display as ipd\n",
        "import numpy as np\n",
        "import random\n",
        "\n",
        "rand_int = random.randint(0, len(common_voice_train)-1)\n",
        "\n",
        "print(common_voice_train[rand_int][\"sentence\"])\n",
        "ipd.Audio(data=common_voice_train[rand_int][\"audio\"][\"array\"], autoplay=True, rate=16000)"
      ],
      "execution_count": null,
      "outputs": [
        {
          "output_type": "stream",
          "name": "stdout",
          "text": [
            "jako první bychom měli vybrat tiskárnu\n"
          ]
        },
        {
          "output_type": "execute_result",
          "data": {
            "text/html": [
              "\n",
              "                <audio controls=\"controls\" autoplay=\"autoplay\">\n",
              "                    <source src=\"data:audio/wav;base64,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\" type=\"audio/wav\" />\n",
              "                    Your browser does not support the audio element.\n",
              "                </audio>\n",
              "              "
            ],
            "text/plain": [
              "<IPython.lib.display.Audio object>"
            ]
          },
          "metadata": {},
          "execution_count": 50
        }
      ]
    },
    {
      "cell_type": "markdown",
      "metadata": {
        "id": "gY8m3vARHYTa"
      },
      "source": [
        "It seems like the data is now correctly loaded and resampled. "
      ]
    },
    {
      "cell_type": "markdown",
      "metadata": {
        "id": "k3Pbn5WvOYZF"
      },
      "source": [
        "Finally, we can leverage `Wav2Vec2Processor` to process the data to the format expected by `Wav2Vec2ForCTC` for training. To do so let's make use of Dataset's [`map(...)`](https://huggingface.co/docs/datasets/package_reference/main_classes.html?highlight=map#datasets.DatasetDict.map) function.\n",
        "\n",
        "First, we load and resample the audio data, simply by calling `batch[\"audio\"]`.\n",
        "Second, we extract the `input_values` from the loaded audio file. In our case, the `Wav2Vec2Processor` only normalizes the data. For other speech models, however, this step can include more complex feature extraction, such as [Log-Mel feature extraction](https://en.wikipedia.org/wiki/Mel-frequency_cepstrum). \n",
        "Third, we encode the transcriptions to label ids.\n",
        "\n",
        "**Note**: This mapping function is a good example of how the `Wav2Vec2Processor` class should be used. In \"normal\" context, calling `processor(...)` is redirected to `Wav2Vec2FeatureExtractor`'s call method. When wrapping the processor into the `as_target_processor` context, however, the same method is redirected to `Wav2Vec2CTCTokenizer`'s call method.\n",
        "For more information please check the [docs](https://huggingface.co/transformers/master/model_doc/wav2vec2.html#transformers.Wav2Vec2Processor.__call__)."
      ]
    },
    {
      "cell_type": "code",
      "metadata": {
        "id": "eJY7I0XAwe9p"
      },
      "source": [
        "def prepare_dataset(batch):\n",
        "    audio = batch[\"audio\"]\n",
        "\n",
        "    # batched output is \"un-batched\"\n",
        "    batch[\"input_values\"] = processor(audio[\"array\"], sampling_rate=audio[\"sampling_rate\"]).input_values[0]\n",
        "    batch[\"input_length\"] = len(batch[\"input_values\"])\n",
        "    \n",
        "    with processor.as_target_processor():\n",
        "        batch[\"labels\"] = processor(batch[\"sentence\"]).input_ids\n",
        "    return batch"
      ],
      "execution_count": null,
      "outputs": []
    },
    {
      "cell_type": "markdown",
      "metadata": {
        "id": "q6Pg_WR3OGAP"
      },
      "source": [
        "Let's apply the data preparation function to all examples."
      ]
    },
    {
      "cell_type": "code",
      "metadata": {
        "colab": {
          "base_uri": "https://localhost:8080/",
          "height": 81,
          "referenced_widgets": [
            "26815566e78a433796c283fe56dae7f2",
            "f7ba273066104fcdb832a80edc1711b0",
            "ef9cb920858846c99d88af9706e8ee73",
            "6e535a63066a433bbf2830ed45d95d92",
            "7b3312a6f6814b27811f538d554594fb",
            "e253bc0fcdb54f408bbfeccd99e0d041",
            "fd3b40133c2c44dc91fbdc4f867d8989",
            "ce4b583161354d72b2b825b523a8bf5e",
            "4eeba3124e074d099300d18932776d83",
            "ebb03d53b9984e30b9e6aec3130998ea",
            "42d98657a1f5494e82b33fdb498d54d7",
            "9434fa09778143608bfc6e751c135a70",
            "bd620f370f294724b4fd352ea1b84e55",
            "d3749c29aa2543a7b1b06d9e8598a675",
            "fb991ac447ce4ba09bd6f0eff1bb3ace",
            "298e552862a144da84ea438aa7716fb2",
            "6a6796da9c4e4e298f7b5542c57843bc",
            "9ea6b2e7bfcd4bed85bf76c07edf7fbe",
            "299fc917263942218761eb2a933967c7",
            "717986d9a1f14f0e8d0185ab5f05557b",
            "59f092ecb31c4556aaee5f81e4656c0f",
            "337f708126eb4fc0bfad66277b213073"
          ]
        },
        "id": "-np9xYK-wl8q",
        "outputId": "887dde10-1381-44c4-e9c1-29bb12a27fab"
      },
      "source": [
        "common_voice_train = common_voice_train.map(prepare_dataset, remove_columns=common_voice_train.column_names)\n",
        "common_voice_test = common_voice_test.map(prepare_dataset, remove_columns=common_voice_test.column_names)"
      ],
      "execution_count": null,
      "outputs": [
        {
          "output_type": "display_data",
          "data": {
            "application/vnd.jupyter.widget-view+json": {
              "model_id": "26815566e78a433796c283fe56dae7f2",
              "version_minor": 0,
              "version_major": 2
            },
            "text/plain": [
              "0ex [00:00, ?ex/s]"
            ]
          },
          "metadata": {}
        },
        {
          "output_type": "display_data",
          "data": {
            "application/vnd.jupyter.widget-view+json": {
              "model_id": "9434fa09778143608bfc6e751c135a70",
              "version_minor": 0,
              "version_major": 2
            },
            "text/plain": [
              "0ex [00:00, ?ex/s]"
            ]
          },
          "metadata": {}
        }
      ]
    },
    {
      "cell_type": "markdown",
      "metadata": {
        "id": "nKcEWHvKI1by"
      },
      "source": [
        "**Note**: Currently `datasets` make use of [`torchaudio`](https://pytorch.org/audio/stable/index.html) and [`librosa`](https://librosa.org/doc/latest/index.html) for audio loading and resampling. If you wish to implement your own costumized data loading/sampling, feel free to just make use of the `\"path\"` column instead and disregard the `\"audio\"` column."
      ]
    },
    {
      "cell_type": "markdown",
      "metadata": {
        "id": "24CxHd5ewI4T"
      },
      "source": [
        "Long input sequences require a lot of memory. XLS-R is based on `self-attention` the memory requirement scales quadratically with the input length for long input sequences (*cf.* with [this](https://www.reddit.com/r/MachineLearning/comments/genjvb/d_why_is_the_maximum_input_sequence_length_of/) reddit post). In case this demo crashes with an \"Out-of-memory\" error for you, you might want to uncomment the following lines to filter all sequences that are longer than 5 seconds for training."
      ]
    },
    {
      "cell_type": "code",
      "metadata": {
        "id": "tdHfbUJ_09iA"
      },
      "source": [
        "max_input_length_in_sec = 5.0\n",
        "common_voice_train = common_voice_train.filter(lambda x: x < max_input_length_in_sec * processor.feature_extractor.sampling_rate, input_columns=[\"input_length\"])"
      ],
      "execution_count": null,
      "outputs": []
    },
    {
      "cell_type": "markdown",
      "metadata": {
        "id": "1ZWDCCKqwcfS"
      },
      "source": [
        "Awesome, now we are ready to start training!"
      ]
    },
    {
      "cell_type": "markdown",
      "metadata": {
        "id": "gYlQkKVoRUos"
      },
      "source": [
        "## Training\n",
        "\n",
        "The data is processed so that we are ready to start setting up the training pipeline. We will make use of 🤗's [Trainer](https://huggingface.co/transformers/master/main_classes/trainer.html?highlight=trainer) for which we essentially need to do the following:\n",
        "\n",
        "- Define a data collator. In contrast to most NLP models, XLS-R has a much larger input length than output length. *E.g.*, a sample of input length 50000 has an output length of no more than 100. Given the large input sizes, it is much more efficient to pad the training batches dynamically meaning that all training samples should only be padded to the longest sample in their batch and not the overall longest sample. Therefore, fine-tuning XLS-R requires a special padding data collator, which we will define below\n",
        "\n",
        "- Evaluation metric. During training, the model should be evaluated on the word error rate. We should define a `compute_metrics` function accordingly\n",
        "\n",
        "- Load a pretrained checkpoint. We need to load a pretrained checkpoint and configure it correctly for training.\n",
        "\n",
        "- Define the training configuration.\n",
        "\n",
        "After having fine-tuned the model, we will correctly evaluate it on the test data and verify that it has indeed learned to correctly transcribe speech."
      ]
    },
    {
      "cell_type": "markdown",
      "metadata": {
        "id": "Slk403unUS91"
      },
      "source": [
        "### Set-up Trainer\n",
        "\n",
        "Let's start by defining the data collator. The code for the data collator was copied from [this example](https://github.com/huggingface/transformers/blob/7e61d56a45c19284cfda0cee8995fb552f6b1f4e/examples/pytorch/speech-recognition/run_speech_recognition_ctc.py#L219).\n",
        "\n",
        "Without going into too many details, in contrast to the common data collators, this data collator treats the `input_values` and `labels` differently and thus applies to separate padding functions on them (again making use of XLS-R processor's context manager). This is necessary because in speech input and output are of different modalities meaning that they should not be treated by the same padding function.\n",
        "Analogous to the common data collators, the padding tokens in the labels with `-100` so that those tokens are **not** taken into account when computing the loss."
      ]
    },
    {
      "cell_type": "code",
      "metadata": {
        "id": "tborvC9hx88e"
      },
      "source": [
        "import torch\n",
        "\n",
        "from dataclasses import dataclass, field\n",
        "from typing import Any, Dict, List, Optional, Union\n",
        "\n",
        "@dataclass\n",
        "class DataCollatorCTCWithPadding:\n",
        "    \"\"\"\n",
        "    Data collator that will dynamically pad the inputs received.\n",
        "    Args:\n",
        "        processor (:class:`~transformers.Wav2Vec2Processor`)\n",
        "            The processor used for proccessing the data.\n",
        "        padding (:obj:`bool`, :obj:`str` or :class:`~transformers.tokenization_utils_base.PaddingStrategy`, `optional`, defaults to :obj:`True`):\n",
        "            Select a strategy to pad the returned sequences (according to the model's padding side and padding index)\n",
        "            among:\n",
        "            * :obj:`True` or :obj:`'longest'`: Pad to the longest sequence in the batch (or no padding if only a single\n",
        "              sequence if provided).\n",
        "            * :obj:`'max_length'`: Pad to a maximum length specified with the argument :obj:`max_length` or to the\n",
        "              maximum acceptable input length for the model if that argument is not provided.\n",
        "            * :obj:`False` or :obj:`'do_not_pad'` (default): No padding (i.e., can output a batch with sequences of\n",
        "              different lengths).\n",
        "    \"\"\"\n",
        "\n",
        "    processor: Wav2Vec2Processor\n",
        "    padding: Union[bool, str] = True\n",
        "\n",
        "    def __call__(self, features: List[Dict[str, Union[List[int], torch.Tensor]]]) -> Dict[str, torch.Tensor]:\n",
        "        # split inputs and labels since they have to be of different lenghts and need\n",
        "        # different padding methods\n",
        "        input_features = [{\"input_values\": feature[\"input_values\"]} for feature in features]\n",
        "        label_features = [{\"input_ids\": feature[\"labels\"]} for feature in features]\n",
        "\n",
        "        batch = self.processor.pad(\n",
        "            input_features,\n",
        "            padding=self.padding,\n",
        "            return_tensors=\"pt\",\n",
        "        )\n",
        "        with self.processor.as_target_processor():\n",
        "            labels_batch = self.processor.pad(\n",
        "                label_features,\n",
        "                padding=self.padding,\n",
        "                return_tensors=\"pt\",\n",
        "            )\n",
        "\n",
        "        # replace padding with -100 to ignore loss correctly\n",
        "        labels = labels_batch[\"input_ids\"].masked_fill(labels_batch.attention_mask.ne(1), -100)\n",
        "\n",
        "        batch[\"labels\"] = labels\n",
        "\n",
        "        return batch"
      ],
      "execution_count": null,
      "outputs": []
    },
    {
      "cell_type": "code",
      "metadata": {
        "id": "lbQf5GuZyQ4_"
      },
      "source": [
        "data_collator = DataCollatorCTCWithPadding(processor=processor, padding=True)"
      ],
      "execution_count": null,
      "outputs": []
    },
    {
      "cell_type": "markdown",
      "metadata": {
        "id": "xO-Zdj-5cxXp"
      },
      "source": [
        "Next, the evaluation metric is defined. As mentioned earlier, the \n",
        "predominant metric in ASR is the word error rate (WER), hence we will use it in this notebook as well."
      ]
    },
    {
      "cell_type": "code",
      "metadata": {
        "colab": {
          "base_uri": "https://localhost:8080/",
          "height": 49,
          "referenced_widgets": [
            "43c7b6e4ba864a1099f2de828a1f2554",
            "f361b6ccd6834cac9fa73da7240714d8",
            "410004d5303c47f8884711af59a821a5",
            "9811a903bd154efba0637cd8b6d01926",
            "daf64d90e84744c5aaaf2c2470fd3fdc",
            "4b2876cbdb5e4fa18624dd873fc420a4",
            "33276632740b442997796dca732241a7",
            "c67af97847d64c81ab862379fc94b31c",
            "5b16d22cd03944e3b7bb442ccf7bfab2",
            "176f539dc79a4763a45d9a31d805a24b",
            "55dc2040f2854768bec30ce06503d875"
          ]
        },
        "id": "9Xsux2gmyXso",
        "outputId": "00c4bfb7-3cee-4db5-9abf-ed1332f03958"
      },
      "source": [
        "wer_metric = load_metric(\"wer\")"
      ],
      "execution_count": null,
      "outputs": [
        {
          "output_type": "display_data",
          "data": {
            "application/vnd.jupyter.widget-view+json": {
              "model_id": "43c7b6e4ba864a1099f2de828a1f2554",
              "version_minor": 0,
              "version_major": 2
            },
            "text/plain": [
              "Downloading:   0%|          | 0.00/1.90k [00:00<?, ?B/s]"
            ]
          },
          "metadata": {}
        }
      ]
    },
    {
      "cell_type": "markdown",
      "metadata": {
        "id": "E1qZU5p-deqB"
      },
      "source": [
        "The model will return a sequence of logit vectors:\n",
        "$\\mathbf{y}_1, \\ldots, \\mathbf{y}_m$ with $\\mathbf{y}_1 = f_{\\theta}(x_1, \\ldots, x_n)[0]$ and $n >> m$.\n",
        "\n",
        "A logit vector $\\mathbf{y}_1$ contains the log-odds for each word in the vocabulary we defined earlier, thus $\\text{len}(\\mathbf{y}_i) =$ `config.vocab_size`. We are interested in the most likely prediction of the model and thus take the `argmax(...)` of the logits. Also, we transform the encoded labels back to the original string by replacing `-100` with the `pad_token_id` and decoding the ids while making sure that consecutive tokens are **not** grouped to the same token in CTC style ${}^1$."
      ]
    },
    {
      "cell_type": "code",
      "metadata": {
        "id": "1XZ-kjweyTy_"
      },
      "source": [
        "def compute_metrics(pred):\n",
        "    pred_logits = pred.predictions\n",
        "    pred_ids = np.argmax(pred_logits, axis=-1)\n",
        "\n",
        "    pred.label_ids[pred.label_ids == -100] = processor.tokenizer.pad_token_id\n",
        "\n",
        "    pred_str = processor.batch_decode(pred_ids)\n",
        "    # we do not want to group tokens when computing the metrics\n",
        "    label_str = processor.batch_decode(pred.label_ids, group_tokens=False)\n",
        "\n",
        "    wer = wer_metric.compute(predictions=pred_str, references=label_str)\n",
        "\n",
        "    return {\"wer\": wer}"
      ],
      "execution_count": null,
      "outputs": []
    },
    {
      "cell_type": "markdown",
      "metadata": {
        "id": "Xmgrx4bRwLIH"
      },
      "source": [
        "Now, we can load the pretrained checkpoint of [Wav2Vec2-XLS-R-300M](https://huggingface.co/facebook/wav2vec2-xls-r-300m). The tokenizer's `pad_token_id` must be to define the model's `pad_token_id` or in the case of `Wav2Vec2ForCTC` also CTC's *blank token* ${}^2$. To save GPU memory, we enable PyTorch's [gradient checkpointing](https://pytorch.org/docs/stable/checkpoint.html) and also set the loss reduction to \"*mean*\".\n",
        "\n",
        "Because the dataset is quite small (~6h of training data) and because Common Voice is quite noisy, fine-tuning Facebook's [wav2vec2-xls-r-300m checkpoint](https://huggingface.co/facebook/wav2vec2-xls-r-300m) seems to require some hyper-parameter tuning. Therefore, I had to play around a bit with different values for dropout, [SpecAugment](https://arxiv.org/abs/1904.08779)'s masking dropout rate, layer dropout, and the learning rate until training seemed to be stable enough. \n",
        "\n",
        "**Note**: When using this notebook to train XLS-R on another language of Common Voice those hyper-parameter settings might not work very well. Feel free to adapt those depending on your use case. "
      ]
    },
    {
      "cell_type": "code",
      "metadata": {
        "colab": {
          "base_uri": "https://localhost:8080/",
          "height": 244,
          "referenced_widgets": [
            "205d691639e24aaf935114baa24a7a0d",
            "e07706879a88468a8612c7f2c0d8eb7e",
            "760b1c9012f64414b600cf0c1478b57c",
            "5e4244375cd94e70bdf5a02e8864aed5",
            "257c1e3bd72449c4bf7998511cfea539",
            "aa7f95131f5c4ee0b39f13f27910c1ff",
            "6add158c13ee47949ec8111189e6e1f1",
            "ad43db9319294534950fe63925c0d007",
            "2324a438a1c2447d9b3ab9b06102bead",
            "4678ef25287041faa2bda9889fc54285",
            "74a0a02d291743bb91ad45b26739f096",
            "679cea3fdcbd450cb55d832e01b29e38",
            "dc304d7192a04a41a0235530e10fbfa6",
            "614e0aacfbe4477fb6ec35682decf9da",
            "7ff0b2843aa74d6285f4274c3d5234af",
            "2760cc2583794b77a954897bf3bc1b76",
            "f191f276461d4cbb912580c5c81666e8",
            "3e2e9b44e0314a2fa45f993a24cb65e5",
            "e5b7ae5fe1af48e6934a06c2ad04dd8a",
            "7a1da3349a7b44918ffc512a66206c65",
            "f689c72829ed44c6ae98627e854244fa",
            "77ad3adaf25f41f292f2a26da873866e"
          ]
        },
        "id": "e7cqAWIayn6w",
        "outputId": "8af35d59-3c61-4c8d-eb3f-47c69f70f872"
      },
      "source": [
        "from transformers import Wav2Vec2ForCTC\n",
        "\n",
        "model = Wav2Vec2ForCTC.from_pretrained(\n",
        "    \"facebook/wav2vec2-xls-r-300m\", \n",
        "    attention_dropout=0.0,\n",
        "    hidden_dropout=0.0,\n",
        "    feat_proj_dropout=0.0,\n",
        "    mask_time_prob=0.05,\n",
        "    layerdrop=0.0,\n",
        "    ctc_loss_reduction=\"mean\", \n",
        "    pad_token_id=processor.tokenizer.pad_token_id,\n",
        "    vocab_size=len(processor.tokenizer),\n",
        ")"
      ],
      "execution_count": null,
      "outputs": [
        {
          "output_type": "display_data",
          "data": {
            "application/vnd.jupyter.widget-view+json": {
              "model_id": "205d691639e24aaf935114baa24a7a0d",
              "version_minor": 0,
              "version_major": 2
            },
            "text/plain": [
              "Downloading:   0%|          | 0.00/1.53k [00:00<?, ?B/s]"
            ]
          },
          "metadata": {}
        },
        {
          "output_type": "display_data",
          "data": {
            "application/vnd.jupyter.widget-view+json": {
              "model_id": "679cea3fdcbd450cb55d832e01b29e38",
              "version_minor": 0,
              "version_major": 2
            },
            "text/plain": [
              "Downloading:   0%|          | 0.00/1.18G [00:00<?, ?B/s]"
            ]
          },
          "metadata": {}
        },
        {
          "output_type": "stream",
          "name": "stderr",
          "text": [
            "Some weights of the model checkpoint at facebook/wav2vec2-xls-r-300m were not used when initializing Wav2Vec2ForCTC: ['project_hid.weight', 'project_q.weight', 'quantizer.weight_proj.weight', 'quantizer.weight_proj.bias', 'quantizer.codevectors', 'project_hid.bias', 'project_q.bias']\n",
            "- This IS expected if you are initializing Wav2Vec2ForCTC from the checkpoint of a model trained on another task or with another architecture (e.g. initializing a BertForSequenceClassification model from a BertForPreTraining model).\n",
            "- This IS NOT expected if you are initializing Wav2Vec2ForCTC from the checkpoint of a model that you expect to be exactly identical (initializing a BertForSequenceClassification model from a BertForSequenceClassification model).\n",
            "Some weights of Wav2Vec2ForCTC were not initialized from the model checkpoint at facebook/wav2vec2-xls-r-300m and are newly initialized: ['lm_head.bias', 'lm_head.weight']\n",
            "You should probably TRAIN this model on a down-stream task to be able to use it for predictions and inference.\n"
          ]
        }
      ]
    },
    {
      "cell_type": "markdown",
      "metadata": {
        "id": "1DwR3XLSzGDD"
      },
      "source": [
        "The first component of XLS-R consists of a stack of CNN layers that are used to extract acoustically meaningful - but contextually independent - features from the raw speech signal. This part of the model has already been sufficiently trained during pretraining and as stated in the [paper](https://arxiv.org/pdf/2006.13979.pdf) does not need to be fine-tuned anymore. \n",
        "Thus, we can set the `requires_grad` to `False` for all parameters of the *feature extraction* part."
      ]
    },
    {
      "cell_type": "code",
      "metadata": {
        "id": "oGI8zObtZ3V0"
      },
      "source": [
        "model.freeze_feature_extractor()"
      ],
      "execution_count": null,
      "outputs": []
    },
    {
      "cell_type": "markdown",
      "metadata": {
        "id": "lD4aGhQM0K-D"
      },
      "source": [
        "In a final step, we define all parameters related to training. \n",
        "To give more explanation on some of the parameters:\n",
        "- `group_by_length` makes training more efficient by grouping training samples of similar input length into one batch. This can significantly speed up training time by heavily reducing the overall number of useless padding tokens that are passed through the model\n",
        "- `learning_rate` and `weight_decay` were heuristically tuned until fine-tuning has become stable. Note that those parameters strongly depend on the Common Voice dataset and might be suboptimal for other speech datasets.\n",
        "\n",
        "For more explanations on other parameters, one can take a look at the [docs](https://huggingface.co/transformers/master/main_classes/trainer.html?highlight=trainer#trainingarguments).\n",
        "\n",
        "During training, a checkpoint will be uploaded asynchronously to the hub every 400 training steps. It allows you to also play around with the demo widget even while your model is still training.\n",
        "\n",
        "**Note**: If one does not want to upload the model checkpoints to the hub, simply set `push_to_hub=False`."
      ]
    },
    {
      "cell_type": "code",
      "metadata": {
        "id": "KbeKSV7uzGPP"
      },
      "source": [
        "from transformers import TrainingArguments\n",
        "\n",
        "training_args = TrainingArguments(\n",
        "  output_dir=repo_name,\n",
        "  group_by_length=True,\n",
        "  per_device_train_batch_size=16,\n",
        "  gradient_accumulation_steps=2,\n",
        "  evaluation_strategy=\"steps\",\n",
        "  num_train_epochs=30,\n",
        "  gradient_checkpointing=True,\n",
        "  fp16=True,\n",
        "  save_steps=400,\n",
        "  eval_steps=400,\n",
        "  logging_steps=400,\n",
        "  learning_rate=3e-4,\n",
        "  warmup_steps=500,\n",
        "  save_total_limit=2,\n",
        "  push_to_hub=True,\n",
        ")"
      ],
      "execution_count": null,
      "outputs": []
    },
    {
      "cell_type": "markdown",
      "metadata": {
        "id": "OsW-WZcL1ZtN"
      },
      "source": [
        "Now, all instances can be passed to Trainer and we are ready to start training!"
      ]
    },
    {
      "cell_type": "code",
      "metadata": {
        "colab": {
          "base_uri": "https://localhost:8080/"
        },
        "id": "rY7vBmFCPFgC",
        "outputId": "4bfbe995-19fd-4ecd-cd51-7fb0e3479b29"
      },
      "source": [
        "from transformers import Trainer\n",
        "\n",
        "trainer = Trainer(\n",
        "    model=model,\n",
        "    data_collator=data_collator,\n",
        "    args=training_args,\n",
        "    compute_metrics=compute_metrics,\n",
        "    train_dataset=common_voice_train,\n",
        "    eval_dataset=common_voice_test,\n",
        "    tokenizer=processor.feature_extractor,\n",
        ")"
      ],
      "execution_count": null,
      "outputs": [
        {
          "output_type": "stream",
          "name": "stderr",
          "text": [
            "/usr/local/lib/python3.7/dist-packages/huggingface_hub/hf_api.py:718: FutureWarning: `create_repo` now takes `token` as an optional positional argument. Be sure to adapt your code!\n",
            "  FutureWarning,\n",
            "/content/wav2vec2-large-xls-r-300m-czech-colab is already a clone of https://huggingface.co/human/wav2vec2-large-xls-r-300m-czech-colab. Make sure you pull the latest changes with `repo.git_pull()`.\n",
            "Using amp fp16 backend\n"
          ]
        }
      ]
    },
    {
      "cell_type": "markdown",
      "metadata": {
        "id": "UoXBx1JAA0DX"
      },
      "source": [
        "\n",
        "\n",
        "---\n",
        "\n",
        "${}^1$ To allow models to become independent of the speaker rate, in CTC, consecutive tokens that are identical are simply grouped as a single token. However, the encoded labels should not be grouped when decoding since they don't correspond to the predicted tokens of the model, which is why the `group_tokens=False` parameter has to be passed. If we wouldn't pass this parameter a word like `\"hello\"` would incorrectly be encoded, and decoded as `\"helo\"`.\n",
        "\n",
        "${}^2$ The blank token allows the model to predict a word, such as `\"hello\"` by forcing it to insert the blank token between the two l's. A CTC-conform prediction of `\"hello\"` of our model would be `[PAD] [PAD] \"h\" \"e\" \"e\" \"l\" \"l\" [PAD] \"l\" \"o\" \"o\" [PAD]`."
      ]
    },
    {
      "cell_type": "markdown",
      "metadata": {
        "id": "rpvZHM1xReIW"
      },
      "source": [
        "### Training"
      ]
    },
    {
      "cell_type": "markdown",
      "metadata": {
        "id": "j-3oKSzZ1hGq"
      },
      "source": [
        "Training will take multiple hours depending on the GPU allocated to this notebook. While the trained model yields somewhat satisfying results on *Common Voice*'s test data of Turkish, it is by no means an optimally fine-tuned model. The purpose of this notebook is just to demonstrate how to fine-tune XLS-R on an ASR dataset.\n",
        "\n",
        "In case you want to use this google colab to fine-tune your model, you should make sure that your training doesn't stop due to inactivity. A simple hack to prevent this is to paste the following code into the console of this tab (*right mouse click -> inspect -> Console tab and insert code*)."
      ]
    },
    {
      "cell_type": "markdown",
      "metadata": {
        "id": "VYYAvgkW4P0m"
      },
      "source": [
        "```javascript\n",
        "function ConnectButton(){\n",
        "    console.log(\"Connect pushed\"); \n",
        "    document.querySelector(\"#top-toolbar > colab-connect-button\").shadowRoot.querySelector(\"#connect\").click() \n",
        "}\n",
        "setInterval(ConnectButton,60000);\n",
        "```"
      ]
    },
    {
      "cell_type": "markdown",
      "metadata": {
        "id": "7bGgLV2r0yvZ"
      },
      "source": [
        "Depending on what GPU was allocated to your google colab it might be possible that you are seeing an `\"out-of-memory\"` error here. In this case, it's probably best to reduce `per_device_train_batch_size` to 8 or even less and increase [`gradient_accumulation`](https://huggingface.co/transformers/master/main_classes/trainer.html#trainingarguments)."
      ]
    },
    {
      "cell_type": "code",
      "metadata": {
        "colab": {
          "background_save": true,
          "base_uri": "https://localhost:8080/",
          "height": 321
        },
        "id": "9fRr9TG5pGBl",
        "outputId": "f2523886-ffe2-4111-e3fa-46f0eb1919fc"
      },
      "source": [
        "trainer.train()"
      ],
      "execution_count": null,
      "outputs": [
        {
          "output_type": "stream",
          "name": "stderr",
          "text": [
            "The following columns in the training set  don't have a corresponding argument in `Wav2Vec2ForCTC.forward` and have been ignored: input_length.\n",
            "***** Running training *****\n",
            "  Num examples = 9773\n",
            "  Num Epochs = 30\n",
            "  Instantaneous batch size per device = 16\n",
            "  Total train batch size (w. parallel, distributed & accumulation) = 32\n",
            "  Gradient Accumulation steps = 2\n",
            "  Total optimization steps = 9150\n",
            "/usr/local/lib/python3.7/dist-packages/transformers/feature_extraction_utils.py:158: UserWarning: Creating a tensor from a list of numpy.ndarrays is extremely slow. Please consider converting the list to a single numpy.ndarray with numpy.array() before converting to a tensor. (Triggered internally at  ../torch/csrc/utils/tensor_new.cpp:201.)\n",
            "  tensor = as_tensor(value)\n",
            "/usr/local/lib/python3.7/dist-packages/transformers/models/wav2vec2/modeling_wav2vec2.py:882: UserWarning: __floordiv__ is deprecated, and its behavior will change in a future version of pytorch. It currently rounds toward 0 (like the 'trunc' function NOT 'floor'). This results in incorrect rounding for negative values. To keep the current behavior, use torch.div(a, b, rounding_mode='trunc'), or for actual floor division, use torch.div(a, b, rounding_mode='floor').\n",
            "  return (input_length - kernel_size) // stride + 1\n"
          ]
        },
        {
          "output_type": "display_data",
          "data": {
            "text/html": [
              "\n",
              "    <div>\n",
              "      \n",
              "      <progress value='14' max='9150' style='width:300px; height:20px; vertical-align: middle;'></progress>\n",
              "      [  14/9150 05:46 < 73:19:53, 0.03 it/s, Epoch 0.04/30]\n",
              "    </div>\n",
              "    <table border=\"1\" class=\"dataframe\">\n",
              "  <thead>\n",
              "    <tr style=\"text-align: left;\">\n",
              "      <th>Step</th>\n",
              "      <th>Training Loss</th>\n",
              "      <th>Validation Loss</th>\n",
              "    </tr>\n",
              "  </thead>\n",
              "  <tbody>\n",
              "  </tbody>\n",
              "</table><p>"
            ],
            "text/plain": [
              "<IPython.core.display.HTML object>"
            ]
          },
          "metadata": {}
        }
      ]
    },
    {
      "cell_type": "markdown",
      "metadata": {
        "id": "a9q4mgMZplr_"
      },
      "source": [
        "The training loss and validation WER go down nicely."
      ]
    },
    {
      "cell_type": "markdown",
      "metadata": {
        "id": "4Ya7WEy0pd13"
      },
      "source": [
        "You can now upload the result of the training to the 🤗 Hub, just execute this instruction:"
      ]
    },
    {
      "cell_type": "code",
      "metadata": {
        "colab": {
          "background_save": true,
          "referenced_widgets": [
            "2d2f71d2c70d466cb9a0d3317fb3095e",
            "2e894a5b95cb489db8b27c6617fd9533"
          ]
        },
        "id": "ArG1Thf6NBWm",
        "outputId": "62ef1c3d-786c-4e25-f9c5-4020e71aa298"
      },
      "source": [
        "trainer.push_to_hub()"
      ],
      "execution_count": null,
      "outputs": [
        {
          "name": "stderr",
          "output_type": "stream",
          "text": [
            "Saving model checkpoint to wav2vec2-large-xls-r-300m-turkish-colab\n",
            "Configuration saved in wav2vec2-large-xls-r-300m-turkish-colab/config.json\n",
            "Model weights saved in wav2vec2-large-xls-r-300m-turkish-colab/pytorch_model.bin\n",
            "Configuration saved in wav2vec2-large-xls-r-300m-turkish-colab/preprocessor_config.json\n",
            "Several commits (2) will be pushed upstream.\n",
            "The progress bars may be unreliable.\n"
          ]
        },
        {
          "data": {
            "application/vnd.jupyter.widget-view+json": {
              "model_id": "2d2f71d2c70d466cb9a0d3317fb3095e",
              "version_major": 2,
              "version_minor": 0
            },
            "text/plain": [
              "Upload file pytorch_model.bin:   0%|          | 3.35k/1.18G [00:00<?, ?B/s]"
            ]
          },
          "metadata": {},
          "output_type": "display_data"
        },
        {
          "data": {
            "application/vnd.jupyter.widget-view+json": {
              "model_id": "2e894a5b95cb489db8b27c6617fd9533",
              "version_major": 2,
              "version_minor": 0
            },
            "text/plain": [
              "Upload file runs/Nov12_14-33-48_c2d4142f9305/events.out.tfevents.1636727730.c2d4142f9305.1468.0:  41%|####1   …"
            ]
          },
          "metadata": {},
          "output_type": "display_data"
        },
        {
          "name": "stderr",
          "output_type": "stream",
          "text": [
            "To https://huggingface.co/patrickvonplaten/wav2vec2-large-xls-r-300m-turkish-colab\n",
            "   56ebe74..fe76946  main -> main\n",
            "\n",
            "Dropping the following result as it does not have all the necessary field:\n",
            "{'dataset': {'name': 'common_voice', 'type': 'common_voice', 'args': 'tr'}}\n",
            "To https://huggingface.co/patrickvonplaten/wav2vec2-large-xls-r-300m-turkish-colab\n",
            "   fe76946..5f0d67b  main -> main\n",
            "\n"
          ]
        },
        {
          "data": {
            "application/vnd.google.colaboratory.intrinsic+json": {
              "type": "string"
            },
            "text/plain": [
              "'https://huggingface.co/patrickvonplaten/wav2vec2-large-xls-r-300m-turkish-colab/commit/fe769461e4e2fb9534740e6c278a0cfabf268474'"
            ]
          },
          "execution_count": null,
          "metadata": {},
          "output_type": "execute_result"
        }
      ]
    },
    {
      "cell_type": "markdown",
      "metadata": {
        "id": "RHIVc44_fY2N"
      },
      "source": [
        "You can now share this model with all your friends, family, favorite pets: they can all load it with the identifier \"your-username/the-name-you-picked\" so for instance:"
      ]
    },
    {
      "cell_type": "markdown",
      "metadata": {
        "id": "5lWWIKyBpx1h"
      },
      "source": [
        "```python\n",
        "from transformers import AutoModelForCTC, Wav2Vec2Processor\n",
        "\n",
        "model = AutoModelForCTC.from_pretrained(\"patrickvonplaten/wav2vec2-large-xls-r-300m-tr-colab\")\n",
        "processor = Wav2Vec2Processor.from_pretrained(\"patrickvonplaten/wav2vec2-large-xls-r-300m-tr-colab\")\n",
        "```"
      ]
    },
    {
      "cell_type": "markdown",
      "metadata": {
        "id": "pmi1cX0fRBit"
      },
      "source": [
        "For more examples of how XLS-R can be fine-tuned, please take a look at the [official speech recognition examples](https://github.com/huggingface/transformers/tree/master/examples/pytorch/speech-recognition#examples)."
      ]
    },
    {
      "cell_type": "markdown",
      "metadata": {
        "id": "L8b8Qkoy3KyS"
      },
      "source": [
        "### Evaluation\n",
        "\n",
        "As a final check, let's load the model and verify that it indeed has learned to transcribe Turkish speech.\n",
        "\n",
        "Let's first load the pretrained checkpoint."
      ]
    },
    {
      "cell_type": "code",
      "metadata": {
        "colab": {
          "background_save": true
        },
        "id": "R351I9IQp_9D",
        "outputId": "f2a2ee99-7db6-4962-e140-0107054102d3"
      },
      "source": [
        "model = Wav2Vec2ForCTC.from_pretrained(repo_name).to(\"cuda\")\n",
        "processor = Wav2Vec2Processor.from_pretrained(repo_name)"
      ],
      "execution_count": null,
      "outputs": [
        {
          "name": "stderr",
          "output_type": "stream",
          "text": [
            "loading configuration file wav2vec2-large-xls-r-300m-turkish-colab/config.json\n",
            "Model config Wav2Vec2Config {\n",
            "  \"_name_or_path\": \"facebook/wav2vec2-xls-r-300m\",\n",
            "  \"activation_dropout\": 0.0,\n",
            "  \"apply_spec_augment\": true,\n",
            "  \"architectures\": [\n",
            "    \"Wav2Vec2ForCTC\"\n",
            "  ],\n",
            "  \"attention_dropout\": 0.0,\n",
            "  \"bos_token_id\": 1,\n",
            "  \"classifier_proj_size\": 256,\n",
            "  \"codevector_dim\": 768,\n",
            "  \"contrastive_logits_temperature\": 0.1,\n",
            "  \"conv_bias\": true,\n",
            "  \"conv_dim\": [\n",
            "    512,\n",
            "    512,\n",
            "    512,\n",
            "    512,\n",
            "    512,\n",
            "    512,\n",
            "    512\n",
            "  ],\n",
            "  \"conv_kernel\": [\n",
            "    10,\n",
            "    3,\n",
            "    3,\n",
            "    3,\n",
            "    3,\n",
            "    2,\n",
            "    2\n",
            "  ],\n",
            "  \"conv_stride\": [\n",
            "    5,\n",
            "    2,\n",
            "    2,\n",
            "    2,\n",
            "    2,\n",
            "    2,\n",
            "    2\n",
            "  ],\n",
            "  \"ctc_loss_reduction\": \"mean\",\n",
            "  \"ctc_zero_infinity\": false,\n",
            "  \"diversity_loss_weight\": 0.1,\n",
            "  \"do_stable_layer_norm\": true,\n",
            "  \"eos_token_id\": 2,\n",
            "  \"feat_extract_activation\": \"gelu\",\n",
            "  \"feat_extract_dropout\": 0.0,\n",
            "  \"feat_extract_norm\": \"layer\",\n",
            "  \"feat_proj_dropout\": 0.0,\n",
            "  \"feat_quantizer_dropout\": 0.0,\n",
            "  \"final_dropout\": 0.0,\n",
            "  \"gradient_checkpointing\": false,\n",
            "  \"hidden_act\": \"gelu\",\n",
            "  \"hidden_dropout\": 0.0,\n",
            "  \"hidden_size\": 1024,\n",
            "  \"initializer_range\": 0.02,\n",
            "  \"intermediate_size\": 4096,\n",
            "  \"layer_norm_eps\": 1e-05,\n",
            "  \"layerdrop\": 0.0,\n",
            "  \"mask_feature_length\": 10,\n",
            "  \"mask_feature_prob\": 0.0,\n",
            "  \"mask_time_length\": 10,\n",
            "  \"mask_time_prob\": 0.05,\n",
            "  \"model_type\": \"wav2vec2\",\n",
            "  \"num_attention_heads\": 16,\n",
            "  \"num_codevector_groups\": 2,\n",
            "  \"num_codevectors_per_group\": 320,\n",
            "  \"num_conv_pos_embedding_groups\": 16,\n",
            "  \"num_conv_pos_embeddings\": 128,\n",
            "  \"num_feat_extract_layers\": 7,\n",
            "  \"num_hidden_layers\": 24,\n",
            "  \"num_negatives\": 100,\n",
            "  \"pad_token_id\": 36,\n",
            "  \"proj_codevector_dim\": 768,\n",
            "  \"torch_dtype\": \"float32\",\n",
            "  \"transformers_version\": \"4.11.3\",\n",
            "  \"use_weighted_layer_sum\": false,\n",
            "  \"vocab_size\": 39\n",
            "}\n",
            "\n",
            "loading weights file wav2vec2-large-xls-r-300m-turkish-colab/pytorch_model.bin\n",
            "All model checkpoint weights were used when initializing Wav2Vec2ForCTC.\n",
            "\n",
            "All the weights of Wav2Vec2ForCTC were initialized from the model checkpoint at wav2vec2-large-xls-r-300m-turkish-colab.\n",
            "If your task is similar to the task the model of the checkpoint was trained on, you can already use Wav2Vec2ForCTC for predictions without further training.\n",
            "loading feature extractor configuration file wav2vec2-large-xls-r-300m-turkish-colab/preprocessor_config.json\n",
            "Feature extractor Wav2Vec2FeatureExtractor {\n",
            "  \"do_normalize\": true,\n",
            "  \"feature_extractor_type\": \"Wav2Vec2FeatureExtractor\",\n",
            "  \"feature_size\": 1,\n",
            "  \"padding_side\": \"right\",\n",
            "  \"padding_value\": 0.0,\n",
            "  \"return_attention_mask\": true,\n",
            "  \"sampling_rate\": 16000\n",
            "}\n",
            "\n",
            "Didn't find file wav2vec2-large-xls-r-300m-turkish-colab/tokenizer.json. We won't load it.\n",
            "loading file wav2vec2-large-xls-r-300m-turkish-colab/vocab.json\n",
            "loading file wav2vec2-large-xls-r-300m-turkish-colab/tokenizer_config.json\n",
            "loading file wav2vec2-large-xls-r-300m-turkish-colab/added_tokens.json\n",
            "loading file wav2vec2-large-xls-r-300m-turkish-colab/special_tokens_map.json\n",
            "loading file None\n",
            "Adding <s> to the vocabulary\n",
            "Adding </s> to the vocabulary\n"
          ]
        }
      ]
    },
    {
      "cell_type": "markdown",
      "metadata": {
        "id": "jD7TZ1YS3S_K"
      },
      "source": [
        "\n",
        "Now, we will just take the first example of the test set, run it through the model and take the `argmax(...)` of the logits to retrieve the predicted token ids."
      ]
    },
    {
      "cell_type": "code",
      "metadata": {
        "colab": {
          "background_save": true
        },
        "id": "pax07TnL3WZn",
        "outputId": "867787ff-0cb7-41e9-f926-96f7b53e7134"
      },
      "source": [
        "input_dict = processor(common_voice_test[0][\"input_values\"], return_tensors=\"pt\", padding=True)\n",
        "\n",
        "logits = model(input_dict.input_values.to(\"cuda\")).logits\n",
        "\n",
        "pred_ids = torch.argmax(logits, dim=-1)[0]"
      ],
      "execution_count": null,
      "outputs": [
        {
          "name": "stderr",
          "output_type": "stream",
          "text": [
            "It is strongly recommended to pass the ``sampling_rate`` argument to this function.Failing to do so can result in silent errors that might be hard to debug.\n"
          ]
        }
      ]
    },
    {
      "cell_type": "markdown",
      "metadata": {
        "id": "7nkzSQu53Zs2"
      },
      "source": [
        "We adapted `common_voice_test` quite a bit so that the dataset instance does not contain the original sentence label anymore. Thus, we re-use the original dataset to get the label of the first example."
      ]
    },
    {
      "cell_type": "code",
      "metadata": {
        "colab": {
          "background_save": true,
          "referenced_widgets": [
            "54097a6c744849128d7cc3da8aad6609",
            "b8827ecbec9e44f09216f62c1ee12840",
            "8728bb32478240b7abe576375b01e640",
            "19b8a530352a423794395979e6415bea",
            "5fc8ec04870e4bb7b63b20844c355ab6"
          ]
        },
        "id": "fe2AE-2xqKHx",
        "outputId": "1d8321b3-4f41-4d71-e74e-f33f32a7b261"
      },
      "source": [
        "common_voice_test_transcription = load_dataset(\"common_voice\", \"tr\", data_dir=\"./cv-corpus-6.1-2020-12-11\", split=\"test\")"
      ],
      "execution_count": null,
      "outputs": [
        {
          "name": "stderr",
          "output_type": "stream",
          "text": [
            "Using custom data configuration tr-ad9f7b76efa9f3a0\n"
          ]
        },
        {
          "name": "stdout",
          "output_type": "stream",
          "text": [
            "Downloading and preparing dataset common_voice/tr (download: 592.09 MiB, generated: 2.89 MiB, post-processed: Unknown size, total: 594.98 MiB) to /root/.cache/huggingface/datasets/common_voice/tr-ad9f7b76efa9f3a0/6.1.0/f7a9d973839b7706e9e281c19b7e512f31badf3c0fdbd21c671f3c4bf9acf3b9...\n"
          ]
        },
        {
          "data": {
            "application/vnd.jupyter.widget-view+json": {
              "model_id": "54097a6c744849128d7cc3da8aad6609",
              "version_major": 2,
              "version_minor": 0
            },
            "text/plain": [
              "0 examples [00:00, ? examples/s]"
            ]
          },
          "metadata": {},
          "output_type": "display_data"
        },
        {
          "data": {
            "application/vnd.jupyter.widget-view+json": {
              "model_id": "b8827ecbec9e44f09216f62c1ee12840",
              "version_major": 2,
              "version_minor": 0
            },
            "text/plain": [
              "0 examples [00:00, ? examples/s]"
            ]
          },
          "metadata": {},
          "output_type": "display_data"
        },
        {
          "data": {
            "application/vnd.jupyter.widget-view+json": {
              "model_id": "8728bb32478240b7abe576375b01e640",
              "version_major": 2,
              "version_minor": 0
            },
            "text/plain": [
              "0 examples [00:00, ? examples/s]"
            ]
          },
          "metadata": {},
          "output_type": "display_data"
        },
        {
          "data": {
            "application/vnd.jupyter.widget-view+json": {
              "model_id": "19b8a530352a423794395979e6415bea",
              "version_major": 2,
              "version_minor": 0
            },
            "text/plain": [
              "0 examples [00:00, ? examples/s]"
            ]
          },
          "metadata": {},
          "output_type": "display_data"
        },
        {
          "data": {
            "application/vnd.jupyter.widget-view+json": {
              "model_id": "5fc8ec04870e4bb7b63b20844c355ab6",
              "version_major": 2,
              "version_minor": 0
            },
            "text/plain": [
              "0 examples [00:00, ? examples/s]"
            ]
          },
          "metadata": {},
          "output_type": "display_data"
        },
        {
          "name": "stdout",
          "output_type": "stream",
          "text": [
            "Dataset common_voice downloaded and prepared to /root/.cache/huggingface/datasets/common_voice/tr-ad9f7b76efa9f3a0/6.1.0/f7a9d973839b7706e9e281c19b7e512f31badf3c0fdbd21c671f3c4bf9acf3b9. Subsequent calls will reuse this data.\n"
          ]
        }
      ]
    },
    {
      "cell_type": "markdown",
      "metadata": {
        "id": "epu8kCQZ3h70"
      },
      "source": [
        "\n",
        "Finally, we can decode the example."
      ]
    },
    {
      "cell_type": "code",
      "metadata": {
        "colab": {
          "background_save": true
        },
        "id": "K4xWqmk_qMn0",
        "outputId": "d9e40b3c-f02a-48a1-d081-6d7e8b37dcaf"
      },
      "source": [
        "print(\"Prediction:\")\n",
        "print(processor.decode(pred_ids))\n",
        "\n",
        "print(\"\\nReference:\")\n",
        "print(common_voice_test_transcription[0][\"sentence\"].lower())"
      ],
      "execution_count": null,
      "outputs": [
        {
          "name": "stdout",
          "output_type": "stream",
          "text": [
            "Prediction:\n",
            "ha ta küçük şeyleri için bir büyük biş şeylir koğoluyor ve yeneküçük şeyler için bir birmizi incilkiyoruz\n",
            "\n",
            "Reference:\n",
            "hayatta küçük şeyleri kovalıyor ve yine küçük şeyler için birbirimizi incitiyoruz.\n"
          ]
        }
      ]
    },
    {
      "cell_type": "markdown",
      "metadata": {
        "id": "HwhyoMml3oOT"
      },
      "source": [
        "Alright! The transcription can definitely be recognized from our prediction, but it is not perfect yet. Training the model a bit longer, spending more time on the data preprocessing, and especially using a language model for decoding would certainly improve the model's overall performance.\n",
        "\n",
        "For a demonstration model on a low-resource language, the results are quite acceptable however 🤗."
      ]
    }
  ]
}